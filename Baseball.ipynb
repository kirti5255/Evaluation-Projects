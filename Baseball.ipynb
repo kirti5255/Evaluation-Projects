{
 "cells": [
  {
   "cell_type": "code",
   "execution_count": 1,
   "id": "19d94bc5",
   "metadata": {},
   "outputs": [],
   "source": [
    "#importing libraries\n",
    "import pandas as pd\n",
    "import numpy as np\n",
    "import seaborn as sns\n",
    "import matplotlib.pyplot as plt"
   ]
  },
  {
   "cell_type": "code",
   "execution_count": 2,
   "id": "2cba6f23",
   "metadata": {},
   "outputs": [
    {
     "data": {
      "text/html": [
       "<div>\n",
       "<style scoped>\n",
       "    .dataframe tbody tr th:only-of-type {\n",
       "        vertical-align: middle;\n",
       "    }\n",
       "\n",
       "    .dataframe tbody tr th {\n",
       "        vertical-align: top;\n",
       "    }\n",
       "\n",
       "    .dataframe thead th {\n",
       "        text-align: right;\n",
       "    }\n",
       "</style>\n",
       "<table border=\"1\" class=\"dataframe\">\n",
       "  <thead>\n",
       "    <tr style=\"text-align: right;\">\n",
       "      <th></th>\n",
       "      <th>W</th>\n",
       "      <th>R</th>\n",
       "      <th>AB</th>\n",
       "      <th>H</th>\n",
       "      <th>2B</th>\n",
       "      <th>3B</th>\n",
       "      <th>HR</th>\n",
       "      <th>BB</th>\n",
       "      <th>SO</th>\n",
       "      <th>SB</th>\n",
       "      <th>RA</th>\n",
       "      <th>ER</th>\n",
       "      <th>ERA</th>\n",
       "      <th>CG</th>\n",
       "      <th>SHO</th>\n",
       "      <th>SV</th>\n",
       "      <th>E</th>\n",
       "    </tr>\n",
       "  </thead>\n",
       "  <tbody>\n",
       "    <tr>\n",
       "      <th>0</th>\n",
       "      <td>95</td>\n",
       "      <td>724</td>\n",
       "      <td>5575</td>\n",
       "      <td>1497</td>\n",
       "      <td>300</td>\n",
       "      <td>42</td>\n",
       "      <td>139</td>\n",
       "      <td>383</td>\n",
       "      <td>973</td>\n",
       "      <td>104</td>\n",
       "      <td>641</td>\n",
       "      <td>601</td>\n",
       "      <td>3.73</td>\n",
       "      <td>2</td>\n",
       "      <td>8</td>\n",
       "      <td>56</td>\n",
       "      <td>88</td>\n",
       "    </tr>\n",
       "    <tr>\n",
       "      <th>1</th>\n",
       "      <td>83</td>\n",
       "      <td>696</td>\n",
       "      <td>5467</td>\n",
       "      <td>1349</td>\n",
       "      <td>277</td>\n",
       "      <td>44</td>\n",
       "      <td>156</td>\n",
       "      <td>439</td>\n",
       "      <td>1264</td>\n",
       "      <td>70</td>\n",
       "      <td>700</td>\n",
       "      <td>653</td>\n",
       "      <td>4.07</td>\n",
       "      <td>2</td>\n",
       "      <td>12</td>\n",
       "      <td>45</td>\n",
       "      <td>86</td>\n",
       "    </tr>\n",
       "    <tr>\n",
       "      <th>2</th>\n",
       "      <td>81</td>\n",
       "      <td>669</td>\n",
       "      <td>5439</td>\n",
       "      <td>1395</td>\n",
       "      <td>303</td>\n",
       "      <td>29</td>\n",
       "      <td>141</td>\n",
       "      <td>533</td>\n",
       "      <td>1157</td>\n",
       "      <td>86</td>\n",
       "      <td>640</td>\n",
       "      <td>584</td>\n",
       "      <td>3.67</td>\n",
       "      <td>11</td>\n",
       "      <td>10</td>\n",
       "      <td>38</td>\n",
       "      <td>79</td>\n",
       "    </tr>\n",
       "    <tr>\n",
       "      <th>3</th>\n",
       "      <td>76</td>\n",
       "      <td>622</td>\n",
       "      <td>5533</td>\n",
       "      <td>1381</td>\n",
       "      <td>260</td>\n",
       "      <td>27</td>\n",
       "      <td>136</td>\n",
       "      <td>404</td>\n",
       "      <td>1231</td>\n",
       "      <td>68</td>\n",
       "      <td>701</td>\n",
       "      <td>643</td>\n",
       "      <td>3.98</td>\n",
       "      <td>7</td>\n",
       "      <td>9</td>\n",
       "      <td>37</td>\n",
       "      <td>101</td>\n",
       "    </tr>\n",
       "    <tr>\n",
       "      <th>4</th>\n",
       "      <td>74</td>\n",
       "      <td>689</td>\n",
       "      <td>5605</td>\n",
       "      <td>1515</td>\n",
       "      <td>289</td>\n",
       "      <td>49</td>\n",
       "      <td>151</td>\n",
       "      <td>455</td>\n",
       "      <td>1259</td>\n",
       "      <td>83</td>\n",
       "      <td>803</td>\n",
       "      <td>746</td>\n",
       "      <td>4.64</td>\n",
       "      <td>7</td>\n",
       "      <td>12</td>\n",
       "      <td>35</td>\n",
       "      <td>86</td>\n",
       "    </tr>\n",
       "  </tbody>\n",
       "</table>\n",
       "</div>"
      ],
      "text/plain": [
       "    W    R    AB     H   2B  3B   HR   BB    SO   SB   RA   ER   ERA  CG  SHO  \\\n",
       "0  95  724  5575  1497  300  42  139  383   973  104  641  601  3.73   2    8   \n",
       "1  83  696  5467  1349  277  44  156  439  1264   70  700  653  4.07   2   12   \n",
       "2  81  669  5439  1395  303  29  141  533  1157   86  640  584  3.67  11   10   \n",
       "3  76  622  5533  1381  260  27  136  404  1231   68  701  643  3.98   7    9   \n",
       "4  74  689  5605  1515  289  49  151  455  1259   83  803  746  4.64   7   12   \n",
       "\n",
       "   SV    E  \n",
       "0  56   88  \n",
       "1  45   86  \n",
       "2  38   79  \n",
       "3  37  101  \n",
       "4  35   86  "
      ]
     },
     "execution_count": 2,
     "metadata": {},
     "output_type": "execute_result"
    }
   ],
   "source": [
    "baseball=pd.read_csv('baseball.csv')\n",
    "baseball.head()"
   ]
  },
  {
   "cell_type": "markdown",
   "id": "03b4c2f1",
   "metadata": {},
   "source": [
    "# PERFORMING EDA"
   ]
  },
  {
   "cell_type": "code",
   "execution_count": 3,
   "id": "24c5c2b1",
   "metadata": {},
   "outputs": [],
   "source": [
    "#creating a data frame\n",
    "df=pd.DataFrame(baseball)"
   ]
  },
  {
   "cell_type": "code",
   "execution_count": 4,
   "id": "fae4791a",
   "metadata": {},
   "outputs": [],
   "source": [
    "#the column names do not give the clear information about the data, hence renaming the column names\n",
    "df.rename(columns = {'W':'Wins', 'R':'Runs Scored', 'AB':'At Bat', 'H':'Hits','2B':'Double', '3B':'Triple', 'HR':'Home Runs', 'BB': 'Walks', 'SO': 'Strike Out', 'SB': 'Stolen Base', 'RA': 'Runs Allowed', 'ER': 'Earned Runs', 'ERA': 'Earned Run Average', 'CG': 'Complete Games', 'SHO': 'Shout Outs', 'SV': 'Saves', 'E': 'Errors'  }, inplace = True)"
   ]
  },
  {
   "cell_type": "code",
   "execution_count": 5,
   "id": "e51ba633",
   "metadata": {},
   "outputs": [
    {
     "data": {
      "text/html": [
       "<div>\n",
       "<style scoped>\n",
       "    .dataframe tbody tr th:only-of-type {\n",
       "        vertical-align: middle;\n",
       "    }\n",
       "\n",
       "    .dataframe tbody tr th {\n",
       "        vertical-align: top;\n",
       "    }\n",
       "\n",
       "    .dataframe thead th {\n",
       "        text-align: right;\n",
       "    }\n",
       "</style>\n",
       "<table border=\"1\" class=\"dataframe\">\n",
       "  <thead>\n",
       "    <tr style=\"text-align: right;\">\n",
       "      <th></th>\n",
       "      <th>Wins</th>\n",
       "      <th>Runs Scored</th>\n",
       "      <th>At Bat</th>\n",
       "      <th>Hits</th>\n",
       "      <th>Double</th>\n",
       "      <th>Triple</th>\n",
       "      <th>Home Runs</th>\n",
       "      <th>Walks</th>\n",
       "      <th>Strike Out</th>\n",
       "      <th>Stolen Base</th>\n",
       "      <th>Runs Allowed</th>\n",
       "      <th>Earned Runs</th>\n",
       "      <th>Earned Run Average</th>\n",
       "      <th>Complete Games</th>\n",
       "      <th>Shout Outs</th>\n",
       "      <th>Saves</th>\n",
       "      <th>Errors</th>\n",
       "    </tr>\n",
       "  </thead>\n",
       "  <tbody>\n",
       "    <tr>\n",
       "      <th>0</th>\n",
       "      <td>95</td>\n",
       "      <td>724</td>\n",
       "      <td>5575</td>\n",
       "      <td>1497</td>\n",
       "      <td>300</td>\n",
       "      <td>42</td>\n",
       "      <td>139</td>\n",
       "      <td>383</td>\n",
       "      <td>973</td>\n",
       "      <td>104</td>\n",
       "      <td>641</td>\n",
       "      <td>601</td>\n",
       "      <td>3.73</td>\n",
       "      <td>2</td>\n",
       "      <td>8</td>\n",
       "      <td>56</td>\n",
       "      <td>88</td>\n",
       "    </tr>\n",
       "    <tr>\n",
       "      <th>1</th>\n",
       "      <td>83</td>\n",
       "      <td>696</td>\n",
       "      <td>5467</td>\n",
       "      <td>1349</td>\n",
       "      <td>277</td>\n",
       "      <td>44</td>\n",
       "      <td>156</td>\n",
       "      <td>439</td>\n",
       "      <td>1264</td>\n",
       "      <td>70</td>\n",
       "      <td>700</td>\n",
       "      <td>653</td>\n",
       "      <td>4.07</td>\n",
       "      <td>2</td>\n",
       "      <td>12</td>\n",
       "      <td>45</td>\n",
       "      <td>86</td>\n",
       "    </tr>\n",
       "    <tr>\n",
       "      <th>2</th>\n",
       "      <td>81</td>\n",
       "      <td>669</td>\n",
       "      <td>5439</td>\n",
       "      <td>1395</td>\n",
       "      <td>303</td>\n",
       "      <td>29</td>\n",
       "      <td>141</td>\n",
       "      <td>533</td>\n",
       "      <td>1157</td>\n",
       "      <td>86</td>\n",
       "      <td>640</td>\n",
       "      <td>584</td>\n",
       "      <td>3.67</td>\n",
       "      <td>11</td>\n",
       "      <td>10</td>\n",
       "      <td>38</td>\n",
       "      <td>79</td>\n",
       "    </tr>\n",
       "    <tr>\n",
       "      <th>3</th>\n",
       "      <td>76</td>\n",
       "      <td>622</td>\n",
       "      <td>5533</td>\n",
       "      <td>1381</td>\n",
       "      <td>260</td>\n",
       "      <td>27</td>\n",
       "      <td>136</td>\n",
       "      <td>404</td>\n",
       "      <td>1231</td>\n",
       "      <td>68</td>\n",
       "      <td>701</td>\n",
       "      <td>643</td>\n",
       "      <td>3.98</td>\n",
       "      <td>7</td>\n",
       "      <td>9</td>\n",
       "      <td>37</td>\n",
       "      <td>101</td>\n",
       "    </tr>\n",
       "    <tr>\n",
       "      <th>4</th>\n",
       "      <td>74</td>\n",
       "      <td>689</td>\n",
       "      <td>5605</td>\n",
       "      <td>1515</td>\n",
       "      <td>289</td>\n",
       "      <td>49</td>\n",
       "      <td>151</td>\n",
       "      <td>455</td>\n",
       "      <td>1259</td>\n",
       "      <td>83</td>\n",
       "      <td>803</td>\n",
       "      <td>746</td>\n",
       "      <td>4.64</td>\n",
       "      <td>7</td>\n",
       "      <td>12</td>\n",
       "      <td>35</td>\n",
       "      <td>86</td>\n",
       "    </tr>\n",
       "    <tr>\n",
       "      <th>5</th>\n",
       "      <td>93</td>\n",
       "      <td>891</td>\n",
       "      <td>5509</td>\n",
       "      <td>1480</td>\n",
       "      <td>308</td>\n",
       "      <td>17</td>\n",
       "      <td>232</td>\n",
       "      <td>570</td>\n",
       "      <td>1151</td>\n",
       "      <td>88</td>\n",
       "      <td>670</td>\n",
       "      <td>609</td>\n",
       "      <td>3.80</td>\n",
       "      <td>7</td>\n",
       "      <td>10</td>\n",
       "      <td>34</td>\n",
       "      <td>88</td>\n",
       "    </tr>\n",
       "    <tr>\n",
       "      <th>6</th>\n",
       "      <td>87</td>\n",
       "      <td>764</td>\n",
       "      <td>5567</td>\n",
       "      <td>1397</td>\n",
       "      <td>272</td>\n",
       "      <td>19</td>\n",
       "      <td>212</td>\n",
       "      <td>554</td>\n",
       "      <td>1227</td>\n",
       "      <td>63</td>\n",
       "      <td>698</td>\n",
       "      <td>652</td>\n",
       "      <td>4.03</td>\n",
       "      <td>3</td>\n",
       "      <td>4</td>\n",
       "      <td>48</td>\n",
       "      <td>93</td>\n",
       "    </tr>\n",
       "    <tr>\n",
       "      <th>7</th>\n",
       "      <td>81</td>\n",
       "      <td>713</td>\n",
       "      <td>5485</td>\n",
       "      <td>1370</td>\n",
       "      <td>246</td>\n",
       "      <td>20</td>\n",
       "      <td>217</td>\n",
       "      <td>418</td>\n",
       "      <td>1331</td>\n",
       "      <td>44</td>\n",
       "      <td>693</td>\n",
       "      <td>646</td>\n",
       "      <td>4.05</td>\n",
       "      <td>0</td>\n",
       "      <td>10</td>\n",
       "      <td>43</td>\n",
       "      <td>77</td>\n",
       "    </tr>\n",
       "    <tr>\n",
       "      <th>8</th>\n",
       "      <td>80</td>\n",
       "      <td>644</td>\n",
       "      <td>5485</td>\n",
       "      <td>1383</td>\n",
       "      <td>278</td>\n",
       "      <td>32</td>\n",
       "      <td>167</td>\n",
       "      <td>436</td>\n",
       "      <td>1310</td>\n",
       "      <td>87</td>\n",
       "      <td>642</td>\n",
       "      <td>604</td>\n",
       "      <td>3.74</td>\n",
       "      <td>1</td>\n",
       "      <td>12</td>\n",
       "      <td>60</td>\n",
       "      <td>95</td>\n",
       "    </tr>\n",
       "    <tr>\n",
       "      <th>9</th>\n",
       "      <td>78</td>\n",
       "      <td>748</td>\n",
       "      <td>5640</td>\n",
       "      <td>1495</td>\n",
       "      <td>294</td>\n",
       "      <td>33</td>\n",
       "      <td>161</td>\n",
       "      <td>478</td>\n",
       "      <td>1148</td>\n",
       "      <td>71</td>\n",
       "      <td>753</td>\n",
       "      <td>694</td>\n",
       "      <td>4.31</td>\n",
       "      <td>3</td>\n",
       "      <td>10</td>\n",
       "      <td>40</td>\n",
       "      <td>97</td>\n",
       "    </tr>\n",
       "    <tr>\n",
       "      <th>10</th>\n",
       "      <td>88</td>\n",
       "      <td>751</td>\n",
       "      <td>5511</td>\n",
       "      <td>1419</td>\n",
       "      <td>279</td>\n",
       "      <td>32</td>\n",
       "      <td>172</td>\n",
       "      <td>503</td>\n",
       "      <td>1233</td>\n",
       "      <td>101</td>\n",
       "      <td>733</td>\n",
       "      <td>680</td>\n",
       "      <td>4.24</td>\n",
       "      <td>5</td>\n",
       "      <td>9</td>\n",
       "      <td>45</td>\n",
       "      <td>119</td>\n",
       "    </tr>\n",
       "    <tr>\n",
       "      <th>11</th>\n",
       "      <td>86</td>\n",
       "      <td>729</td>\n",
       "      <td>5459</td>\n",
       "      <td>1363</td>\n",
       "      <td>278</td>\n",
       "      <td>26</td>\n",
       "      <td>230</td>\n",
       "      <td>486</td>\n",
       "      <td>1392</td>\n",
       "      <td>121</td>\n",
       "      <td>618</td>\n",
       "      <td>572</td>\n",
       "      <td>3.57</td>\n",
       "      <td>5</td>\n",
       "      <td>13</td>\n",
       "      <td>39</td>\n",
       "      <td>85</td>\n",
       "    </tr>\n",
       "    <tr>\n",
       "      <th>12</th>\n",
       "      <td>85</td>\n",
       "      <td>661</td>\n",
       "      <td>5417</td>\n",
       "      <td>1331</td>\n",
       "      <td>243</td>\n",
       "      <td>21</td>\n",
       "      <td>176</td>\n",
       "      <td>435</td>\n",
       "      <td>1150</td>\n",
       "      <td>52</td>\n",
       "      <td>675</td>\n",
       "      <td>630</td>\n",
       "      <td>3.94</td>\n",
       "      <td>2</td>\n",
       "      <td>12</td>\n",
       "      <td>46</td>\n",
       "      <td>93</td>\n",
       "    </tr>\n",
       "    <tr>\n",
       "      <th>13</th>\n",
       "      <td>76</td>\n",
       "      <td>656</td>\n",
       "      <td>5544</td>\n",
       "      <td>1379</td>\n",
       "      <td>262</td>\n",
       "      <td>22</td>\n",
       "      <td>198</td>\n",
       "      <td>478</td>\n",
       "      <td>1336</td>\n",
       "      <td>69</td>\n",
       "      <td>726</td>\n",
       "      <td>677</td>\n",
       "      <td>4.16</td>\n",
       "      <td>6</td>\n",
       "      <td>12</td>\n",
       "      <td>45</td>\n",
       "      <td>94</td>\n",
       "    </tr>\n",
       "    <tr>\n",
       "      <th>14</th>\n",
       "      <td>68</td>\n",
       "      <td>694</td>\n",
       "      <td>5600</td>\n",
       "      <td>1405</td>\n",
       "      <td>277</td>\n",
       "      <td>46</td>\n",
       "      <td>146</td>\n",
       "      <td>475</td>\n",
       "      <td>1119</td>\n",
       "      <td>78</td>\n",
       "      <td>729</td>\n",
       "      <td>664</td>\n",
       "      <td>4.14</td>\n",
       "      <td>5</td>\n",
       "      <td>15</td>\n",
       "      <td>28</td>\n",
       "      <td>126</td>\n",
       "    </tr>\n",
       "    <tr>\n",
       "      <th>15</th>\n",
       "      <td>100</td>\n",
       "      <td>647</td>\n",
       "      <td>5484</td>\n",
       "      <td>1386</td>\n",
       "      <td>288</td>\n",
       "      <td>39</td>\n",
       "      <td>137</td>\n",
       "      <td>506</td>\n",
       "      <td>1267</td>\n",
       "      <td>69</td>\n",
       "      <td>525</td>\n",
       "      <td>478</td>\n",
       "      <td>2.94</td>\n",
       "      <td>1</td>\n",
       "      <td>15</td>\n",
       "      <td>62</td>\n",
       "      <td>96</td>\n",
       "    </tr>\n",
       "    <tr>\n",
       "      <th>16</th>\n",
       "      <td>98</td>\n",
       "      <td>697</td>\n",
       "      <td>5631</td>\n",
       "      <td>1462</td>\n",
       "      <td>292</td>\n",
       "      <td>27</td>\n",
       "      <td>140</td>\n",
       "      <td>461</td>\n",
       "      <td>1322</td>\n",
       "      <td>98</td>\n",
       "      <td>596</td>\n",
       "      <td>532</td>\n",
       "      <td>3.21</td>\n",
       "      <td>0</td>\n",
       "      <td>13</td>\n",
       "      <td>54</td>\n",
       "      <td>122</td>\n",
       "    </tr>\n",
       "    <tr>\n",
       "      <th>17</th>\n",
       "      <td>97</td>\n",
       "      <td>689</td>\n",
       "      <td>5491</td>\n",
       "      <td>1341</td>\n",
       "      <td>272</td>\n",
       "      <td>30</td>\n",
       "      <td>171</td>\n",
       "      <td>567</td>\n",
       "      <td>1518</td>\n",
       "      <td>95</td>\n",
       "      <td>608</td>\n",
       "      <td>546</td>\n",
       "      <td>3.36</td>\n",
       "      <td>6</td>\n",
       "      <td>21</td>\n",
       "      <td>48</td>\n",
       "      <td>111</td>\n",
       "    </tr>\n",
       "    <tr>\n",
       "      <th>18</th>\n",
       "      <td>68</td>\n",
       "      <td>655</td>\n",
       "      <td>5480</td>\n",
       "      <td>1378</td>\n",
       "      <td>274</td>\n",
       "      <td>34</td>\n",
       "      <td>145</td>\n",
       "      <td>412</td>\n",
       "      <td>1299</td>\n",
       "      <td>84</td>\n",
       "      <td>737</td>\n",
       "      <td>682</td>\n",
       "      <td>4.28</td>\n",
       "      <td>1</td>\n",
       "      <td>7</td>\n",
       "      <td>40</td>\n",
       "      <td>116</td>\n",
       "    </tr>\n",
       "    <tr>\n",
       "      <th>19</th>\n",
       "      <td>64</td>\n",
       "      <td>640</td>\n",
       "      <td>5571</td>\n",
       "      <td>1382</td>\n",
       "      <td>257</td>\n",
       "      <td>27</td>\n",
       "      <td>167</td>\n",
       "      <td>496</td>\n",
       "      <td>1255</td>\n",
       "      <td>134</td>\n",
       "      <td>754</td>\n",
       "      <td>700</td>\n",
       "      <td>4.33</td>\n",
       "      <td>2</td>\n",
       "      <td>8</td>\n",
       "      <td>35</td>\n",
       "      <td>90</td>\n",
       "    </tr>\n",
       "    <tr>\n",
       "      <th>20</th>\n",
       "      <td>90</td>\n",
       "      <td>683</td>\n",
       "      <td>5527</td>\n",
       "      <td>1351</td>\n",
       "      <td>295</td>\n",
       "      <td>17</td>\n",
       "      <td>177</td>\n",
       "      <td>488</td>\n",
       "      <td>1290</td>\n",
       "      <td>51</td>\n",
       "      <td>613</td>\n",
       "      <td>557</td>\n",
       "      <td>3.43</td>\n",
       "      <td>1</td>\n",
       "      <td>14</td>\n",
       "      <td>50</td>\n",
       "      <td>88</td>\n",
       "    </tr>\n",
       "    <tr>\n",
       "      <th>21</th>\n",
       "      <td>83</td>\n",
       "      <td>703</td>\n",
       "      <td>5428</td>\n",
       "      <td>1363</td>\n",
       "      <td>265</td>\n",
       "      <td>13</td>\n",
       "      <td>177</td>\n",
       "      <td>539</td>\n",
       "      <td>1344</td>\n",
       "      <td>57</td>\n",
       "      <td>635</td>\n",
       "      <td>577</td>\n",
       "      <td>3.62</td>\n",
       "      <td>4</td>\n",
       "      <td>13</td>\n",
       "      <td>41</td>\n",
       "      <td>90</td>\n",
       "    </tr>\n",
       "    <tr>\n",
       "      <th>22</th>\n",
       "      <td>71</td>\n",
       "      <td>613</td>\n",
       "      <td>5463</td>\n",
       "      <td>1420</td>\n",
       "      <td>236</td>\n",
       "      <td>40</td>\n",
       "      <td>120</td>\n",
       "      <td>375</td>\n",
       "      <td>1150</td>\n",
       "      <td>112</td>\n",
       "      <td>678</td>\n",
       "      <td>638</td>\n",
       "      <td>4.02</td>\n",
       "      <td>0</td>\n",
       "      <td>12</td>\n",
       "      <td>35</td>\n",
       "      <td>77</td>\n",
       "    </tr>\n",
       "    <tr>\n",
       "      <th>23</th>\n",
       "      <td>67</td>\n",
       "      <td>573</td>\n",
       "      <td>5420</td>\n",
       "      <td>1361</td>\n",
       "      <td>251</td>\n",
       "      <td>18</td>\n",
       "      <td>100</td>\n",
       "      <td>471</td>\n",
       "      <td>1107</td>\n",
       "      <td>69</td>\n",
       "      <td>760</td>\n",
       "      <td>698</td>\n",
       "      <td>4.41</td>\n",
       "      <td>3</td>\n",
       "      <td>10</td>\n",
       "      <td>44</td>\n",
       "      <td>90</td>\n",
       "    </tr>\n",
       "    <tr>\n",
       "      <th>24</th>\n",
       "      <td>63</td>\n",
       "      <td>626</td>\n",
       "      <td>5529</td>\n",
       "      <td>1374</td>\n",
       "      <td>272</td>\n",
       "      <td>37</td>\n",
       "      <td>130</td>\n",
       "      <td>387</td>\n",
       "      <td>1274</td>\n",
       "      <td>88</td>\n",
       "      <td>809</td>\n",
       "      <td>749</td>\n",
       "      <td>4.69</td>\n",
       "      <td>1</td>\n",
       "      <td>7</td>\n",
       "      <td>35</td>\n",
       "      <td>117</td>\n",
       "    </tr>\n",
       "    <tr>\n",
       "      <th>25</th>\n",
       "      <td>92</td>\n",
       "      <td>667</td>\n",
       "      <td>5385</td>\n",
       "      <td>1346</td>\n",
       "      <td>263</td>\n",
       "      <td>26</td>\n",
       "      <td>187</td>\n",
       "      <td>563</td>\n",
       "      <td>1258</td>\n",
       "      <td>59</td>\n",
       "      <td>595</td>\n",
       "      <td>553</td>\n",
       "      <td>3.44</td>\n",
       "      <td>6</td>\n",
       "      <td>21</td>\n",
       "      <td>47</td>\n",
       "      <td>75</td>\n",
       "    </tr>\n",
       "    <tr>\n",
       "      <th>26</th>\n",
       "      <td>84</td>\n",
       "      <td>696</td>\n",
       "      <td>5565</td>\n",
       "      <td>1486</td>\n",
       "      <td>288</td>\n",
       "      <td>39</td>\n",
       "      <td>136</td>\n",
       "      <td>457</td>\n",
       "      <td>1159</td>\n",
       "      <td>93</td>\n",
       "      <td>627</td>\n",
       "      <td>597</td>\n",
       "      <td>3.72</td>\n",
       "      <td>7</td>\n",
       "      <td>18</td>\n",
       "      <td>41</td>\n",
       "      <td>78</td>\n",
       "    </tr>\n",
       "    <tr>\n",
       "      <th>27</th>\n",
       "      <td>79</td>\n",
       "      <td>720</td>\n",
       "      <td>5649</td>\n",
       "      <td>1494</td>\n",
       "      <td>289</td>\n",
       "      <td>48</td>\n",
       "      <td>154</td>\n",
       "      <td>490</td>\n",
       "      <td>1312</td>\n",
       "      <td>132</td>\n",
       "      <td>713</td>\n",
       "      <td>659</td>\n",
       "      <td>4.04</td>\n",
       "      <td>1</td>\n",
       "      <td>12</td>\n",
       "      <td>44</td>\n",
       "      <td>86</td>\n",
       "    </tr>\n",
       "    <tr>\n",
       "      <th>28</th>\n",
       "      <td>74</td>\n",
       "      <td>650</td>\n",
       "      <td>5457</td>\n",
       "      <td>1324</td>\n",
       "      <td>260</td>\n",
       "      <td>36</td>\n",
       "      <td>148</td>\n",
       "      <td>426</td>\n",
       "      <td>1327</td>\n",
       "      <td>82</td>\n",
       "      <td>731</td>\n",
       "      <td>655</td>\n",
       "      <td>4.09</td>\n",
       "      <td>1</td>\n",
       "      <td>6</td>\n",
       "      <td>41</td>\n",
       "      <td>92</td>\n",
       "    </tr>\n",
       "    <tr>\n",
       "      <th>29</th>\n",
       "      <td>68</td>\n",
       "      <td>737</td>\n",
       "      <td>5572</td>\n",
       "      <td>1479</td>\n",
       "      <td>274</td>\n",
       "      <td>49</td>\n",
       "      <td>186</td>\n",
       "      <td>388</td>\n",
       "      <td>1283</td>\n",
       "      <td>97</td>\n",
       "      <td>844</td>\n",
       "      <td>799</td>\n",
       "      <td>5.04</td>\n",
       "      <td>4</td>\n",
       "      <td>4</td>\n",
       "      <td>36</td>\n",
       "      <td>95</td>\n",
       "    </tr>\n",
       "  </tbody>\n",
       "</table>\n",
       "</div>"
      ],
      "text/plain": [
       "    Wins  Runs Scored  At Bat  Hits  Double  Triple  Home Runs  Walks  \\\n",
       "0     95          724    5575  1497     300      42        139    383   \n",
       "1     83          696    5467  1349     277      44        156    439   \n",
       "2     81          669    5439  1395     303      29        141    533   \n",
       "3     76          622    5533  1381     260      27        136    404   \n",
       "4     74          689    5605  1515     289      49        151    455   \n",
       "5     93          891    5509  1480     308      17        232    570   \n",
       "6     87          764    5567  1397     272      19        212    554   \n",
       "7     81          713    5485  1370     246      20        217    418   \n",
       "8     80          644    5485  1383     278      32        167    436   \n",
       "9     78          748    5640  1495     294      33        161    478   \n",
       "10    88          751    5511  1419     279      32        172    503   \n",
       "11    86          729    5459  1363     278      26        230    486   \n",
       "12    85          661    5417  1331     243      21        176    435   \n",
       "13    76          656    5544  1379     262      22        198    478   \n",
       "14    68          694    5600  1405     277      46        146    475   \n",
       "15   100          647    5484  1386     288      39        137    506   \n",
       "16    98          697    5631  1462     292      27        140    461   \n",
       "17    97          689    5491  1341     272      30        171    567   \n",
       "18    68          655    5480  1378     274      34        145    412   \n",
       "19    64          640    5571  1382     257      27        167    496   \n",
       "20    90          683    5527  1351     295      17        177    488   \n",
       "21    83          703    5428  1363     265      13        177    539   \n",
       "22    71          613    5463  1420     236      40        120    375   \n",
       "23    67          573    5420  1361     251      18        100    471   \n",
       "24    63          626    5529  1374     272      37        130    387   \n",
       "25    92          667    5385  1346     263      26        187    563   \n",
       "26    84          696    5565  1486     288      39        136    457   \n",
       "27    79          720    5649  1494     289      48        154    490   \n",
       "28    74          650    5457  1324     260      36        148    426   \n",
       "29    68          737    5572  1479     274      49        186    388   \n",
       "\n",
       "    Strike Out  Stolen Base  Runs Allowed  Earned Runs  Earned Run Average  \\\n",
       "0          973          104           641          601                3.73   \n",
       "1         1264           70           700          653                4.07   \n",
       "2         1157           86           640          584                3.67   \n",
       "3         1231           68           701          643                3.98   \n",
       "4         1259           83           803          746                4.64   \n",
       "5         1151           88           670          609                3.80   \n",
       "6         1227           63           698          652                4.03   \n",
       "7         1331           44           693          646                4.05   \n",
       "8         1310           87           642          604                3.74   \n",
       "9         1148           71           753          694                4.31   \n",
       "10        1233          101           733          680                4.24   \n",
       "11        1392          121           618          572                3.57   \n",
       "12        1150           52           675          630                3.94   \n",
       "13        1336           69           726          677                4.16   \n",
       "14        1119           78           729          664                4.14   \n",
       "15        1267           69           525          478                2.94   \n",
       "16        1322           98           596          532                3.21   \n",
       "17        1518           95           608          546                3.36   \n",
       "18        1299           84           737          682                4.28   \n",
       "19        1255          134           754          700                4.33   \n",
       "20        1290           51           613          557                3.43   \n",
       "21        1344           57           635          577                3.62   \n",
       "22        1150          112           678          638                4.02   \n",
       "23        1107           69           760          698                4.41   \n",
       "24        1274           88           809          749                4.69   \n",
       "25        1258           59           595          553                3.44   \n",
       "26        1159           93           627          597                3.72   \n",
       "27        1312          132           713          659                4.04   \n",
       "28        1327           82           731          655                4.09   \n",
       "29        1283           97           844          799                5.04   \n",
       "\n",
       "    Complete Games  Shout Outs  Saves  Errors  \n",
       "0                2           8     56      88  \n",
       "1                2          12     45      86  \n",
       "2               11          10     38      79  \n",
       "3                7           9     37     101  \n",
       "4                7          12     35      86  \n",
       "5                7          10     34      88  \n",
       "6                3           4     48      93  \n",
       "7                0          10     43      77  \n",
       "8                1          12     60      95  \n",
       "9                3          10     40      97  \n",
       "10               5           9     45     119  \n",
       "11               5          13     39      85  \n",
       "12               2          12     46      93  \n",
       "13               6          12     45      94  \n",
       "14               5          15     28     126  \n",
       "15               1          15     62      96  \n",
       "16               0          13     54     122  \n",
       "17               6          21     48     111  \n",
       "18               1           7     40     116  \n",
       "19               2           8     35      90  \n",
       "20               1          14     50      88  \n",
       "21               4          13     41      90  \n",
       "22               0          12     35      77  \n",
       "23               3          10     44      90  \n",
       "24               1           7     35     117  \n",
       "25               6          21     47      75  \n",
       "26               7          18     41      78  \n",
       "27               1          12     44      86  \n",
       "28               1           6     41      92  \n",
       "29               4           4     36      95  "
      ]
     },
     "execution_count": 5,
     "metadata": {},
     "output_type": "execute_result"
    }
   ],
   "source": [
    "df"
   ]
  },
  {
   "cell_type": "code",
   "execution_count": 6,
   "id": "8bfdfc63",
   "metadata": {},
   "outputs": [],
   "source": [
    "#there are certain things that can be observed from the given data set:\n",
    "# the data is not normalized- lot of variation in data range in the columns\n",
    "#the dataset is not a classification data so we will use linear regression model, Support vector regressor, Decision tree regressor, Naive bayer regressor, K Neighbor Regressor & Random Forest Regressor\n"
   ]
  },
  {
   "cell_type": "code",
   "execution_count": 7,
   "id": "33412def",
   "metadata": {},
   "outputs": [
    {
     "data": {
      "text/plain": [
       "pandas.core.frame.DataFrame"
      ]
     },
     "execution_count": 7,
     "metadata": {},
     "output_type": "execute_result"
    }
   ],
   "source": [
    "#to find the type of the dataset\n",
    "type(df)\n",
    "\n",
    "#the dataset type is data frame"
   ]
  },
  {
   "cell_type": "code",
   "execution_count": 8,
   "id": "a9f79f4a",
   "metadata": {},
   "outputs": [
    {
     "name": "stdout",
     "output_type": "stream",
     "text": [
      "<class 'pandas.core.frame.DataFrame'>\n",
      "RangeIndex: 30 entries, 0 to 29\n",
      "Data columns (total 17 columns):\n",
      " #   Column              Non-Null Count  Dtype  \n",
      "---  ------              --------------  -----  \n",
      " 0   Wins                30 non-null     int64  \n",
      " 1   Runs Scored         30 non-null     int64  \n",
      " 2   At Bat              30 non-null     int64  \n",
      " 3   Hits                30 non-null     int64  \n",
      " 4   Double              30 non-null     int64  \n",
      " 5   Triple              30 non-null     int64  \n",
      " 6   Home Runs           30 non-null     int64  \n",
      " 7   Walks               30 non-null     int64  \n",
      " 8   Strike Out          30 non-null     int64  \n",
      " 9   Stolen Base         30 non-null     int64  \n",
      " 10  Runs Allowed        30 non-null     int64  \n",
      " 11  Earned Runs         30 non-null     int64  \n",
      " 12  Earned Run Average  30 non-null     float64\n",
      " 13  Complete Games      30 non-null     int64  \n",
      " 14  Shout Outs          30 non-null     int64  \n",
      " 15  Saves               30 non-null     int64  \n",
      " 16  Errors              30 non-null     int64  \n",
      "dtypes: float64(1), int64(16)\n",
      "memory usage: 4.1 KB\n"
     ]
    }
   ],
   "source": [
    "df.info()\n",
    "#there are total 17 columns.The data types used are float64 and int64."
   ]
  },
  {
   "cell_type": "code",
   "execution_count": 9,
   "id": "3c5e6288",
   "metadata": {},
   "outputs": [
    {
     "data": {
      "text/plain": [
       "(30, 17)"
      ]
     },
     "execution_count": 9,
     "metadata": {},
     "output_type": "execute_result"
    }
   ],
   "source": [
    "df.shape\n",
    "#30 rows and 17 columns in total"
   ]
  },
  {
   "cell_type": "code",
   "execution_count": 10,
   "id": "0e80d402",
   "metadata": {},
   "outputs": [
    {
     "data": {
      "text/html": [
       "<div>\n",
       "<style scoped>\n",
       "    .dataframe tbody tr th:only-of-type {\n",
       "        vertical-align: middle;\n",
       "    }\n",
       "\n",
       "    .dataframe tbody tr th {\n",
       "        vertical-align: top;\n",
       "    }\n",
       "\n",
       "    .dataframe thead th {\n",
       "        text-align: right;\n",
       "    }\n",
       "</style>\n",
       "<table border=\"1\" class=\"dataframe\">\n",
       "  <thead>\n",
       "    <tr style=\"text-align: right;\">\n",
       "      <th></th>\n",
       "      <th>Wins</th>\n",
       "      <th>Runs Scored</th>\n",
       "      <th>At Bat</th>\n",
       "      <th>Hits</th>\n",
       "      <th>Double</th>\n",
       "      <th>Triple</th>\n",
       "      <th>Home Runs</th>\n",
       "      <th>Walks</th>\n",
       "      <th>Strike Out</th>\n",
       "      <th>Stolen Base</th>\n",
       "      <th>Runs Allowed</th>\n",
       "      <th>Earned Runs</th>\n",
       "      <th>Earned Run Average</th>\n",
       "      <th>Complete Games</th>\n",
       "      <th>Shout Outs</th>\n",
       "      <th>Saves</th>\n",
       "      <th>Errors</th>\n",
       "    </tr>\n",
       "  </thead>\n",
       "  <tbody>\n",
       "  </tbody>\n",
       "</table>\n",
       "</div>"
      ],
      "text/plain": [
       "Empty DataFrame\n",
       "Columns: [Wins, Runs Scored, At Bat, Hits, Double, Triple, Home Runs, Walks, Strike Out, Stolen Base, Runs Allowed, Earned Runs, Earned Run Average, Complete Games, Shout Outs, Saves, Errors]\n",
       "Index: []"
      ]
     },
     "execution_count": 10,
     "metadata": {},
     "output_type": "execute_result"
    }
   ],
   "source": [
    "#finding if there is any blank or space as value\n",
    "df.loc[df['Wins']==\" \"]"
   ]
  },
  {
   "cell_type": "code",
   "execution_count": 11,
   "id": "f4a63d56",
   "metadata": {},
   "outputs": [
    {
     "data": {
      "text/html": [
       "<div>\n",
       "<style scoped>\n",
       "    .dataframe tbody tr th:only-of-type {\n",
       "        vertical-align: middle;\n",
       "    }\n",
       "\n",
       "    .dataframe tbody tr th {\n",
       "        vertical-align: top;\n",
       "    }\n",
       "\n",
       "    .dataframe thead th {\n",
       "        text-align: right;\n",
       "    }\n",
       "</style>\n",
       "<table border=\"1\" class=\"dataframe\">\n",
       "  <thead>\n",
       "    <tr style=\"text-align: right;\">\n",
       "      <th></th>\n",
       "      <th>Wins</th>\n",
       "      <th>Runs Scored</th>\n",
       "      <th>At Bat</th>\n",
       "      <th>Hits</th>\n",
       "      <th>Double</th>\n",
       "      <th>Triple</th>\n",
       "      <th>Home Runs</th>\n",
       "      <th>Walks</th>\n",
       "      <th>Strike Out</th>\n",
       "      <th>Stolen Base</th>\n",
       "      <th>Runs Allowed</th>\n",
       "      <th>Earned Runs</th>\n",
       "      <th>Earned Run Average</th>\n",
       "      <th>Complete Games</th>\n",
       "      <th>Shout Outs</th>\n",
       "      <th>Saves</th>\n",
       "      <th>Errors</th>\n",
       "    </tr>\n",
       "  </thead>\n",
       "  <tbody>\n",
       "  </tbody>\n",
       "</table>\n",
       "</div>"
      ],
      "text/plain": [
       "Empty DataFrame\n",
       "Columns: [Wins, Runs Scored, At Bat, Hits, Double, Triple, Home Runs, Walks, Strike Out, Stolen Base, Runs Allowed, Earned Runs, Earned Run Average, Complete Games, Shout Outs, Saves, Errors]\n",
       "Index: []"
      ]
     },
     "execution_count": 11,
     "metadata": {},
     "output_type": "execute_result"
    }
   ],
   "source": [
    "df.loc[df['Runs Scored']==\" \"]"
   ]
  },
  {
   "cell_type": "code",
   "execution_count": 12,
   "id": "4ef46f92",
   "metadata": {},
   "outputs": [
    {
     "data": {
      "text/html": [
       "<div>\n",
       "<style scoped>\n",
       "    .dataframe tbody tr th:only-of-type {\n",
       "        vertical-align: middle;\n",
       "    }\n",
       "\n",
       "    .dataframe tbody tr th {\n",
       "        vertical-align: top;\n",
       "    }\n",
       "\n",
       "    .dataframe thead th {\n",
       "        text-align: right;\n",
       "    }\n",
       "</style>\n",
       "<table border=\"1\" class=\"dataframe\">\n",
       "  <thead>\n",
       "    <tr style=\"text-align: right;\">\n",
       "      <th></th>\n",
       "      <th>Wins</th>\n",
       "      <th>Runs Scored</th>\n",
       "      <th>At Bat</th>\n",
       "      <th>Hits</th>\n",
       "      <th>Double</th>\n",
       "      <th>Triple</th>\n",
       "      <th>Home Runs</th>\n",
       "      <th>Walks</th>\n",
       "      <th>Strike Out</th>\n",
       "      <th>Stolen Base</th>\n",
       "      <th>Runs Allowed</th>\n",
       "      <th>Earned Runs</th>\n",
       "      <th>Earned Run Average</th>\n",
       "      <th>Complete Games</th>\n",
       "      <th>Shout Outs</th>\n",
       "      <th>Saves</th>\n",
       "      <th>Errors</th>\n",
       "    </tr>\n",
       "  </thead>\n",
       "  <tbody>\n",
       "  </tbody>\n",
       "</table>\n",
       "</div>"
      ],
      "text/plain": [
       "Empty DataFrame\n",
       "Columns: [Wins, Runs Scored, At Bat, Hits, Double, Triple, Home Runs, Walks, Strike Out, Stolen Base, Runs Allowed, Earned Runs, Earned Run Average, Complete Games, Shout Outs, Saves, Errors]\n",
       "Index: []"
      ]
     },
     "execution_count": 12,
     "metadata": {},
     "output_type": "execute_result"
    }
   ],
   "source": [
    "df.loc[df['At Bat']==\" \"]"
   ]
  },
  {
   "cell_type": "code",
   "execution_count": 13,
   "id": "c79c0af0",
   "metadata": {},
   "outputs": [
    {
     "data": {
      "text/html": [
       "<div>\n",
       "<style scoped>\n",
       "    .dataframe tbody tr th:only-of-type {\n",
       "        vertical-align: middle;\n",
       "    }\n",
       "\n",
       "    .dataframe tbody tr th {\n",
       "        vertical-align: top;\n",
       "    }\n",
       "\n",
       "    .dataframe thead th {\n",
       "        text-align: right;\n",
       "    }\n",
       "</style>\n",
       "<table border=\"1\" class=\"dataframe\">\n",
       "  <thead>\n",
       "    <tr style=\"text-align: right;\">\n",
       "      <th></th>\n",
       "      <th>Wins</th>\n",
       "      <th>Runs Scored</th>\n",
       "      <th>At Bat</th>\n",
       "      <th>Hits</th>\n",
       "      <th>Double</th>\n",
       "      <th>Triple</th>\n",
       "      <th>Home Runs</th>\n",
       "      <th>Walks</th>\n",
       "      <th>Strike Out</th>\n",
       "      <th>Stolen Base</th>\n",
       "      <th>Runs Allowed</th>\n",
       "      <th>Earned Runs</th>\n",
       "      <th>Earned Run Average</th>\n",
       "      <th>Complete Games</th>\n",
       "      <th>Shout Outs</th>\n",
       "      <th>Saves</th>\n",
       "      <th>Errors</th>\n",
       "    </tr>\n",
       "  </thead>\n",
       "  <tbody>\n",
       "  </tbody>\n",
       "</table>\n",
       "</div>"
      ],
      "text/plain": [
       "Empty DataFrame\n",
       "Columns: [Wins, Runs Scored, At Bat, Hits, Double, Triple, Home Runs, Walks, Strike Out, Stolen Base, Runs Allowed, Earned Runs, Earned Run Average, Complete Games, Shout Outs, Saves, Errors]\n",
       "Index: []"
      ]
     },
     "execution_count": 13,
     "metadata": {},
     "output_type": "execute_result"
    }
   ],
   "source": [
    "df.loc[df['Hits']==\" \"]"
   ]
  },
  {
   "cell_type": "code",
   "execution_count": 14,
   "id": "a73188a9",
   "metadata": {},
   "outputs": [
    {
     "data": {
      "text/html": [
       "<div>\n",
       "<style scoped>\n",
       "    .dataframe tbody tr th:only-of-type {\n",
       "        vertical-align: middle;\n",
       "    }\n",
       "\n",
       "    .dataframe tbody tr th {\n",
       "        vertical-align: top;\n",
       "    }\n",
       "\n",
       "    .dataframe thead th {\n",
       "        text-align: right;\n",
       "    }\n",
       "</style>\n",
       "<table border=\"1\" class=\"dataframe\">\n",
       "  <thead>\n",
       "    <tr style=\"text-align: right;\">\n",
       "      <th></th>\n",
       "      <th>Wins</th>\n",
       "      <th>Runs Scored</th>\n",
       "      <th>At Bat</th>\n",
       "      <th>Hits</th>\n",
       "      <th>Double</th>\n",
       "      <th>Triple</th>\n",
       "      <th>Home Runs</th>\n",
       "      <th>Walks</th>\n",
       "      <th>Strike Out</th>\n",
       "      <th>Stolen Base</th>\n",
       "      <th>Runs Allowed</th>\n",
       "      <th>Earned Runs</th>\n",
       "      <th>Earned Run Average</th>\n",
       "      <th>Complete Games</th>\n",
       "      <th>Shout Outs</th>\n",
       "      <th>Saves</th>\n",
       "      <th>Errors</th>\n",
       "    </tr>\n",
       "  </thead>\n",
       "  <tbody>\n",
       "  </tbody>\n",
       "</table>\n",
       "</div>"
      ],
      "text/plain": [
       "Empty DataFrame\n",
       "Columns: [Wins, Runs Scored, At Bat, Hits, Double, Triple, Home Runs, Walks, Strike Out, Stolen Base, Runs Allowed, Earned Runs, Earned Run Average, Complete Games, Shout Outs, Saves, Errors]\n",
       "Index: []"
      ]
     },
     "execution_count": 14,
     "metadata": {},
     "output_type": "execute_result"
    }
   ],
   "source": [
    "df.loc[df['Double']==\" \"]"
   ]
  },
  {
   "cell_type": "code",
   "execution_count": 15,
   "id": "823fc3e9",
   "metadata": {},
   "outputs": [
    {
     "data": {
      "text/html": [
       "<div>\n",
       "<style scoped>\n",
       "    .dataframe tbody tr th:only-of-type {\n",
       "        vertical-align: middle;\n",
       "    }\n",
       "\n",
       "    .dataframe tbody tr th {\n",
       "        vertical-align: top;\n",
       "    }\n",
       "\n",
       "    .dataframe thead th {\n",
       "        text-align: right;\n",
       "    }\n",
       "</style>\n",
       "<table border=\"1\" class=\"dataframe\">\n",
       "  <thead>\n",
       "    <tr style=\"text-align: right;\">\n",
       "      <th></th>\n",
       "      <th>Wins</th>\n",
       "      <th>Runs Scored</th>\n",
       "      <th>At Bat</th>\n",
       "      <th>Hits</th>\n",
       "      <th>Double</th>\n",
       "      <th>Triple</th>\n",
       "      <th>Home Runs</th>\n",
       "      <th>Walks</th>\n",
       "      <th>Strike Out</th>\n",
       "      <th>Stolen Base</th>\n",
       "      <th>Runs Allowed</th>\n",
       "      <th>Earned Runs</th>\n",
       "      <th>Earned Run Average</th>\n",
       "      <th>Complete Games</th>\n",
       "      <th>Shout Outs</th>\n",
       "      <th>Saves</th>\n",
       "      <th>Errors</th>\n",
       "    </tr>\n",
       "  </thead>\n",
       "  <tbody>\n",
       "  </tbody>\n",
       "</table>\n",
       "</div>"
      ],
      "text/plain": [
       "Empty DataFrame\n",
       "Columns: [Wins, Runs Scored, At Bat, Hits, Double, Triple, Home Runs, Walks, Strike Out, Stolen Base, Runs Allowed, Earned Runs, Earned Run Average, Complete Games, Shout Outs, Saves, Errors]\n",
       "Index: []"
      ]
     },
     "execution_count": 15,
     "metadata": {},
     "output_type": "execute_result"
    }
   ],
   "source": [
    "df.loc[df['Triple']==\" \"]"
   ]
  },
  {
   "cell_type": "code",
   "execution_count": 16,
   "id": "e01ccdc0",
   "metadata": {},
   "outputs": [
    {
     "data": {
      "text/html": [
       "<div>\n",
       "<style scoped>\n",
       "    .dataframe tbody tr th:only-of-type {\n",
       "        vertical-align: middle;\n",
       "    }\n",
       "\n",
       "    .dataframe tbody tr th {\n",
       "        vertical-align: top;\n",
       "    }\n",
       "\n",
       "    .dataframe thead th {\n",
       "        text-align: right;\n",
       "    }\n",
       "</style>\n",
       "<table border=\"1\" class=\"dataframe\">\n",
       "  <thead>\n",
       "    <tr style=\"text-align: right;\">\n",
       "      <th></th>\n",
       "      <th>Wins</th>\n",
       "      <th>Runs Scored</th>\n",
       "      <th>At Bat</th>\n",
       "      <th>Hits</th>\n",
       "      <th>Double</th>\n",
       "      <th>Triple</th>\n",
       "      <th>Home Runs</th>\n",
       "      <th>Walks</th>\n",
       "      <th>Strike Out</th>\n",
       "      <th>Stolen Base</th>\n",
       "      <th>Runs Allowed</th>\n",
       "      <th>Earned Runs</th>\n",
       "      <th>Earned Run Average</th>\n",
       "      <th>Complete Games</th>\n",
       "      <th>Shout Outs</th>\n",
       "      <th>Saves</th>\n",
       "      <th>Errors</th>\n",
       "    </tr>\n",
       "  </thead>\n",
       "  <tbody>\n",
       "  </tbody>\n",
       "</table>\n",
       "</div>"
      ],
      "text/plain": [
       "Empty DataFrame\n",
       "Columns: [Wins, Runs Scored, At Bat, Hits, Double, Triple, Home Runs, Walks, Strike Out, Stolen Base, Runs Allowed, Earned Runs, Earned Run Average, Complete Games, Shout Outs, Saves, Errors]\n",
       "Index: []"
      ]
     },
     "execution_count": 16,
     "metadata": {},
     "output_type": "execute_result"
    }
   ],
   "source": [
    "df.loc[df['Home Runs']==\" \"]"
   ]
  },
  {
   "cell_type": "code",
   "execution_count": 17,
   "id": "53fc7778",
   "metadata": {},
   "outputs": [
    {
     "data": {
      "text/html": [
       "<div>\n",
       "<style scoped>\n",
       "    .dataframe tbody tr th:only-of-type {\n",
       "        vertical-align: middle;\n",
       "    }\n",
       "\n",
       "    .dataframe tbody tr th {\n",
       "        vertical-align: top;\n",
       "    }\n",
       "\n",
       "    .dataframe thead th {\n",
       "        text-align: right;\n",
       "    }\n",
       "</style>\n",
       "<table border=\"1\" class=\"dataframe\">\n",
       "  <thead>\n",
       "    <tr style=\"text-align: right;\">\n",
       "      <th></th>\n",
       "      <th>Wins</th>\n",
       "      <th>Runs Scored</th>\n",
       "      <th>At Bat</th>\n",
       "      <th>Hits</th>\n",
       "      <th>Double</th>\n",
       "      <th>Triple</th>\n",
       "      <th>Home Runs</th>\n",
       "      <th>Walks</th>\n",
       "      <th>Strike Out</th>\n",
       "      <th>Stolen Base</th>\n",
       "      <th>Runs Allowed</th>\n",
       "      <th>Earned Runs</th>\n",
       "      <th>Earned Run Average</th>\n",
       "      <th>Complete Games</th>\n",
       "      <th>Shout Outs</th>\n",
       "      <th>Saves</th>\n",
       "      <th>Errors</th>\n",
       "    </tr>\n",
       "  </thead>\n",
       "  <tbody>\n",
       "  </tbody>\n",
       "</table>\n",
       "</div>"
      ],
      "text/plain": [
       "Empty DataFrame\n",
       "Columns: [Wins, Runs Scored, At Bat, Hits, Double, Triple, Home Runs, Walks, Strike Out, Stolen Base, Runs Allowed, Earned Runs, Earned Run Average, Complete Games, Shout Outs, Saves, Errors]\n",
       "Index: []"
      ]
     },
     "execution_count": 17,
     "metadata": {},
     "output_type": "execute_result"
    }
   ],
   "source": [
    "df.loc[df['Walks']==\" \"]"
   ]
  },
  {
   "cell_type": "code",
   "execution_count": 18,
   "id": "8b057876",
   "metadata": {},
   "outputs": [
    {
     "data": {
      "text/html": [
       "<div>\n",
       "<style scoped>\n",
       "    .dataframe tbody tr th:only-of-type {\n",
       "        vertical-align: middle;\n",
       "    }\n",
       "\n",
       "    .dataframe tbody tr th {\n",
       "        vertical-align: top;\n",
       "    }\n",
       "\n",
       "    .dataframe thead th {\n",
       "        text-align: right;\n",
       "    }\n",
       "</style>\n",
       "<table border=\"1\" class=\"dataframe\">\n",
       "  <thead>\n",
       "    <tr style=\"text-align: right;\">\n",
       "      <th></th>\n",
       "      <th>Wins</th>\n",
       "      <th>Runs Scored</th>\n",
       "      <th>At Bat</th>\n",
       "      <th>Hits</th>\n",
       "      <th>Double</th>\n",
       "      <th>Triple</th>\n",
       "      <th>Home Runs</th>\n",
       "      <th>Walks</th>\n",
       "      <th>Strike Out</th>\n",
       "      <th>Stolen Base</th>\n",
       "      <th>Runs Allowed</th>\n",
       "      <th>Earned Runs</th>\n",
       "      <th>Earned Run Average</th>\n",
       "      <th>Complete Games</th>\n",
       "      <th>Shout Outs</th>\n",
       "      <th>Saves</th>\n",
       "      <th>Errors</th>\n",
       "    </tr>\n",
       "  </thead>\n",
       "  <tbody>\n",
       "  </tbody>\n",
       "</table>\n",
       "</div>"
      ],
      "text/plain": [
       "Empty DataFrame\n",
       "Columns: [Wins, Runs Scored, At Bat, Hits, Double, Triple, Home Runs, Walks, Strike Out, Stolen Base, Runs Allowed, Earned Runs, Earned Run Average, Complete Games, Shout Outs, Saves, Errors]\n",
       "Index: []"
      ]
     },
     "execution_count": 18,
     "metadata": {},
     "output_type": "execute_result"
    }
   ],
   "source": [
    "df.loc[df['Strike Out']==\" \"]"
   ]
  },
  {
   "cell_type": "code",
   "execution_count": 19,
   "id": "6b7d868d",
   "metadata": {},
   "outputs": [
    {
     "data": {
      "text/html": [
       "<div>\n",
       "<style scoped>\n",
       "    .dataframe tbody tr th:only-of-type {\n",
       "        vertical-align: middle;\n",
       "    }\n",
       "\n",
       "    .dataframe tbody tr th {\n",
       "        vertical-align: top;\n",
       "    }\n",
       "\n",
       "    .dataframe thead th {\n",
       "        text-align: right;\n",
       "    }\n",
       "</style>\n",
       "<table border=\"1\" class=\"dataframe\">\n",
       "  <thead>\n",
       "    <tr style=\"text-align: right;\">\n",
       "      <th></th>\n",
       "      <th>Wins</th>\n",
       "      <th>Runs Scored</th>\n",
       "      <th>At Bat</th>\n",
       "      <th>Hits</th>\n",
       "      <th>Double</th>\n",
       "      <th>Triple</th>\n",
       "      <th>Home Runs</th>\n",
       "      <th>Walks</th>\n",
       "      <th>Strike Out</th>\n",
       "      <th>Stolen Base</th>\n",
       "      <th>Runs Allowed</th>\n",
       "      <th>Earned Runs</th>\n",
       "      <th>Earned Run Average</th>\n",
       "      <th>Complete Games</th>\n",
       "      <th>Shout Outs</th>\n",
       "      <th>Saves</th>\n",
       "      <th>Errors</th>\n",
       "    </tr>\n",
       "  </thead>\n",
       "  <tbody>\n",
       "  </tbody>\n",
       "</table>\n",
       "</div>"
      ],
      "text/plain": [
       "Empty DataFrame\n",
       "Columns: [Wins, Runs Scored, At Bat, Hits, Double, Triple, Home Runs, Walks, Strike Out, Stolen Base, Runs Allowed, Earned Runs, Earned Run Average, Complete Games, Shout Outs, Saves, Errors]\n",
       "Index: []"
      ]
     },
     "execution_count": 19,
     "metadata": {},
     "output_type": "execute_result"
    }
   ],
   "source": [
    "df.loc[df['Stolen Base']==\" \"]"
   ]
  },
  {
   "cell_type": "code",
   "execution_count": 20,
   "id": "8362b481",
   "metadata": {},
   "outputs": [
    {
     "data": {
      "text/html": [
       "<div>\n",
       "<style scoped>\n",
       "    .dataframe tbody tr th:only-of-type {\n",
       "        vertical-align: middle;\n",
       "    }\n",
       "\n",
       "    .dataframe tbody tr th {\n",
       "        vertical-align: top;\n",
       "    }\n",
       "\n",
       "    .dataframe thead th {\n",
       "        text-align: right;\n",
       "    }\n",
       "</style>\n",
       "<table border=\"1\" class=\"dataframe\">\n",
       "  <thead>\n",
       "    <tr style=\"text-align: right;\">\n",
       "      <th></th>\n",
       "      <th>Wins</th>\n",
       "      <th>Runs Scored</th>\n",
       "      <th>At Bat</th>\n",
       "      <th>Hits</th>\n",
       "      <th>Double</th>\n",
       "      <th>Triple</th>\n",
       "      <th>Home Runs</th>\n",
       "      <th>Walks</th>\n",
       "      <th>Strike Out</th>\n",
       "      <th>Stolen Base</th>\n",
       "      <th>Runs Allowed</th>\n",
       "      <th>Earned Runs</th>\n",
       "      <th>Earned Run Average</th>\n",
       "      <th>Complete Games</th>\n",
       "      <th>Shout Outs</th>\n",
       "      <th>Saves</th>\n",
       "      <th>Errors</th>\n",
       "    </tr>\n",
       "  </thead>\n",
       "  <tbody>\n",
       "  </tbody>\n",
       "</table>\n",
       "</div>"
      ],
      "text/plain": [
       "Empty DataFrame\n",
       "Columns: [Wins, Runs Scored, At Bat, Hits, Double, Triple, Home Runs, Walks, Strike Out, Stolen Base, Runs Allowed, Earned Runs, Earned Run Average, Complete Games, Shout Outs, Saves, Errors]\n",
       "Index: []"
      ]
     },
     "execution_count": 20,
     "metadata": {},
     "output_type": "execute_result"
    }
   ],
   "source": [
    "df.loc[df['Runs Allowed']==\" \"]"
   ]
  },
  {
   "cell_type": "code",
   "execution_count": 21,
   "id": "400da195",
   "metadata": {},
   "outputs": [
    {
     "data": {
      "text/html": [
       "<div>\n",
       "<style scoped>\n",
       "    .dataframe tbody tr th:only-of-type {\n",
       "        vertical-align: middle;\n",
       "    }\n",
       "\n",
       "    .dataframe tbody tr th {\n",
       "        vertical-align: top;\n",
       "    }\n",
       "\n",
       "    .dataframe thead th {\n",
       "        text-align: right;\n",
       "    }\n",
       "</style>\n",
       "<table border=\"1\" class=\"dataframe\">\n",
       "  <thead>\n",
       "    <tr style=\"text-align: right;\">\n",
       "      <th></th>\n",
       "      <th>Wins</th>\n",
       "      <th>Runs Scored</th>\n",
       "      <th>At Bat</th>\n",
       "      <th>Hits</th>\n",
       "      <th>Double</th>\n",
       "      <th>Triple</th>\n",
       "      <th>Home Runs</th>\n",
       "      <th>Walks</th>\n",
       "      <th>Strike Out</th>\n",
       "      <th>Stolen Base</th>\n",
       "      <th>Runs Allowed</th>\n",
       "      <th>Earned Runs</th>\n",
       "      <th>Earned Run Average</th>\n",
       "      <th>Complete Games</th>\n",
       "      <th>Shout Outs</th>\n",
       "      <th>Saves</th>\n",
       "      <th>Errors</th>\n",
       "    </tr>\n",
       "  </thead>\n",
       "  <tbody>\n",
       "  </tbody>\n",
       "</table>\n",
       "</div>"
      ],
      "text/plain": [
       "Empty DataFrame\n",
       "Columns: [Wins, Runs Scored, At Bat, Hits, Double, Triple, Home Runs, Walks, Strike Out, Stolen Base, Runs Allowed, Earned Runs, Earned Run Average, Complete Games, Shout Outs, Saves, Errors]\n",
       "Index: []"
      ]
     },
     "execution_count": 21,
     "metadata": {},
     "output_type": "execute_result"
    }
   ],
   "source": [
    "df.loc[df['Earned Runs']==\" \"]"
   ]
  },
  {
   "cell_type": "code",
   "execution_count": 22,
   "id": "5efd3073",
   "metadata": {},
   "outputs": [
    {
     "data": {
      "text/html": [
       "<div>\n",
       "<style scoped>\n",
       "    .dataframe tbody tr th:only-of-type {\n",
       "        vertical-align: middle;\n",
       "    }\n",
       "\n",
       "    .dataframe tbody tr th {\n",
       "        vertical-align: top;\n",
       "    }\n",
       "\n",
       "    .dataframe thead th {\n",
       "        text-align: right;\n",
       "    }\n",
       "</style>\n",
       "<table border=\"1\" class=\"dataframe\">\n",
       "  <thead>\n",
       "    <tr style=\"text-align: right;\">\n",
       "      <th></th>\n",
       "      <th>Wins</th>\n",
       "      <th>Runs Scored</th>\n",
       "      <th>At Bat</th>\n",
       "      <th>Hits</th>\n",
       "      <th>Double</th>\n",
       "      <th>Triple</th>\n",
       "      <th>Home Runs</th>\n",
       "      <th>Walks</th>\n",
       "      <th>Strike Out</th>\n",
       "      <th>Stolen Base</th>\n",
       "      <th>Runs Allowed</th>\n",
       "      <th>Earned Runs</th>\n",
       "      <th>Earned Run Average</th>\n",
       "      <th>Complete Games</th>\n",
       "      <th>Shout Outs</th>\n",
       "      <th>Saves</th>\n",
       "      <th>Errors</th>\n",
       "    </tr>\n",
       "  </thead>\n",
       "  <tbody>\n",
       "  </tbody>\n",
       "</table>\n",
       "</div>"
      ],
      "text/plain": [
       "Empty DataFrame\n",
       "Columns: [Wins, Runs Scored, At Bat, Hits, Double, Triple, Home Runs, Walks, Strike Out, Stolen Base, Runs Allowed, Earned Runs, Earned Run Average, Complete Games, Shout Outs, Saves, Errors]\n",
       "Index: []"
      ]
     },
     "execution_count": 22,
     "metadata": {},
     "output_type": "execute_result"
    }
   ],
   "source": [
    "df.loc[df['Earned Run Average']==\" \"]"
   ]
  },
  {
   "cell_type": "code",
   "execution_count": 23,
   "id": "5c6bff69",
   "metadata": {},
   "outputs": [
    {
     "data": {
      "text/html": [
       "<div>\n",
       "<style scoped>\n",
       "    .dataframe tbody tr th:only-of-type {\n",
       "        vertical-align: middle;\n",
       "    }\n",
       "\n",
       "    .dataframe tbody tr th {\n",
       "        vertical-align: top;\n",
       "    }\n",
       "\n",
       "    .dataframe thead th {\n",
       "        text-align: right;\n",
       "    }\n",
       "</style>\n",
       "<table border=\"1\" class=\"dataframe\">\n",
       "  <thead>\n",
       "    <tr style=\"text-align: right;\">\n",
       "      <th></th>\n",
       "      <th>Wins</th>\n",
       "      <th>Runs Scored</th>\n",
       "      <th>At Bat</th>\n",
       "      <th>Hits</th>\n",
       "      <th>Double</th>\n",
       "      <th>Triple</th>\n",
       "      <th>Home Runs</th>\n",
       "      <th>Walks</th>\n",
       "      <th>Strike Out</th>\n",
       "      <th>Stolen Base</th>\n",
       "      <th>Runs Allowed</th>\n",
       "      <th>Earned Runs</th>\n",
       "      <th>Earned Run Average</th>\n",
       "      <th>Complete Games</th>\n",
       "      <th>Shout Outs</th>\n",
       "      <th>Saves</th>\n",
       "      <th>Errors</th>\n",
       "    </tr>\n",
       "  </thead>\n",
       "  <tbody>\n",
       "  </tbody>\n",
       "</table>\n",
       "</div>"
      ],
      "text/plain": [
       "Empty DataFrame\n",
       "Columns: [Wins, Runs Scored, At Bat, Hits, Double, Triple, Home Runs, Walks, Strike Out, Stolen Base, Runs Allowed, Earned Runs, Earned Run Average, Complete Games, Shout Outs, Saves, Errors]\n",
       "Index: []"
      ]
     },
     "execution_count": 23,
     "metadata": {},
     "output_type": "execute_result"
    }
   ],
   "source": [
    "df.loc[df['Complete Games']==\" \"]"
   ]
  },
  {
   "cell_type": "code",
   "execution_count": 24,
   "id": "10832de0",
   "metadata": {},
   "outputs": [
    {
     "data": {
      "text/html": [
       "<div>\n",
       "<style scoped>\n",
       "    .dataframe tbody tr th:only-of-type {\n",
       "        vertical-align: middle;\n",
       "    }\n",
       "\n",
       "    .dataframe tbody tr th {\n",
       "        vertical-align: top;\n",
       "    }\n",
       "\n",
       "    .dataframe thead th {\n",
       "        text-align: right;\n",
       "    }\n",
       "</style>\n",
       "<table border=\"1\" class=\"dataframe\">\n",
       "  <thead>\n",
       "    <tr style=\"text-align: right;\">\n",
       "      <th></th>\n",
       "      <th>Wins</th>\n",
       "      <th>Runs Scored</th>\n",
       "      <th>At Bat</th>\n",
       "      <th>Hits</th>\n",
       "      <th>Double</th>\n",
       "      <th>Triple</th>\n",
       "      <th>Home Runs</th>\n",
       "      <th>Walks</th>\n",
       "      <th>Strike Out</th>\n",
       "      <th>Stolen Base</th>\n",
       "      <th>Runs Allowed</th>\n",
       "      <th>Earned Runs</th>\n",
       "      <th>Earned Run Average</th>\n",
       "      <th>Complete Games</th>\n",
       "      <th>Shout Outs</th>\n",
       "      <th>Saves</th>\n",
       "      <th>Errors</th>\n",
       "    </tr>\n",
       "  </thead>\n",
       "  <tbody>\n",
       "  </tbody>\n",
       "</table>\n",
       "</div>"
      ],
      "text/plain": [
       "Empty DataFrame\n",
       "Columns: [Wins, Runs Scored, At Bat, Hits, Double, Triple, Home Runs, Walks, Strike Out, Stolen Base, Runs Allowed, Earned Runs, Earned Run Average, Complete Games, Shout Outs, Saves, Errors]\n",
       "Index: []"
      ]
     },
     "execution_count": 24,
     "metadata": {},
     "output_type": "execute_result"
    }
   ],
   "source": [
    "df.loc[df['Shout Outs']==\" \"]"
   ]
  },
  {
   "cell_type": "code",
   "execution_count": 25,
   "id": "799518ab",
   "metadata": {},
   "outputs": [
    {
     "data": {
      "text/html": [
       "<div>\n",
       "<style scoped>\n",
       "    .dataframe tbody tr th:only-of-type {\n",
       "        vertical-align: middle;\n",
       "    }\n",
       "\n",
       "    .dataframe tbody tr th {\n",
       "        vertical-align: top;\n",
       "    }\n",
       "\n",
       "    .dataframe thead th {\n",
       "        text-align: right;\n",
       "    }\n",
       "</style>\n",
       "<table border=\"1\" class=\"dataframe\">\n",
       "  <thead>\n",
       "    <tr style=\"text-align: right;\">\n",
       "      <th></th>\n",
       "      <th>Wins</th>\n",
       "      <th>Runs Scored</th>\n",
       "      <th>At Bat</th>\n",
       "      <th>Hits</th>\n",
       "      <th>Double</th>\n",
       "      <th>Triple</th>\n",
       "      <th>Home Runs</th>\n",
       "      <th>Walks</th>\n",
       "      <th>Strike Out</th>\n",
       "      <th>Stolen Base</th>\n",
       "      <th>Runs Allowed</th>\n",
       "      <th>Earned Runs</th>\n",
       "      <th>Earned Run Average</th>\n",
       "      <th>Complete Games</th>\n",
       "      <th>Shout Outs</th>\n",
       "      <th>Saves</th>\n",
       "      <th>Errors</th>\n",
       "    </tr>\n",
       "  </thead>\n",
       "  <tbody>\n",
       "  </tbody>\n",
       "</table>\n",
       "</div>"
      ],
      "text/plain": [
       "Empty DataFrame\n",
       "Columns: [Wins, Runs Scored, At Bat, Hits, Double, Triple, Home Runs, Walks, Strike Out, Stolen Base, Runs Allowed, Earned Runs, Earned Run Average, Complete Games, Shout Outs, Saves, Errors]\n",
       "Index: []"
      ]
     },
     "execution_count": 25,
     "metadata": {},
     "output_type": "execute_result"
    }
   ],
   "source": [
    "df.loc[df['Saves']==\" \"]"
   ]
  },
  {
   "cell_type": "code",
   "execution_count": 26,
   "id": "050f6331",
   "metadata": {},
   "outputs": [
    {
     "data": {
      "text/html": [
       "<div>\n",
       "<style scoped>\n",
       "    .dataframe tbody tr th:only-of-type {\n",
       "        vertical-align: middle;\n",
       "    }\n",
       "\n",
       "    .dataframe tbody tr th {\n",
       "        vertical-align: top;\n",
       "    }\n",
       "\n",
       "    .dataframe thead th {\n",
       "        text-align: right;\n",
       "    }\n",
       "</style>\n",
       "<table border=\"1\" class=\"dataframe\">\n",
       "  <thead>\n",
       "    <tr style=\"text-align: right;\">\n",
       "      <th></th>\n",
       "      <th>Wins</th>\n",
       "      <th>Runs Scored</th>\n",
       "      <th>At Bat</th>\n",
       "      <th>Hits</th>\n",
       "      <th>Double</th>\n",
       "      <th>Triple</th>\n",
       "      <th>Home Runs</th>\n",
       "      <th>Walks</th>\n",
       "      <th>Strike Out</th>\n",
       "      <th>Stolen Base</th>\n",
       "      <th>Runs Allowed</th>\n",
       "      <th>Earned Runs</th>\n",
       "      <th>Earned Run Average</th>\n",
       "      <th>Complete Games</th>\n",
       "      <th>Shout Outs</th>\n",
       "      <th>Saves</th>\n",
       "      <th>Errors</th>\n",
       "    </tr>\n",
       "  </thead>\n",
       "  <tbody>\n",
       "  </tbody>\n",
       "</table>\n",
       "</div>"
      ],
      "text/plain": [
       "Empty DataFrame\n",
       "Columns: [Wins, Runs Scored, At Bat, Hits, Double, Triple, Home Runs, Walks, Strike Out, Stolen Base, Runs Allowed, Earned Runs, Earned Run Average, Complete Games, Shout Outs, Saves, Errors]\n",
       "Index: []"
      ]
     },
     "execution_count": 26,
     "metadata": {},
     "output_type": "execute_result"
    }
   ],
   "source": [
    "df.loc[df['Errors']==\" \"]"
   ]
  },
  {
   "cell_type": "code",
   "execution_count": 27,
   "id": "3a49e413",
   "metadata": {},
   "outputs": [
    {
     "data": {
      "text/plain": [
       "Wins                  0\n",
       "Runs Scored           0\n",
       "At Bat                0\n",
       "Hits                  0\n",
       "Double                0\n",
       "Triple                0\n",
       "Home Runs             0\n",
       "Walks                 0\n",
       "Strike Out            0\n",
       "Stolen Base           0\n",
       "Runs Allowed          0\n",
       "Earned Runs           0\n",
       "Earned Run Average    0\n",
       "Complete Games        0\n",
       "Shout Outs            0\n",
       "Saves                 0\n",
       "Errors                0\n",
       "dtype: int64"
      ]
     },
     "execution_count": 27,
     "metadata": {},
     "output_type": "execute_result"
    }
   ],
   "source": [
    "df.isnull().sum()"
   ]
  },
  {
   "cell_type": "code",
   "execution_count": 28,
   "id": "99f5273e",
   "metadata": {},
   "outputs": [],
   "source": [
    "#hence no blank values are present."
   ]
  },
  {
   "cell_type": "code",
   "execution_count": 29,
   "id": "ba85567d",
   "metadata": {},
   "outputs": [
    {
     "data": {
      "text/plain": [
       "<AxesSubplot:>"
      ]
     },
     "execution_count": 29,
     "metadata": {},
     "output_type": "execute_result"
    },
    {
     "data": {
      "image/png": "[encoded data removed]",
      "text/plain": [
       "<Figure size 432x288 with 2 Axes>"
      ]
     },
     "metadata": {
      "needs_background": "light"
     },
     "output_type": "display_data"
    }
   ],
   "source": [
    "#plotting the heatmap to check\n",
    "sns.heatmap(df.isnull())\n",
    "\n",
    "#there is no white space anywhere hence no null, blank , spaces present in data"
   ]
  },
  {
   "cell_type": "code",
   "execution_count": 30,
   "id": "4ee15bf5",
   "metadata": {},
   "outputs": [
    {
     "data": {
      "text/html": [
       "<div>\n",
       "<style scoped>\n",
       "    .dataframe tbody tr th:only-of-type {\n",
       "        vertical-align: middle;\n",
       "    }\n",
       "\n",
       "    .dataframe tbody tr th {\n",
       "        vertical-align: top;\n",
       "    }\n",
       "\n",
       "    .dataframe thead th {\n",
       "        text-align: right;\n",
       "    }\n",
       "</style>\n",
       "<table border=\"1\" class=\"dataframe\">\n",
       "  <thead>\n",
       "    <tr style=\"text-align: right;\">\n",
       "      <th></th>\n",
       "      <th>Wins</th>\n",
       "      <th>Runs Scored</th>\n",
       "      <th>At Bat</th>\n",
       "      <th>Hits</th>\n",
       "      <th>Double</th>\n",
       "      <th>Triple</th>\n",
       "      <th>Home Runs</th>\n",
       "      <th>Walks</th>\n",
       "      <th>Strike Out</th>\n",
       "      <th>Stolen Base</th>\n",
       "      <th>Runs Allowed</th>\n",
       "      <th>Earned Runs</th>\n",
       "      <th>Earned Run Average</th>\n",
       "      <th>Complete Games</th>\n",
       "      <th>Shout Outs</th>\n",
       "      <th>Saves</th>\n",
       "      <th>Errors</th>\n",
       "    </tr>\n",
       "  </thead>\n",
       "  <tbody>\n",
       "    <tr>\n",
       "      <th>count</th>\n",
       "      <td>30.000000</td>\n",
       "      <td>30.000000</td>\n",
       "      <td>30.000000</td>\n",
       "      <td>30.000000</td>\n",
       "      <td>30.000000</td>\n",
       "      <td>30.000000</td>\n",
       "      <td>30.000000</td>\n",
       "      <td>30.000000</td>\n",
       "      <td>30.00000</td>\n",
       "      <td>30.000000</td>\n",
       "      <td>30.000000</td>\n",
       "      <td>30.000000</td>\n",
       "      <td>30.000000</td>\n",
       "      <td>30.000000</td>\n",
       "      <td>30.000000</td>\n",
       "      <td>30.000000</td>\n",
       "      <td>30.000000</td>\n",
       "    </tr>\n",
       "    <tr>\n",
       "      <th>mean</th>\n",
       "      <td>80.966667</td>\n",
       "      <td>688.233333</td>\n",
       "      <td>5516.266667</td>\n",
       "      <td>1403.533333</td>\n",
       "      <td>274.733333</td>\n",
       "      <td>31.300000</td>\n",
       "      <td>163.633333</td>\n",
       "      <td>469.100000</td>\n",
       "      <td>1248.20000</td>\n",
       "      <td>83.500000</td>\n",
       "      <td>688.233333</td>\n",
       "      <td>635.833333</td>\n",
       "      <td>3.956333</td>\n",
       "      <td>3.466667</td>\n",
       "      <td>11.300000</td>\n",
       "      <td>43.066667</td>\n",
       "      <td>94.333333</td>\n",
       "    </tr>\n",
       "    <tr>\n",
       "      <th>std</th>\n",
       "      <td>10.453455</td>\n",
       "      <td>58.761754</td>\n",
       "      <td>70.467372</td>\n",
       "      <td>57.140923</td>\n",
       "      <td>18.095405</td>\n",
       "      <td>10.452355</td>\n",
       "      <td>31.823309</td>\n",
       "      <td>57.053725</td>\n",
       "      <td>103.75947</td>\n",
       "      <td>22.815225</td>\n",
       "      <td>72.108005</td>\n",
       "      <td>70.140786</td>\n",
       "      <td>0.454089</td>\n",
       "      <td>2.763473</td>\n",
       "      <td>4.120177</td>\n",
       "      <td>7.869335</td>\n",
       "      <td>13.958889</td>\n",
       "    </tr>\n",
       "    <tr>\n",
       "      <th>min</th>\n",
       "      <td>63.000000</td>\n",
       "      <td>573.000000</td>\n",
       "      <td>5385.000000</td>\n",
       "      <td>1324.000000</td>\n",
       "      <td>236.000000</td>\n",
       "      <td>13.000000</td>\n",
       "      <td>100.000000</td>\n",
       "      <td>375.000000</td>\n",
       "      <td>973.00000</td>\n",
       "      <td>44.000000</td>\n",
       "      <td>525.000000</td>\n",
       "      <td>478.000000</td>\n",
       "      <td>2.940000</td>\n",
       "      <td>0.000000</td>\n",
       "      <td>4.000000</td>\n",
       "      <td>28.000000</td>\n",
       "      <td>75.000000</td>\n",
       "    </tr>\n",
       "    <tr>\n",
       "      <th>25%</th>\n",
       "      <td>74.000000</td>\n",
       "      <td>651.250000</td>\n",
       "      <td>5464.000000</td>\n",
       "      <td>1363.000000</td>\n",
       "      <td>262.250000</td>\n",
       "      <td>23.000000</td>\n",
       "      <td>140.250000</td>\n",
       "      <td>428.250000</td>\n",
       "      <td>1157.50000</td>\n",
       "      <td>69.000000</td>\n",
       "      <td>636.250000</td>\n",
       "      <td>587.250000</td>\n",
       "      <td>3.682500</td>\n",
       "      <td>1.000000</td>\n",
       "      <td>9.000000</td>\n",
       "      <td>37.250000</td>\n",
       "      <td>86.000000</td>\n",
       "    </tr>\n",
       "    <tr>\n",
       "      <th>50%</th>\n",
       "      <td>81.000000</td>\n",
       "      <td>689.000000</td>\n",
       "      <td>5510.000000</td>\n",
       "      <td>1382.500000</td>\n",
       "      <td>275.500000</td>\n",
       "      <td>31.000000</td>\n",
       "      <td>158.500000</td>\n",
       "      <td>473.000000</td>\n",
       "      <td>1261.50000</td>\n",
       "      <td>83.500000</td>\n",
       "      <td>695.500000</td>\n",
       "      <td>644.500000</td>\n",
       "      <td>4.025000</td>\n",
       "      <td>3.000000</td>\n",
       "      <td>12.000000</td>\n",
       "      <td>42.000000</td>\n",
       "      <td>91.000000</td>\n",
       "    </tr>\n",
       "    <tr>\n",
       "      <th>75%</th>\n",
       "      <td>87.750000</td>\n",
       "      <td>718.250000</td>\n",
       "      <td>5570.000000</td>\n",
       "      <td>1451.500000</td>\n",
       "      <td>288.750000</td>\n",
       "      <td>39.000000</td>\n",
       "      <td>177.000000</td>\n",
       "      <td>501.250000</td>\n",
       "      <td>1311.50000</td>\n",
       "      <td>96.500000</td>\n",
       "      <td>732.500000</td>\n",
       "      <td>679.250000</td>\n",
       "      <td>4.220000</td>\n",
       "      <td>5.750000</td>\n",
       "      <td>13.000000</td>\n",
       "      <td>46.750000</td>\n",
       "      <td>96.750000</td>\n",
       "    </tr>\n",
       "    <tr>\n",
       "      <th>max</th>\n",
       "      <td>100.000000</td>\n",
       "      <td>891.000000</td>\n",
       "      <td>5649.000000</td>\n",
       "      <td>1515.000000</td>\n",
       "      <td>308.000000</td>\n",
       "      <td>49.000000</td>\n",
       "      <td>232.000000</td>\n",
       "      <td>570.000000</td>\n",
       "      <td>1518.00000</td>\n",
       "      <td>134.000000</td>\n",
       "      <td>844.000000</td>\n",
       "      <td>799.000000</td>\n",
       "      <td>5.040000</td>\n",
       "      <td>11.000000</td>\n",
       "      <td>21.000000</td>\n",
       "      <td>62.000000</td>\n",
       "      <td>126.000000</td>\n",
       "    </tr>\n",
       "  </tbody>\n",
       "</table>\n",
       "</div>"
      ],
      "text/plain": [
       "             Wins  Runs Scored       At Bat         Hits      Double  \\\n",
       "count   30.000000    30.000000    30.000000    30.000000   30.000000   \n",
       "mean    80.966667   688.233333  5516.266667  1403.533333  274.733333   \n",
       "std     10.453455    58.761754    70.467372    57.140923   18.095405   \n",
       "min     63.000000   573.000000  5385.000000  1324.000000  236.000000   \n",
       "25%     74.000000   651.250000  5464.000000  1363.000000  262.250000   \n",
       "50%     81.000000   689.000000  5510.000000  1382.500000  275.500000   \n",
       "75%     87.750000   718.250000  5570.000000  1451.500000  288.750000   \n",
       "max    100.000000   891.000000  5649.000000  1515.000000  308.000000   \n",
       "\n",
       "          Triple   Home Runs       Walks  Strike Out  Stolen Base  \\\n",
       "count  30.000000   30.000000   30.000000    30.00000    30.000000   \n",
       "mean   31.300000  163.633333  469.100000  1248.20000    83.500000   \n",
       "std    10.452355   31.823309   57.053725   103.75947    22.815225   \n",
       "min    13.000000  100.000000  375.000000   973.00000    44.000000   \n",
       "25%    23.000000  140.250000  428.250000  1157.50000    69.000000   \n",
       "50%    31.000000  158.500000  473.000000  1261.50000    83.500000   \n",
       "75%    39.000000  177.000000  501.250000  1311.50000    96.500000   \n",
       "max    49.000000  232.000000  570.000000  1518.00000   134.000000   \n",
       "\n",
       "       Runs Allowed  Earned Runs  Earned Run Average  Complete Games  \\\n",
       "count     30.000000    30.000000           30.000000       30.000000   \n",
       "mean     688.233333   635.833333            3.956333        3.466667   \n",
       "std       72.108005    70.140786            0.454089        2.763473   \n",
       "min      525.000000   478.000000            2.940000        0.000000   \n",
       "25%      636.250000   587.250000            3.682500        1.000000   \n",
       "50%      695.500000   644.500000            4.025000        3.000000   \n",
       "75%      732.500000   679.250000            4.220000        5.750000   \n",
       "max      844.000000   799.000000            5.040000       11.000000   \n",
       "\n",
       "       Shout Outs      Saves      Errors  \n",
       "count   30.000000  30.000000   30.000000  \n",
       "mean    11.300000  43.066667   94.333333  \n",
       "std      4.120177   7.869335   13.958889  \n",
       "min      4.000000  28.000000   75.000000  \n",
       "25%      9.000000  37.250000   86.000000  \n",
       "50%     12.000000  42.000000   91.000000  \n",
       "75%     13.000000  46.750000   96.750000  \n",
       "max     21.000000  62.000000  126.000000  "
      ]
     },
     "execution_count": 30,
     "metadata": {},
     "output_type": "execute_result"
    }
   ],
   "source": [
    "df.describe()\n",
    "#looking at the data overall, we can say that there is not much deviation present in data also, \n",
    "#the mean values are approximately equal or nearby the median values. This shows that data is fairly normally distributed."
   ]
  },
  {
   "cell_type": "code",
   "execution_count": 31,
   "id": "2d901ad8",
   "metadata": {},
   "outputs": [
    {
     "data": {
      "text/plain": [
       "<AxesSubplot:>"
      ]
     },
     "execution_count": 31,
     "metadata": {},
     "output_type": "execute_result"
    },
    {
     "data": {
      "image/png": "[encoded data removed]",
      "text/plain": [
       "<Figure size 432x288 with 1 Axes>"
      ]
     },
     "metadata": {
      "needs_background": "light"
     },
     "output_type": "display_data"
    }
   ],
   "source": [
    "#checking for outliers in the data set for each column\n",
    "df['Runs Scored'].plot.box()\n",
    "\n",
    "#the outlier is present"
   ]
  },
  {
   "cell_type": "code",
   "execution_count": 32,
   "id": "56b17e25",
   "metadata": {},
   "outputs": [
    {
     "data": {
      "text/plain": [
       "<AxesSubplot:>"
      ]
     },
     "execution_count": 32,
     "metadata": {},
     "output_type": "execute_result"
    },
    {
     "data": {
      "image/png": "[encoded data removed]",
      "text/plain": [
       "<Figure size 432x288 with 1 Axes>"
      ]
     },
     "metadata": {
      "needs_background": "light"
     },
     "output_type": "display_data"
    }
   ],
   "source": [
    "df['At Bat'].plot.box()\n",
    "\n",
    "#no outlier is present"
   ]
  },
  {
   "cell_type": "code",
   "execution_count": 33,
   "id": "c3184e04",
   "metadata": {},
   "outputs": [
    {
     "data": {
      "text/plain": [
       "<AxesSubplot:>"
      ]
     },
     "execution_count": 33,
     "metadata": {},
     "output_type": "execute_result"
    },
    {
     "data": {
      "image/png": "[encoded data removed]",
      "text/plain": [
       "<Figure size 432x288 with 1 Axes>"
      ]
     },
     "metadata": {
      "needs_background": "light"
     },
     "output_type": "display_data"
    }
   ],
   "source": [
    "df['Hits'].plot.box()\n",
    "\n",
    "#No outlier is present"
   ]
  },
  {
   "cell_type": "code",
   "execution_count": 34,
   "id": "b593f092",
   "metadata": {},
   "outputs": [
    {
     "data": {
      "text/plain": [
       "<AxesSubplot:>"
      ]
     },
     "execution_count": 34,
     "metadata": {},
     "output_type": "execute_result"
    },
    {
     "data": {
      "image/png": "[encoded data removed]",
      "text/plain": [
       "<Figure size 432x288 with 1 Axes>"
      ]
     },
     "metadata": {
      "needs_background": "light"
     },
     "output_type": "display_data"
    }
   ],
   "source": [
    "df['Double'].plot.box()\n",
    "\n",
    "#No outlier is present"
   ]
  },
  {
   "cell_type": "code",
   "execution_count": 35,
   "id": "395ed192",
   "metadata": {},
   "outputs": [
    {
     "data": {
      "text/plain": [
       "<AxesSubplot:>"
      ]
     },
     "execution_count": 35,
     "metadata": {},
     "output_type": "execute_result"
    },
    {
     "data": {
      "image/png": "[encoded data removed]",
      "text/plain": [
       "<Figure size 432x288 with 1 Axes>"
      ]
     },
     "metadata": {
      "needs_background": "light"
     },
     "output_type": "display_data"
    }
   ],
   "source": [
    "df['Triple'].plot.box()\n",
    "\n",
    "#the outlier is present"
   ]
  },
  {
   "cell_type": "code",
   "execution_count": 36,
   "id": "5bd65a45",
   "metadata": {},
   "outputs": [
    {
     "data": {
      "text/plain": [
       "<AxesSubplot:>"
      ]
     },
     "execution_count": 36,
     "metadata": {},
     "output_type": "execute_result"
    },
    {
     "data": {
      "image/png": "[encoded data removed]",
      "text/plain": [
       "<Figure size 432x288 with 1 Axes>"
      ]
     },
     "metadata": {
      "needs_background": "light"
     },
     "output_type": "display_data"
    }
   ],
   "source": [
    "df['Home Runs'].plot.box()\n",
    "\n",
    "#No outlier is present"
   ]
  },
  {
   "cell_type": "code",
   "execution_count": 37,
   "id": "4da09f5f",
   "metadata": {},
   "outputs": [
    {
     "data": {
      "text/plain": [
       "<AxesSubplot:>"
      ]
     },
     "execution_count": 37,
     "metadata": {},
     "output_type": "execute_result"
    },
    {
     "data": {
      "image/png": "[encoded data removed]",
      "text/plain": [
       "<Figure size 432x288 with 1 Axes>"
      ]
     },
     "metadata": {
      "needs_background": "light"
     },
     "output_type": "display_data"
    }
   ],
   "source": [
    "df['Walks'].plot.box()\n",
    "\n",
    "#No outlier is present"
   ]
  },
  {
   "cell_type": "code",
   "execution_count": 38,
   "id": "4d50788e",
   "metadata": {},
   "outputs": [
    {
     "data": {
      "text/plain": [
       "<AxesSubplot:>"
      ]
     },
     "execution_count": 38,
     "metadata": {},
     "output_type": "execute_result"
    },
    {
     "data": {
      "image/png": "[encoded data removed]",
      "text/plain": [
       "<Figure size 432x288 with 1 Axes>"
      ]
     },
     "metadata": {
      "needs_background": "light"
     },
     "output_type": "display_data"
    }
   ],
   "source": [
    "df['Strike Out'].plot.box()\n",
    "\n",
    "#No outlier is present"
   ]
  },
  {
   "cell_type": "code",
   "execution_count": 39,
   "id": "48574ca7",
   "metadata": {},
   "outputs": [
    {
     "data": {
      "text/plain": [
       "<AxesSubplot:>"
      ]
     },
     "execution_count": 39,
     "metadata": {},
     "output_type": "execute_result"
    },
    {
     "data": {
      "image/png": "[encoded data removed]",
      "text/plain": [
       "<Figure size 432x288 with 1 Axes>"
      ]
     },
     "metadata": {
      "needs_background": "light"
     },
     "output_type": "display_data"
    }
   ],
   "source": [
    "df['Stolen Base'].plot.box()\n",
    "\n",
    "#No outlier is present"
   ]
  },
  {
   "cell_type": "code",
   "execution_count": 40,
   "id": "435634ce",
   "metadata": {},
   "outputs": [
    {
     "data": {
      "text/plain": [
       "<AxesSubplot:>"
      ]
     },
     "execution_count": 40,
     "metadata": {},
     "output_type": "execute_result"
    },
    {
     "data": {
      "image/png": "[encoded data removed]",
      "text/plain": [
       "<Figure size 432x288 with 1 Axes>"
      ]
     },
     "metadata": {
      "needs_background": "light"
     },
     "output_type": "display_data"
    }
   ],
   "source": [
    "df['Runs Allowed'].plot.box()\n",
    "\n",
    "#No outlier is present"
   ]
  },
  {
   "cell_type": "code",
   "execution_count": 41,
   "id": "c812ca58",
   "metadata": {},
   "outputs": [
    {
     "data": {
      "text/plain": [
       "<AxesSubplot:>"
      ]
     },
     "execution_count": 41,
     "metadata": {},
     "output_type": "execute_result"
    },
    {
     "data": {
      "image/png": "[encoded data removed]",
      "text/plain": [
       "<Figure size 432x288 with 1 Axes>"
      ]
     },
     "metadata": {
      "needs_background": "light"
     },
     "output_type": "display_data"
    }
   ],
   "source": [
    "df['Earned Runs'].plot.box()\n",
    "\n",
    "#No outlier is present"
   ]
  },
  {
   "cell_type": "code",
   "execution_count": 42,
   "id": "fc307dff",
   "metadata": {},
   "outputs": [
    {
     "data": {
      "text/plain": [
       "<AxesSubplot:>"
      ]
     },
     "execution_count": 42,
     "metadata": {},
     "output_type": "execute_result"
    },
    {
     "data": {
      "image/png": "[encoded data removed]",
      "text/plain": [
       "<Figure size 432x288 with 1 Axes>"
      ]
     },
     "metadata": {
      "needs_background": "light"
     },
     "output_type": "display_data"
    }
   ],
   "source": [
    "df['Earned Run Average'].plot.box()\n",
    "\n",
    "#can be outlier."
   ]
  },
  {
   "cell_type": "code",
   "execution_count": 43,
   "id": "7db795b3",
   "metadata": {},
   "outputs": [
    {
     "data": {
      "text/plain": [
       "<AxesSubplot:>"
      ]
     },
     "execution_count": 43,
     "metadata": {},
     "output_type": "execute_result"
    },
    {
     "data": {
      "image/png": "[encoded data removed]",
      "text/plain": [
       "<Figure size 432x288 with 1 Axes>"
      ]
     },
     "metadata": {
      "needs_background": "light"
     },
     "output_type": "display_data"
    }
   ],
   "source": [
    "df['Complete Games'].plot.box()\n",
    "\n",
    "#No outlier is present"
   ]
  },
  {
   "cell_type": "code",
   "execution_count": 44,
   "id": "2c22f6db",
   "metadata": {},
   "outputs": [
    {
     "data": {
      "text/plain": [
       "<AxesSubplot:>"
      ]
     },
     "execution_count": 44,
     "metadata": {},
     "output_type": "execute_result"
    },
    {
     "data": {
      "image/png": "[encoded data removed]",
      "text/plain": [
       "<Figure size 432x288 with 1 Axes>"
      ]
     },
     "metadata": {
      "needs_background": "light"
     },
     "output_type": "display_data"
    }
   ],
   "source": [
    "df['Shout Outs'].plot.box()\n",
    "\n",
    "#can be an outlier or not"
   ]
  },
  {
   "cell_type": "code",
   "execution_count": 45,
   "id": "ad0042fd",
   "metadata": {},
   "outputs": [
    {
     "data": {
      "text/plain": [
       "<AxesSubplot:>"
      ]
     },
     "execution_count": 45,
     "metadata": {},
     "output_type": "execute_result"
    },
    {
     "data": {
      "image/png": "[encoded data removed]",
      "text/plain": [
       "<Figure size 432x288 with 1 Axes>"
      ]
     },
     "metadata": {
      "needs_background": "light"
     },
     "output_type": "display_data"
    }
   ],
   "source": [
    "df['Saves'].plot.box()\n",
    "\n",
    "#no outliers as such"
   ]
  },
  {
   "cell_type": "code",
   "execution_count": 46,
   "id": "50df5fef",
   "metadata": {},
   "outputs": [
    {
     "data": {
      "text/plain": [
       "<AxesSubplot:>"
      ]
     },
     "execution_count": 46,
     "metadata": {},
     "output_type": "execute_result"
    },
    {
     "data": {
      "image/png": "[encoded data removed]",
      "text/plain": [
       "<Figure size 432x288 with 1 Axes>"
      ]
     },
     "metadata": {
      "needs_background": "light"
     },
     "output_type": "display_data"
    }
   ],
   "source": [
    "df['Errors'].plot.box()\n",
    "\n",
    "#can say that few outlier may or may not be present"
   ]
  },
  {
   "cell_type": "code",
   "execution_count": 47,
   "id": "565b1a3b",
   "metadata": {},
   "outputs": [
    {
     "data": {
      "text/plain": [
       "Wins                     AxesSubplot(0.125,0.536818;0.0731132x0.343182)\n",
       "Runs Scored           AxesSubplot(0.212736,0.536818;0.0731132x0.343182)\n",
       "At Bat                AxesSubplot(0.300472,0.536818;0.0731132x0.343182)\n",
       "Hits                  AxesSubplot(0.388208,0.536818;0.0731132x0.343182)\n",
       "Double                AxesSubplot(0.475943,0.536818;0.0731132x0.343182)\n",
       "Triple                AxesSubplot(0.563679,0.536818;0.0731132x0.343182)\n",
       "Home Runs             AxesSubplot(0.651415,0.536818;0.0731132x0.343182)\n",
       "Walks                 AxesSubplot(0.739151,0.536818;0.0731132x0.343182)\n",
       "Strike Out            AxesSubplot(0.826887,0.536818;0.0731132x0.343182)\n",
       "Stolen Base                 AxesSubplot(0.125,0.125;0.0731132x0.343182)\n",
       "Runs Allowed             AxesSubplot(0.212736,0.125;0.0731132x0.343182)\n",
       "Earned Runs              AxesSubplot(0.300472,0.125;0.0731132x0.343182)\n",
       "Earned Run Average       AxesSubplot(0.388208,0.125;0.0731132x0.343182)\n",
       "Complete Games           AxesSubplot(0.475943,0.125;0.0731132x0.343182)\n",
       "Shout Outs               AxesSubplot(0.563679,0.125;0.0731132x0.343182)\n",
       "Saves                    AxesSubplot(0.651415,0.125;0.0731132x0.343182)\n",
       "Errors                   AxesSubplot(0.739151,0.125;0.0731132x0.343182)\n",
       "dtype: object"
      ]
     },
     "execution_count": 47,
     "metadata": {},
     "output_type": "execute_result"
    },
    {
     "data": {
      "image/png": "[encoded data removed]",
      "text/plain": [
       "<Figure size 432x288 with 18 Axes>"
      ]
     },
     "metadata": {
      "needs_background": "light"
     },
     "output_type": "display_data"
    }
   ],
   "source": [
    "#plotting the plot all together\n",
    "df.plot(kind='box', subplots=True, layout=(2,9))"
   ]
  },
  {
   "cell_type": "code",
   "execution_count": 48,
   "id": "772297d0",
   "metadata": {},
   "outputs": [],
   "source": [
    "#using the z score to remove the outliers"
   ]
  },
  {
   "cell_type": "code",
   "execution_count": 49,
   "id": "e14daa12",
   "metadata": {},
   "outputs": [
    {
     "data": {
      "text/plain": [
       "(30, 17)"
      ]
     },
     "execution_count": 49,
     "metadata": {},
     "output_type": "execute_result"
    }
   ],
   "source": [
    "from scipy.stats import zscore\n",
    "z=np.abs(zscore(df))\n",
    "z.shape"
   ]
  },
  {
   "cell_type": "code",
   "execution_count": 50,
   "id": "ea6b96e9",
   "metadata": {},
   "outputs": [
    {
     "name": "stdout",
     "output_type": "stream",
     "text": [
      "(array([5], dtype=int64), array([1], dtype=int64))\n"
     ]
    }
   ],
   "source": [
    "threshold=3\n",
    "print(np.where(z>3))\n",
    "\n",
    "# the displayed value in the row and column is the values where the outliers are present "
   ]
  },
  {
   "cell_type": "code",
   "execution_count": 51,
   "id": "696bfaaf",
   "metadata": {},
   "outputs": [
    {
     "data": {
      "text/plain": [
       "3.5096470447193067"
      ]
     },
     "execution_count": 51,
     "metadata": {},
     "output_type": "execute_result"
    }
   ],
   "source": [
    "#to find the value of outlier\n",
    "z[5][1]\n",
    "\n",
    "#we can clearly see that in the entire dataset only one outlier is present and that too is not very much far away from the acceptable range of z."
   ]
  },
  {
   "cell_type": "code",
   "execution_count": 52,
   "id": "b70fab85",
   "metadata": {},
   "outputs": [
    {
     "data": {
      "text/plain": [
       "1"
      ]
     },
     "execution_count": 52,
     "metadata": {},
     "output_type": "execute_result"
    }
   ],
   "source": [
    "#total number of outliers presnt are:\n",
    "len(np.where(z>3)[0])\n",
    "\n",
    "# we can say that data had almost no outliers just 1 outlier is present."
   ]
  },
  {
   "cell_type": "code",
   "execution_count": 53,
   "id": "dca9ae3b",
   "metadata": {},
   "outputs": [
    {
     "data": {
      "text/html": [
       "<div>\n",
       "<style scoped>\n",
       "    .dataframe tbody tr th:only-of-type {\n",
       "        vertical-align: middle;\n",
       "    }\n",
       "\n",
       "    .dataframe tbody tr th {\n",
       "        vertical-align: top;\n",
       "    }\n",
       "\n",
       "    .dataframe thead th {\n",
       "        text-align: right;\n",
       "    }\n",
       "</style>\n",
       "<table border=\"1\" class=\"dataframe\">\n",
       "  <thead>\n",
       "    <tr style=\"text-align: right;\">\n",
       "      <th></th>\n",
       "      <th>Wins</th>\n",
       "      <th>Runs Scored</th>\n",
       "      <th>At Bat</th>\n",
       "      <th>Hits</th>\n",
       "      <th>Double</th>\n",
       "      <th>Triple</th>\n",
       "      <th>Home Runs</th>\n",
       "      <th>Walks</th>\n",
       "      <th>Strike Out</th>\n",
       "      <th>Stolen Base</th>\n",
       "      <th>Runs Allowed</th>\n",
       "      <th>Earned Runs</th>\n",
       "      <th>Earned Run Average</th>\n",
       "      <th>Complete Games</th>\n",
       "      <th>Shout Outs</th>\n",
       "      <th>Saves</th>\n",
       "      <th>Errors</th>\n",
       "    </tr>\n",
       "  </thead>\n",
       "  <tbody>\n",
       "    <tr>\n",
       "      <th>0</th>\n",
       "      <td>95</td>\n",
       "      <td>724</td>\n",
       "      <td>5575</td>\n",
       "      <td>1497</td>\n",
       "      <td>300</td>\n",
       "      <td>42</td>\n",
       "      <td>139</td>\n",
       "      <td>383</td>\n",
       "      <td>973</td>\n",
       "      <td>104</td>\n",
       "      <td>641</td>\n",
       "      <td>601</td>\n",
       "      <td>3.73</td>\n",
       "      <td>2</td>\n",
       "      <td>8</td>\n",
       "      <td>56</td>\n",
       "      <td>88</td>\n",
       "    </tr>\n",
       "    <tr>\n",
       "      <th>1</th>\n",
       "      <td>83</td>\n",
       "      <td>696</td>\n",
       "      <td>5467</td>\n",
       "      <td>1349</td>\n",
       "      <td>277</td>\n",
       "      <td>44</td>\n",
       "      <td>156</td>\n",
       "      <td>439</td>\n",
       "      <td>1264</td>\n",
       "      <td>70</td>\n",
       "      <td>700</td>\n",
       "      <td>653</td>\n",
       "      <td>4.07</td>\n",
       "      <td>2</td>\n",
       "      <td>12</td>\n",
       "      <td>45</td>\n",
       "      <td>86</td>\n",
       "    </tr>\n",
       "    <tr>\n",
       "      <th>2</th>\n",
       "      <td>81</td>\n",
       "      <td>669</td>\n",
       "      <td>5439</td>\n",
       "      <td>1395</td>\n",
       "      <td>303</td>\n",
       "      <td>29</td>\n",
       "      <td>141</td>\n",
       "      <td>533</td>\n",
       "      <td>1157</td>\n",
       "      <td>86</td>\n",
       "      <td>640</td>\n",
       "      <td>584</td>\n",
       "      <td>3.67</td>\n",
       "      <td>11</td>\n",
       "      <td>10</td>\n",
       "      <td>38</td>\n",
       "      <td>79</td>\n",
       "    </tr>\n",
       "    <tr>\n",
       "      <th>3</th>\n",
       "      <td>76</td>\n",
       "      <td>622</td>\n",
       "      <td>5533</td>\n",
       "      <td>1381</td>\n",
       "      <td>260</td>\n",
       "      <td>27</td>\n",
       "      <td>136</td>\n",
       "      <td>404</td>\n",
       "      <td>1231</td>\n",
       "      <td>68</td>\n",
       "      <td>701</td>\n",
       "      <td>643</td>\n",
       "      <td>3.98</td>\n",
       "      <td>7</td>\n",
       "      <td>9</td>\n",
       "      <td>37</td>\n",
       "      <td>101</td>\n",
       "    </tr>\n",
       "    <tr>\n",
       "      <th>4</th>\n",
       "      <td>74</td>\n",
       "      <td>689</td>\n",
       "      <td>5605</td>\n",
       "      <td>1515</td>\n",
       "      <td>289</td>\n",
       "      <td>49</td>\n",
       "      <td>151</td>\n",
       "      <td>455</td>\n",
       "      <td>1259</td>\n",
       "      <td>83</td>\n",
       "      <td>803</td>\n",
       "      <td>746</td>\n",
       "      <td>4.64</td>\n",
       "      <td>7</td>\n",
       "      <td>12</td>\n",
       "      <td>35</td>\n",
       "      <td>86</td>\n",
       "    </tr>\n",
       "    <tr>\n",
       "      <th>6</th>\n",
       "      <td>87</td>\n",
       "      <td>764</td>\n",
       "      <td>5567</td>\n",
       "      <td>1397</td>\n",
       "      <td>272</td>\n",
       "      <td>19</td>\n",
       "      <td>212</td>\n",
       "      <td>554</td>\n",
       "      <td>1227</td>\n",
       "      <td>63</td>\n",
       "      <td>698</td>\n",
       "      <td>652</td>\n",
       "      <td>4.03</td>\n",
       "      <td>3</td>\n",
       "      <td>4</td>\n",
       "      <td>48</td>\n",
       "      <td>93</td>\n",
       "    </tr>\n",
       "    <tr>\n",
       "      <th>7</th>\n",
       "      <td>81</td>\n",
       "      <td>713</td>\n",
       "      <td>5485</td>\n",
       "      <td>1370</td>\n",
       "      <td>246</td>\n",
       "      <td>20</td>\n",
       "      <td>217</td>\n",
       "      <td>418</td>\n",
       "      <td>1331</td>\n",
       "      <td>44</td>\n",
       "      <td>693</td>\n",
       "      <td>646</td>\n",
       "      <td>4.05</td>\n",
       "      <td>0</td>\n",
       "      <td>10</td>\n",
       "      <td>43</td>\n",
       "      <td>77</td>\n",
       "    </tr>\n",
       "    <tr>\n",
       "      <th>8</th>\n",
       "      <td>80</td>\n",
       "      <td>644</td>\n",
       "      <td>5485</td>\n",
       "      <td>1383</td>\n",
       "      <td>278</td>\n",
       "      <td>32</td>\n",
       "      <td>167</td>\n",
       "      <td>436</td>\n",
       "      <td>1310</td>\n",
       "      <td>87</td>\n",
       "      <td>642</td>\n",
       "      <td>604</td>\n",
       "      <td>3.74</td>\n",
       "      <td>1</td>\n",
       "      <td>12</td>\n",
       "      <td>60</td>\n",
       "      <td>95</td>\n",
       "    </tr>\n",
       "    <tr>\n",
       "      <th>9</th>\n",
       "      <td>78</td>\n",
       "      <td>748</td>\n",
       "      <td>5640</td>\n",
       "      <td>1495</td>\n",
       "      <td>294</td>\n",
       "      <td>33</td>\n",
       "      <td>161</td>\n",
       "      <td>478</td>\n",
       "      <td>1148</td>\n",
       "      <td>71</td>\n",
       "      <td>753</td>\n",
       "      <td>694</td>\n",
       "      <td>4.31</td>\n",
       "      <td>3</td>\n",
       "      <td>10</td>\n",
       "      <td>40</td>\n",
       "      <td>97</td>\n",
       "    </tr>\n",
       "    <tr>\n",
       "      <th>10</th>\n",
       "      <td>88</td>\n",
       "      <td>751</td>\n",
       "      <td>5511</td>\n",
       "      <td>1419</td>\n",
       "      <td>279</td>\n",
       "      <td>32</td>\n",
       "      <td>172</td>\n",
       "      <td>503</td>\n",
       "      <td>1233</td>\n",
       "      <td>101</td>\n",
       "      <td>733</td>\n",
       "      <td>680</td>\n",
       "      <td>4.24</td>\n",
       "      <td>5</td>\n",
       "      <td>9</td>\n",
       "      <td>45</td>\n",
       "      <td>119</td>\n",
       "    </tr>\n",
       "    <tr>\n",
       "      <th>11</th>\n",
       "      <td>86</td>\n",
       "      <td>729</td>\n",
       "      <td>5459</td>\n",
       "      <td>1363</td>\n",
       "      <td>278</td>\n",
       "      <td>26</td>\n",
       "      <td>230</td>\n",
       "      <td>486</td>\n",
       "      <td>1392</td>\n",
       "      <td>121</td>\n",
       "      <td>618</td>\n",
       "      <td>572</td>\n",
       "      <td>3.57</td>\n",
       "      <td>5</td>\n",
       "      <td>13</td>\n",
       "      <td>39</td>\n",
       "      <td>85</td>\n",
       "    </tr>\n",
       "    <tr>\n",
       "      <th>12</th>\n",
       "      <td>85</td>\n",
       "      <td>661</td>\n",
       "      <td>5417</td>\n",
       "      <td>1331</td>\n",
       "      <td>243</td>\n",
       "      <td>21</td>\n",
       "      <td>176</td>\n",
       "      <td>435</td>\n",
       "      <td>1150</td>\n",
       "      <td>52</td>\n",
       "      <td>675</td>\n",
       "      <td>630</td>\n",
       "      <td>3.94</td>\n",
       "      <td>2</td>\n",
       "      <td>12</td>\n",
       "      <td>46</td>\n",
       "      <td>93</td>\n",
       "    </tr>\n",
       "    <tr>\n",
       "      <th>13</th>\n",
       "      <td>76</td>\n",
       "      <td>656</td>\n",
       "      <td>5544</td>\n",
       "      <td>1379</td>\n",
       "      <td>262</td>\n",
       "      <td>22</td>\n",
       "      <td>198</td>\n",
       "      <td>478</td>\n",
       "      <td>1336</td>\n",
       "      <td>69</td>\n",
       "      <td>726</td>\n",
       "      <td>677</td>\n",
       "      <td>4.16</td>\n",
       "      <td>6</td>\n",
       "      <td>12</td>\n",
       "      <td>45</td>\n",
       "      <td>94</td>\n",
       "    </tr>\n",
       "    <tr>\n",
       "      <th>14</th>\n",
       "      <td>68</td>\n",
       "      <td>694</td>\n",
       "      <td>5600</td>\n",
       "      <td>1405</td>\n",
       "      <td>277</td>\n",
       "      <td>46</td>\n",
       "      <td>146</td>\n",
       "      <td>475</td>\n",
       "      <td>1119</td>\n",
       "      <td>78</td>\n",
       "      <td>729</td>\n",
       "      <td>664</td>\n",
       "      <td>4.14</td>\n",
       "      <td>5</td>\n",
       "      <td>15</td>\n",
       "      <td>28</td>\n",
       "      <td>126</td>\n",
       "    </tr>\n",
       "    <tr>\n",
       "      <th>15</th>\n",
       "      <td>100</td>\n",
       "      <td>647</td>\n",
       "      <td>5484</td>\n",
       "      <td>1386</td>\n",
       "      <td>288</td>\n",
       "      <td>39</td>\n",
       "      <td>137</td>\n",
       "      <td>506</td>\n",
       "      <td>1267</td>\n",
       "      <td>69</td>\n",
       "      <td>525</td>\n",
       "      <td>478</td>\n",
       "      <td>2.94</td>\n",
       "      <td>1</td>\n",
       "      <td>15</td>\n",
       "      <td>62</td>\n",
       "      <td>96</td>\n",
       "    </tr>\n",
       "    <tr>\n",
       "      <th>16</th>\n",
       "      <td>98</td>\n",
       "      <td>697</td>\n",
       "      <td>5631</td>\n",
       "      <td>1462</td>\n",
       "      <td>292</td>\n",
       "      <td>27</td>\n",
       "      <td>140</td>\n",
       "      <td>461</td>\n",
       "      <td>1322</td>\n",
       "      <td>98</td>\n",
       "      <td>596</td>\n",
       "      <td>532</td>\n",
       "      <td>3.21</td>\n",
       "      <td>0</td>\n",
       "      <td>13</td>\n",
       "      <td>54</td>\n",
       "      <td>122</td>\n",
       "    </tr>\n",
       "    <tr>\n",
       "      <th>17</th>\n",
       "      <td>97</td>\n",
       "      <td>689</td>\n",
       "      <td>5491</td>\n",
       "      <td>1341</td>\n",
       "      <td>272</td>\n",
       "      <td>30</td>\n",
       "      <td>171</td>\n",
       "      <td>567</td>\n",
       "      <td>1518</td>\n",
       "      <td>95</td>\n",
       "      <td>608</td>\n",
       "      <td>546</td>\n",
       "      <td>3.36</td>\n",
       "      <td>6</td>\n",
       "      <td>21</td>\n",
       "      <td>48</td>\n",
       "      <td>111</td>\n",
       "    </tr>\n",
       "    <tr>\n",
       "      <th>18</th>\n",
       "      <td>68</td>\n",
       "      <td>655</td>\n",
       "      <td>5480</td>\n",
       "      <td>1378</td>\n",
       "      <td>274</td>\n",
       "      <td>34</td>\n",
       "      <td>145</td>\n",
       "      <td>412</td>\n",
       "      <td>1299</td>\n",
       "      <td>84</td>\n",
       "      <td>737</td>\n",
       "      <td>682</td>\n",
       "      <td>4.28</td>\n",
       "      <td>1</td>\n",
       "      <td>7</td>\n",
       "      <td>40</td>\n",
       "      <td>116</td>\n",
       "    </tr>\n",
       "    <tr>\n",
       "      <th>19</th>\n",
       "      <td>64</td>\n",
       "      <td>640</td>\n",
       "      <td>5571</td>\n",
       "      <td>1382</td>\n",
       "      <td>257</td>\n",
       "      <td>27</td>\n",
       "      <td>167</td>\n",
       "      <td>496</td>\n",
       "      <td>1255</td>\n",
       "      <td>134</td>\n",
       "      <td>754</td>\n",
       "      <td>700</td>\n",
       "      <td>4.33</td>\n",
       "      <td>2</td>\n",
       "      <td>8</td>\n",
       "      <td>35</td>\n",
       "      <td>90</td>\n",
       "    </tr>\n",
       "    <tr>\n",
       "      <th>20</th>\n",
       "      <td>90</td>\n",
       "      <td>683</td>\n",
       "      <td>5527</td>\n",
       "      <td>1351</td>\n",
       "      <td>295</td>\n",
       "      <td>17</td>\n",
       "      <td>177</td>\n",
       "      <td>488</td>\n",
       "      <td>1290</td>\n",
       "      <td>51</td>\n",
       "      <td>613</td>\n",
       "      <td>557</td>\n",
       "      <td>3.43</td>\n",
       "      <td>1</td>\n",
       "      <td>14</td>\n",
       "      <td>50</td>\n",
       "      <td>88</td>\n",
       "    </tr>\n",
       "    <tr>\n",
       "      <th>21</th>\n",
       "      <td>83</td>\n",
       "      <td>703</td>\n",
       "      <td>5428</td>\n",
       "      <td>1363</td>\n",
       "      <td>265</td>\n",
       "      <td>13</td>\n",
       "      <td>177</td>\n",
       "      <td>539</td>\n",
       "      <td>1344</td>\n",
       "      <td>57</td>\n",
       "      <td>635</td>\n",
       "      <td>577</td>\n",
       "      <td>3.62</td>\n",
       "      <td>4</td>\n",
       "      <td>13</td>\n",
       "      <td>41</td>\n",
       "      <td>90</td>\n",
       "    </tr>\n",
       "    <tr>\n",
       "      <th>22</th>\n",
       "      <td>71</td>\n",
       "      <td>613</td>\n",
       "      <td>5463</td>\n",
       "      <td>1420</td>\n",
       "      <td>236</td>\n",
       "      <td>40</td>\n",
       "      <td>120</td>\n",
       "      <td>375</td>\n",
       "      <td>1150</td>\n",
       "      <td>112</td>\n",
       "      <td>678</td>\n",
       "      <td>638</td>\n",
       "      <td>4.02</td>\n",
       "      <td>0</td>\n",
       "      <td>12</td>\n",
       "      <td>35</td>\n",
       "      <td>77</td>\n",
       "    </tr>\n",
       "    <tr>\n",
       "      <th>23</th>\n",
       "      <td>67</td>\n",
       "      <td>573</td>\n",
       "      <td>5420</td>\n",
       "      <td>1361</td>\n",
       "      <td>251</td>\n",
       "      <td>18</td>\n",
       "      <td>100</td>\n",
       "      <td>471</td>\n",
       "      <td>1107</td>\n",
       "      <td>69</td>\n",
       "      <td>760</td>\n",
       "      <td>698</td>\n",
       "      <td>4.41</td>\n",
       "      <td>3</td>\n",
       "      <td>10</td>\n",
       "      <td>44</td>\n",
       "      <td>90</td>\n",
       "    </tr>\n",
       "    <tr>\n",
       "      <th>24</th>\n",
       "      <td>63</td>\n",
       "      <td>626</td>\n",
       "      <td>5529</td>\n",
       "      <td>1374</td>\n",
       "      <td>272</td>\n",
       "      <td>37</td>\n",
       "      <td>130</td>\n",
       "      <td>387</td>\n",
       "      <td>1274</td>\n",
       "      <td>88</td>\n",
       "      <td>809</td>\n",
       "      <td>749</td>\n",
       "      <td>4.69</td>\n",
       "      <td>1</td>\n",
       "      <td>7</td>\n",
       "      <td>35</td>\n",
       "      <td>117</td>\n",
       "    </tr>\n",
       "    <tr>\n",
       "      <th>25</th>\n",
       "      <td>92</td>\n",
       "      <td>667</td>\n",
       "      <td>5385</td>\n",
       "      <td>1346</td>\n",
       "      <td>263</td>\n",
       "      <td>26</td>\n",
       "      <td>187</td>\n",
       "      <td>563</td>\n",
       "      <td>1258</td>\n",
       "      <td>59</td>\n",
       "      <td>595</td>\n",
       "      <td>553</td>\n",
       "      <td>3.44</td>\n",
       "      <td>6</td>\n",
       "      <td>21</td>\n",
       "      <td>47</td>\n",
       "      <td>75</td>\n",
       "    </tr>\n",
       "    <tr>\n",
       "      <th>26</th>\n",
       "      <td>84</td>\n",
       "      <td>696</td>\n",
       "      <td>5565</td>\n",
       "      <td>1486</td>\n",
       "      <td>288</td>\n",
       "      <td>39</td>\n",
       "      <td>136</td>\n",
       "      <td>457</td>\n",
       "      <td>1159</td>\n",
       "      <td>93</td>\n",
       "      <td>627</td>\n",
       "      <td>597</td>\n",
       "      <td>3.72</td>\n",
       "      <td>7</td>\n",
       "      <td>18</td>\n",
       "      <td>41</td>\n",
       "      <td>78</td>\n",
       "    </tr>\n",
       "    <tr>\n",
       "      <th>27</th>\n",
       "      <td>79</td>\n",
       "      <td>720</td>\n",
       "      <td>5649</td>\n",
       "      <td>1494</td>\n",
       "      <td>289</td>\n",
       "      <td>48</td>\n",
       "      <td>154</td>\n",
       "      <td>490</td>\n",
       "      <td>1312</td>\n",
       "      <td>132</td>\n",
       "      <td>713</td>\n",
       "      <td>659</td>\n",
       "      <td>4.04</td>\n",
       "      <td>1</td>\n",
       "      <td>12</td>\n",
       "      <td>44</td>\n",
       "      <td>86</td>\n",
       "    </tr>\n",
       "    <tr>\n",
       "      <th>28</th>\n",
       "      <td>74</td>\n",
       "      <td>650</td>\n",
       "      <td>5457</td>\n",
       "      <td>1324</td>\n",
       "      <td>260</td>\n",
       "      <td>36</td>\n",
       "      <td>148</td>\n",
       "      <td>426</td>\n",
       "      <td>1327</td>\n",
       "      <td>82</td>\n",
       "      <td>731</td>\n",
       "      <td>655</td>\n",
       "      <td>4.09</td>\n",
       "      <td>1</td>\n",
       "      <td>6</td>\n",
       "      <td>41</td>\n",
       "      <td>92</td>\n",
       "    </tr>\n",
       "    <tr>\n",
       "      <th>29</th>\n",
       "      <td>68</td>\n",
       "      <td>737</td>\n",
       "      <td>5572</td>\n",
       "      <td>1479</td>\n",
       "      <td>274</td>\n",
       "      <td>49</td>\n",
       "      <td>186</td>\n",
       "      <td>388</td>\n",
       "      <td>1283</td>\n",
       "      <td>97</td>\n",
       "      <td>844</td>\n",
       "      <td>799</td>\n",
       "      <td>5.04</td>\n",
       "      <td>4</td>\n",
       "      <td>4</td>\n",
       "      <td>36</td>\n",
       "      <td>95</td>\n",
       "    </tr>\n",
       "  </tbody>\n",
       "</table>\n",
       "</div>"
      ],
      "text/plain": [
       "    Wins  Runs Scored  At Bat  Hits  Double  Triple  Home Runs  Walks  \\\n",
       "0     95          724    5575  1497     300      42        139    383   \n",
       "1     83          696    5467  1349     277      44        156    439   \n",
       "2     81          669    5439  1395     303      29        141    533   \n",
       "3     76          622    5533  1381     260      27        136    404   \n",
       "4     74          689    5605  1515     289      49        151    455   \n",
       "6     87          764    5567  1397     272      19        212    554   \n",
       "7     81          713    5485  1370     246      20        217    418   \n",
       "8     80          644    5485  1383     278      32        167    436   \n",
       "9     78          748    5640  1495     294      33        161    478   \n",
       "10    88          751    5511  1419     279      32        172    503   \n",
       "11    86          729    5459  1363     278      26        230    486   \n",
       "12    85          661    5417  1331     243      21        176    435   \n",
       "13    76          656    5544  1379     262      22        198    478   \n",
       "14    68          694    5600  1405     277      46        146    475   \n",
       "15   100          647    5484  1386     288      39        137    506   \n",
       "16    98          697    5631  1462     292      27        140    461   \n",
       "17    97          689    5491  1341     272      30        171    567   \n",
       "18    68          655    5480  1378     274      34        145    412   \n",
       "19    64          640    5571  1382     257      27        167    496   \n",
       "20    90          683    5527  1351     295      17        177    488   \n",
       "21    83          703    5428  1363     265      13        177    539   \n",
       "22    71          613    5463  1420     236      40        120    375   \n",
       "23    67          573    5420  1361     251      18        100    471   \n",
       "24    63          626    5529  1374     272      37        130    387   \n",
       "25    92          667    5385  1346     263      26        187    563   \n",
       "26    84          696    5565  1486     288      39        136    457   \n",
       "27    79          720    5649  1494     289      48        154    490   \n",
       "28    74          650    5457  1324     260      36        148    426   \n",
       "29    68          737    5572  1479     274      49        186    388   \n",
       "\n",
       "    Strike Out  Stolen Base  Runs Allowed  Earned Runs  Earned Run Average  \\\n",
       "0          973          104           641          601                3.73   \n",
       "1         1264           70           700          653                4.07   \n",
       "2         1157           86           640          584                3.67   \n",
       "3         1231           68           701          643                3.98   \n",
       "4         1259           83           803          746                4.64   \n",
       "6         1227           63           698          652                4.03   \n",
       "7         1331           44           693          646                4.05   \n",
       "8         1310           87           642          604                3.74   \n",
       "9         1148           71           753          694                4.31   \n",
       "10        1233          101           733          680                4.24   \n",
       "11        1392          121           618          572                3.57   \n",
       "12        1150           52           675          630                3.94   \n",
       "13        1336           69           726          677                4.16   \n",
       "14        1119           78           729          664                4.14   \n",
       "15        1267           69           525          478                2.94   \n",
       "16        1322           98           596          532                3.21   \n",
       "17        1518           95           608          546                3.36   \n",
       "18        1299           84           737          682                4.28   \n",
       "19        1255          134           754          700                4.33   \n",
       "20        1290           51           613          557                3.43   \n",
       "21        1344           57           635          577                3.62   \n",
       "22        1150          112           678          638                4.02   \n",
       "23        1107           69           760          698                4.41   \n",
       "24        1274           88           809          749                4.69   \n",
       "25        1258           59           595          553                3.44   \n",
       "26        1159           93           627          597                3.72   \n",
       "27        1312          132           713          659                4.04   \n",
       "28        1327           82           731          655                4.09   \n",
       "29        1283           97           844          799                5.04   \n",
       "\n",
       "    Complete Games  Shout Outs  Saves  Errors  \n",
       "0                2           8     56      88  \n",
       "1                2          12     45      86  \n",
       "2               11          10     38      79  \n",
       "3                7           9     37     101  \n",
       "4                7          12     35      86  \n",
       "6                3           4     48      93  \n",
       "7                0          10     43      77  \n",
       "8                1          12     60      95  \n",
       "9                3          10     40      97  \n",
       "10               5           9     45     119  \n",
       "11               5          13     39      85  \n",
       "12               2          12     46      93  \n",
       "13               6          12     45      94  \n",
       "14               5          15     28     126  \n",
       "15               1          15     62      96  \n",
       "16               0          13     54     122  \n",
       "17               6          21     48     111  \n",
       "18               1           7     40     116  \n",
       "19               2           8     35      90  \n",
       "20               1          14     50      88  \n",
       "21               4          13     41      90  \n",
       "22               0          12     35      77  \n",
       "23               3          10     44      90  \n",
       "24               1           7     35     117  \n",
       "25               6          21     47      75  \n",
       "26               7          18     41      78  \n",
       "27               1          12     44      86  \n",
       "28               1           6     41      92  \n",
       "29               4           4     36      95  "
      ]
     },
     "execution_count": 53,
     "metadata": {},
     "output_type": "execute_result"
    }
   ],
   "source": [
    "#dropping the outliers\n",
    "df_new=df[(z<3).all(axis=1)]\n",
    "df_new\n"
   ]
  },
  {
   "cell_type": "code",
   "execution_count": 54,
   "id": "4b67ef69",
   "metadata": {},
   "outputs": [
    {
     "name": "stdout",
     "output_type": "stream",
     "text": [
      "Dataset with outliers  (30, 17)\n",
      "Dataset without outliers  (29, 17)\n",
      "Total Rows dropped  1\n"
     ]
    }
   ],
   "source": [
    "print(\"Dataset with outliers \", df.shape)\n",
    "print(\"Dataset without outliers \", df_new.shape)\n",
    "print(\"Total Rows dropped \", df.shape[0]-df_new.shape[0])"
   ]
  },
  {
   "cell_type": "code",
   "execution_count": 55,
   "id": "f3de5451",
   "metadata": {},
   "outputs": [
    {
     "data": {
      "text/plain": [
       "3.3333333333333335"
      ]
     },
     "execution_count": 55,
     "metadata": {},
     "output_type": "execute_result"
    }
   ],
   "source": [
    "#data loss percent\n",
    "loss_percent = ((30-29)/30)*100\n",
    "loss_percent\n",
    "\n",
    "\n",
    "#3.33% data is removed after removing outliers"
   ]
  },
  {
   "cell_type": "code",
   "execution_count": 56,
   "id": "94cfcb2a",
   "metadata": {},
   "outputs": [],
   "source": [
    "#checking for skewness\n",
    "\n",
    "#we can see that the skewness is present in columns:\n",
    "# residiual sugar\n",
    "#chlorides\n",
    "#sulphate\n",
    "#total sulphur dioxide\n",
    "#free sulphur dioxide"
   ]
  },
  {
   "cell_type": "code",
   "execution_count": 57,
   "id": "ef922f33",
   "metadata": {},
   "outputs": [
    {
     "data": {
      "text/plain": [
       "Wins                  0.119013\n",
       "Runs Scored          -0.215364\n",
       "At Bat                0.169573\n",
       "Hits                  0.783772\n",
       "Double               -0.335304\n",
       "Triple                0.090124\n",
       "Home Runs             0.450862\n",
       "Walks                 0.151193\n",
       "Strike Out           -0.233815\n",
       "Stolen Base           0.494966\n",
       "Runs Allowed          0.018155\n",
       "Earned Runs           0.018461\n",
       "Earned Run Average    0.016693\n",
       "Complete Games        0.854980\n",
       "Shout Outs            0.526943\n",
       "Saves                 0.627480\n",
       "Errors                0.840271\n",
       "dtype: float64"
      ]
     },
     "execution_count": 57,
     "metadata": {},
     "output_type": "execute_result"
    }
   ],
   "source": [
    "df_new.skew()\n",
    "\n",
    "#considering the skewness range -0.5 to +0.5, there is not much skewness present, only some of the skewness could be seen in columns:\n",
    "# hits, complete games, shout outs, saves, errors."
   ]
  },
  {
   "cell_type": "code",
   "execution_count": 58,
   "id": "02365be1",
   "metadata": {},
   "outputs": [
    {
     "data": {
      "text/plain": [
       "<AxesSubplot:ylabel='Frequency'>"
      ]
     },
     "execution_count": 58,
     "metadata": {},
     "output_type": "execute_result"
    },
    {
     "data": {
      "image/png": "[encoded data removed]",
      "text/plain": [
       "<Figure size 432x288 with 1 Axes>"
      ]
     },
     "metadata": {
      "needs_background": "light"
     },
     "output_type": "display_data"
    }
   ],
   "source": [
    "#plotting graphs for each of the given columns with some skewness\n",
    "df_new['Hits'].plot.hist()\n",
    "#the data distribution is positive skewed and is bimodal"
   ]
  },
  {
   "cell_type": "code",
   "execution_count": 59,
   "id": "a74f109e",
   "metadata": {},
   "outputs": [
    {
     "data": {
      "text/plain": [
       "<AxesSubplot:ylabel='Frequency'>"
      ]
     },
     "execution_count": 59,
     "metadata": {},
     "output_type": "execute_result"
    },
    {
     "data": {
      "image/png": "[encoded data removed]",
      "text/plain": [
       "<Figure size 432x288 with 1 Axes>"
      ]
     },
     "metadata": {
      "needs_background": "light"
     },
     "output_type": "display_data"
    }
   ],
   "source": [
    "df_new['Complete Games'].plot.hist()\n",
    "#the data distribution is positively skewed"
   ]
  },
  {
   "cell_type": "code",
   "execution_count": 60,
   "id": "f89b9645",
   "metadata": {},
   "outputs": [
    {
     "data": {
      "text/plain": [
       "<AxesSubplot:ylabel='Frequency'>"
      ]
     },
     "execution_count": 60,
     "metadata": {},
     "output_type": "execute_result"
    },
    {
     "data": {
      "image/png": "[encoded data removed]",
      "text/plain": [
       "<Figure size 432x288 with 1 Axes>"
      ]
     },
     "metadata": {
      "needs_background": "light"
     },
     "output_type": "display_data"
    }
   ],
   "source": [
    "df_new['Shout Outs'].plot.hist()\n",
    "#the data distribution is positively skewed and is bimodal"
   ]
  },
  {
   "cell_type": "code",
   "execution_count": 61,
   "id": "acc0819b",
   "metadata": {},
   "outputs": [
    {
     "data": {
      "text/plain": [
       "<AxesSubplot:ylabel='Frequency'>"
      ]
     },
     "execution_count": 61,
     "metadata": {},
     "output_type": "execute_result"
    },
    {
     "data": {
      "image/png": "[encoded data removed]",
      "text/plain": [
       "<Figure size 432x288 with 1 Axes>"
      ]
     },
     "metadata": {
      "needs_background": "light"
     },
     "output_type": "display_data"
    }
   ],
   "source": [
    "df_new['Saves'].plot.hist()\n",
    "#the data distribution is very little positive skewed"
   ]
  },
  {
   "cell_type": "code",
   "execution_count": 62,
   "id": "70e75f58",
   "metadata": {},
   "outputs": [
    {
     "data": {
      "text/plain": [
       "<AxesSubplot:ylabel='Frequency'>"
      ]
     },
     "execution_count": 62,
     "metadata": {},
     "output_type": "execute_result"
    },
    {
     "data": {
      "image/png": "[encoded data removed]",
      "text/plain": [
       "<Figure size 432x288 with 1 Axes>"
      ]
     },
     "metadata": {
      "needs_background": "light"
     },
     "output_type": "display_data"
    }
   ],
   "source": [
    "df_new['Errors'].plot.hist()\n",
    "#the data distribution is not much skewed"
   ]
  },
  {
   "cell_type": "code",
   "execution_count": 63,
   "id": "85029baf",
   "metadata": {},
   "outputs": [
    {
     "data": {
      "image/png": "[encoded data removed]",
      "text/plain": [
       "<Figure size 1296x864 with 66 Axes>"
      ]
     },
     "metadata": {
      "needs_background": "light"
     },
     "output_type": "display_data"
    }
   ],
   "source": [
    "#show skewness using the plot\n",
    "df.plot(kind='density', subplots=True, layout=(6,11), sharex= False, legend= True, fontsize=1, figsize=(18,12))\n",
    "plt.show()\n",
    "\n",
    "#we can see mostly the data is normally distributed and there is a little skewness in columns:\n",
    "#Runs scored, hits, errors, shout out, complete games."
   ]
  },
  {
   "cell_type": "code",
   "execution_count": 64,
   "id": "6a08b37d",
   "metadata": {},
   "outputs": [
    {
     "data": {
      "text/html": [
       "<div>\n",
       "<style scoped>\n",
       "    .dataframe tbody tr th:only-of-type {\n",
       "        vertical-align: middle;\n",
       "    }\n",
       "\n",
       "    .dataframe tbody tr th {\n",
       "        vertical-align: top;\n",
       "    }\n",
       "\n",
       "    .dataframe thead th {\n",
       "        text-align: right;\n",
       "    }\n",
       "</style>\n",
       "<table border=\"1\" class=\"dataframe\">\n",
       "  <thead>\n",
       "    <tr style=\"text-align: right;\">\n",
       "      <th></th>\n",
       "      <th>Runs Scored</th>\n",
       "      <th>At Bat</th>\n",
       "      <th>Hits</th>\n",
       "      <th>Double</th>\n",
       "      <th>Triple</th>\n",
       "      <th>Home Runs</th>\n",
       "      <th>Walks</th>\n",
       "      <th>Strike Out</th>\n",
       "      <th>Stolen Base</th>\n",
       "      <th>Runs Allowed</th>\n",
       "      <th>Earned Runs</th>\n",
       "      <th>Earned Run Average</th>\n",
       "      <th>Complete Games</th>\n",
       "      <th>Shout Outs</th>\n",
       "      <th>Saves</th>\n",
       "      <th>Errors</th>\n",
       "    </tr>\n",
       "  </thead>\n",
       "  <tbody>\n",
       "    <tr>\n",
       "      <th>0</th>\n",
       "      <td>724</td>\n",
       "      <td>5575</td>\n",
       "      <td>1497</td>\n",
       "      <td>300</td>\n",
       "      <td>42</td>\n",
       "      <td>139</td>\n",
       "      <td>383</td>\n",
       "      <td>973</td>\n",
       "      <td>104</td>\n",
       "      <td>641</td>\n",
       "      <td>601</td>\n",
       "      <td>3.73</td>\n",
       "      <td>2</td>\n",
       "      <td>8</td>\n",
       "      <td>56</td>\n",
       "      <td>88</td>\n",
       "    </tr>\n",
       "    <tr>\n",
       "      <th>1</th>\n",
       "      <td>696</td>\n",
       "      <td>5467</td>\n",
       "      <td>1349</td>\n",
       "      <td>277</td>\n",
       "      <td>44</td>\n",
       "      <td>156</td>\n",
       "      <td>439</td>\n",
       "      <td>1264</td>\n",
       "      <td>70</td>\n",
       "      <td>700</td>\n",
       "      <td>653</td>\n",
       "      <td>4.07</td>\n",
       "      <td>2</td>\n",
       "      <td>12</td>\n",
       "      <td>45</td>\n",
       "      <td>86</td>\n",
       "    </tr>\n",
       "    <tr>\n",
       "      <th>2</th>\n",
       "      <td>669</td>\n",
       "      <td>5439</td>\n",
       "      <td>1395</td>\n",
       "      <td>303</td>\n",
       "      <td>29</td>\n",
       "      <td>141</td>\n",
       "      <td>533</td>\n",
       "      <td>1157</td>\n",
       "      <td>86</td>\n",
       "      <td>640</td>\n",
       "      <td>584</td>\n",
       "      <td>3.67</td>\n",
       "      <td>11</td>\n",
       "      <td>10</td>\n",
       "      <td>38</td>\n",
       "      <td>79</td>\n",
       "    </tr>\n",
       "    <tr>\n",
       "      <th>3</th>\n",
       "      <td>622</td>\n",
       "      <td>5533</td>\n",
       "      <td>1381</td>\n",
       "      <td>260</td>\n",
       "      <td>27</td>\n",
       "      <td>136</td>\n",
       "      <td>404</td>\n",
       "      <td>1231</td>\n",
       "      <td>68</td>\n",
       "      <td>701</td>\n",
       "      <td>643</td>\n",
       "      <td>3.98</td>\n",
       "      <td>7</td>\n",
       "      <td>9</td>\n",
       "      <td>37</td>\n",
       "      <td>101</td>\n",
       "    </tr>\n",
       "    <tr>\n",
       "      <th>4</th>\n",
       "      <td>689</td>\n",
       "      <td>5605</td>\n",
       "      <td>1515</td>\n",
       "      <td>289</td>\n",
       "      <td>49</td>\n",
       "      <td>151</td>\n",
       "      <td>455</td>\n",
       "      <td>1259</td>\n",
       "      <td>83</td>\n",
       "      <td>803</td>\n",
       "      <td>746</td>\n",
       "      <td>4.64</td>\n",
       "      <td>7</td>\n",
       "      <td>12</td>\n",
       "      <td>35</td>\n",
       "      <td>86</td>\n",
       "    </tr>\n",
       "    <tr>\n",
       "      <th>6</th>\n",
       "      <td>764</td>\n",
       "      <td>5567</td>\n",
       "      <td>1397</td>\n",
       "      <td>272</td>\n",
       "      <td>19</td>\n",
       "      <td>212</td>\n",
       "      <td>554</td>\n",
       "      <td>1227</td>\n",
       "      <td>63</td>\n",
       "      <td>698</td>\n",
       "      <td>652</td>\n",
       "      <td>4.03</td>\n",
       "      <td>3</td>\n",
       "      <td>4</td>\n",
       "      <td>48</td>\n",
       "      <td>93</td>\n",
       "    </tr>\n",
       "    <tr>\n",
       "      <th>7</th>\n",
       "      <td>713</td>\n",
       "      <td>5485</td>\n",
       "      <td>1370</td>\n",
       "      <td>246</td>\n",
       "      <td>20</td>\n",
       "      <td>217</td>\n",
       "      <td>418</td>\n",
       "      <td>1331</td>\n",
       "      <td>44</td>\n",
       "      <td>693</td>\n",
       "      <td>646</td>\n",
       "      <td>4.05</td>\n",
       "      <td>0</td>\n",
       "      <td>10</td>\n",
       "      <td>43</td>\n",
       "      <td>77</td>\n",
       "    </tr>\n",
       "    <tr>\n",
       "      <th>8</th>\n",
       "      <td>644</td>\n",
       "      <td>5485</td>\n",
       "      <td>1383</td>\n",
       "      <td>278</td>\n",
       "      <td>32</td>\n",
       "      <td>167</td>\n",
       "      <td>436</td>\n",
       "      <td>1310</td>\n",
       "      <td>87</td>\n",
       "      <td>642</td>\n",
       "      <td>604</td>\n",
       "      <td>3.74</td>\n",
       "      <td>1</td>\n",
       "      <td>12</td>\n",
       "      <td>60</td>\n",
       "      <td>95</td>\n",
       "    </tr>\n",
       "    <tr>\n",
       "      <th>9</th>\n",
       "      <td>748</td>\n",
       "      <td>5640</td>\n",
       "      <td>1495</td>\n",
       "      <td>294</td>\n",
       "      <td>33</td>\n",
       "      <td>161</td>\n",
       "      <td>478</td>\n",
       "      <td>1148</td>\n",
       "      <td>71</td>\n",
       "      <td>753</td>\n",
       "      <td>694</td>\n",
       "      <td>4.31</td>\n",
       "      <td>3</td>\n",
       "      <td>10</td>\n",
       "      <td>40</td>\n",
       "      <td>97</td>\n",
       "    </tr>\n",
       "    <tr>\n",
       "      <th>10</th>\n",
       "      <td>751</td>\n",
       "      <td>5511</td>\n",
       "      <td>1419</td>\n",
       "      <td>279</td>\n",
       "      <td>32</td>\n",
       "      <td>172</td>\n",
       "      <td>503</td>\n",
       "      <td>1233</td>\n",
       "      <td>101</td>\n",
       "      <td>733</td>\n",
       "      <td>680</td>\n",
       "      <td>4.24</td>\n",
       "      <td>5</td>\n",
       "      <td>9</td>\n",
       "      <td>45</td>\n",
       "      <td>119</td>\n",
       "    </tr>\n",
       "    <tr>\n",
       "      <th>11</th>\n",
       "      <td>729</td>\n",
       "      <td>5459</td>\n",
       "      <td>1363</td>\n",
       "      <td>278</td>\n",
       "      <td>26</td>\n",
       "      <td>230</td>\n",
       "      <td>486</td>\n",
       "      <td>1392</td>\n",
       "      <td>121</td>\n",
       "      <td>618</td>\n",
       "      <td>572</td>\n",
       "      <td>3.57</td>\n",
       "      <td>5</td>\n",
       "      <td>13</td>\n",
       "      <td>39</td>\n",
       "      <td>85</td>\n",
       "    </tr>\n",
       "    <tr>\n",
       "      <th>12</th>\n",
       "      <td>661</td>\n",
       "      <td>5417</td>\n",
       "      <td>1331</td>\n",
       "      <td>243</td>\n",
       "      <td>21</td>\n",
       "      <td>176</td>\n",
       "      <td>435</td>\n",
       "      <td>1150</td>\n",
       "      <td>52</td>\n",
       "      <td>675</td>\n",
       "      <td>630</td>\n",
       "      <td>3.94</td>\n",
       "      <td>2</td>\n",
       "      <td>12</td>\n",
       "      <td>46</td>\n",
       "      <td>93</td>\n",
       "    </tr>\n",
       "    <tr>\n",
       "      <th>13</th>\n",
       "      <td>656</td>\n",
       "      <td>5544</td>\n",
       "      <td>1379</td>\n",
       "      <td>262</td>\n",
       "      <td>22</td>\n",
       "      <td>198</td>\n",
       "      <td>478</td>\n",
       "      <td>1336</td>\n",
       "      <td>69</td>\n",
       "      <td>726</td>\n",
       "      <td>677</td>\n",
       "      <td>4.16</td>\n",
       "      <td>6</td>\n",
       "      <td>12</td>\n",
       "      <td>45</td>\n",
       "      <td>94</td>\n",
       "    </tr>\n",
       "    <tr>\n",
       "      <th>14</th>\n",
       "      <td>694</td>\n",
       "      <td>5600</td>\n",
       "      <td>1405</td>\n",
       "      <td>277</td>\n",
       "      <td>46</td>\n",
       "      <td>146</td>\n",
       "      <td>475</td>\n",
       "      <td>1119</td>\n",
       "      <td>78</td>\n",
       "      <td>729</td>\n",
       "      <td>664</td>\n",
       "      <td>4.14</td>\n",
       "      <td>5</td>\n",
       "      <td>15</td>\n",
       "      <td>28</td>\n",
       "      <td>126</td>\n",
       "    </tr>\n",
       "    <tr>\n",
       "      <th>15</th>\n",
       "      <td>647</td>\n",
       "      <td>5484</td>\n",
       "      <td>1386</td>\n",
       "      <td>288</td>\n",
       "      <td>39</td>\n",
       "      <td>137</td>\n",
       "      <td>506</td>\n",
       "      <td>1267</td>\n",
       "      <td>69</td>\n",
       "      <td>525</td>\n",
       "      <td>478</td>\n",
       "      <td>2.94</td>\n",
       "      <td>1</td>\n",
       "      <td>15</td>\n",
       "      <td>62</td>\n",
       "      <td>96</td>\n",
       "    </tr>\n",
       "    <tr>\n",
       "      <th>16</th>\n",
       "      <td>697</td>\n",
       "      <td>5631</td>\n",
       "      <td>1462</td>\n",
       "      <td>292</td>\n",
       "      <td>27</td>\n",
       "      <td>140</td>\n",
       "      <td>461</td>\n",
       "      <td>1322</td>\n",
       "      <td>98</td>\n",
       "      <td>596</td>\n",
       "      <td>532</td>\n",
       "      <td>3.21</td>\n",
       "      <td>0</td>\n",
       "      <td>13</td>\n",
       "      <td>54</td>\n",
       "      <td>122</td>\n",
       "    </tr>\n",
       "    <tr>\n",
       "      <th>17</th>\n",
       "      <td>689</td>\n",
       "      <td>5491</td>\n",
       "      <td>1341</td>\n",
       "      <td>272</td>\n",
       "      <td>30</td>\n",
       "      <td>171</td>\n",
       "      <td>567</td>\n",
       "      <td>1518</td>\n",
       "      <td>95</td>\n",
       "      <td>608</td>\n",
       "      <td>546</td>\n",
       "      <td>3.36</td>\n",
       "      <td>6</td>\n",
       "      <td>21</td>\n",
       "      <td>48</td>\n",
       "      <td>111</td>\n",
       "    </tr>\n",
       "    <tr>\n",
       "      <th>18</th>\n",
       "      <td>655</td>\n",
       "      <td>5480</td>\n",
       "      <td>1378</td>\n",
       "      <td>274</td>\n",
       "      <td>34</td>\n",
       "      <td>145</td>\n",
       "      <td>412</td>\n",
       "      <td>1299</td>\n",
       "      <td>84</td>\n",
       "      <td>737</td>\n",
       "      <td>682</td>\n",
       "      <td>4.28</td>\n",
       "      <td>1</td>\n",
       "      <td>7</td>\n",
       "      <td>40</td>\n",
       "      <td>116</td>\n",
       "    </tr>\n",
       "    <tr>\n",
       "      <th>19</th>\n",
       "      <td>640</td>\n",
       "      <td>5571</td>\n",
       "      <td>1382</td>\n",
       "      <td>257</td>\n",
       "      <td>27</td>\n",
       "      <td>167</td>\n",
       "      <td>496</td>\n",
       "      <td>1255</td>\n",
       "      <td>134</td>\n",
       "      <td>754</td>\n",
       "      <td>700</td>\n",
       "      <td>4.33</td>\n",
       "      <td>2</td>\n",
       "      <td>8</td>\n",
       "      <td>35</td>\n",
       "      <td>90</td>\n",
       "    </tr>\n",
       "    <tr>\n",
       "      <th>20</th>\n",
       "      <td>683</td>\n",
       "      <td>5527</td>\n",
       "      <td>1351</td>\n",
       "      <td>295</td>\n",
       "      <td>17</td>\n",
       "      <td>177</td>\n",
       "      <td>488</td>\n",
       "      <td>1290</td>\n",
       "      <td>51</td>\n",
       "      <td>613</td>\n",
       "      <td>557</td>\n",
       "      <td>3.43</td>\n",
       "      <td>1</td>\n",
       "      <td>14</td>\n",
       "      <td>50</td>\n",
       "      <td>88</td>\n",
       "    </tr>\n",
       "    <tr>\n",
       "      <th>21</th>\n",
       "      <td>703</td>\n",
       "      <td>5428</td>\n",
       "      <td>1363</td>\n",
       "      <td>265</td>\n",
       "      <td>13</td>\n",
       "      <td>177</td>\n",
       "      <td>539</td>\n",
       "      <td>1344</td>\n",
       "      <td>57</td>\n",
       "      <td>635</td>\n",
       "      <td>577</td>\n",
       "      <td>3.62</td>\n",
       "      <td>4</td>\n",
       "      <td>13</td>\n",
       "      <td>41</td>\n",
       "      <td>90</td>\n",
       "    </tr>\n",
       "    <tr>\n",
       "      <th>22</th>\n",
       "      <td>613</td>\n",
       "      <td>5463</td>\n",
       "      <td>1420</td>\n",
       "      <td>236</td>\n",
       "      <td>40</td>\n",
       "      <td>120</td>\n",
       "      <td>375</td>\n",
       "      <td>1150</td>\n",
       "      <td>112</td>\n",
       "      <td>678</td>\n",
       "      <td>638</td>\n",
       "      <td>4.02</td>\n",
       "      <td>0</td>\n",
       "      <td>12</td>\n",
       "      <td>35</td>\n",
       "      <td>77</td>\n",
       "    </tr>\n",
       "    <tr>\n",
       "      <th>23</th>\n",
       "      <td>573</td>\n",
       "      <td>5420</td>\n",
       "      <td>1361</td>\n",
       "      <td>251</td>\n",
       "      <td>18</td>\n",
       "      <td>100</td>\n",
       "      <td>471</td>\n",
       "      <td>1107</td>\n",
       "      <td>69</td>\n",
       "      <td>760</td>\n",
       "      <td>698</td>\n",
       "      <td>4.41</td>\n",
       "      <td>3</td>\n",
       "      <td>10</td>\n",
       "      <td>44</td>\n",
       "      <td>90</td>\n",
       "    </tr>\n",
       "    <tr>\n",
       "      <th>24</th>\n",
       "      <td>626</td>\n",
       "      <td>5529</td>\n",
       "      <td>1374</td>\n",
       "      <td>272</td>\n",
       "      <td>37</td>\n",
       "      <td>130</td>\n",
       "      <td>387</td>\n",
       "      <td>1274</td>\n",
       "      <td>88</td>\n",
       "      <td>809</td>\n",
       "      <td>749</td>\n",
       "      <td>4.69</td>\n",
       "      <td>1</td>\n",
       "      <td>7</td>\n",
       "      <td>35</td>\n",
       "      <td>117</td>\n",
       "    </tr>\n",
       "    <tr>\n",
       "      <th>25</th>\n",
       "      <td>667</td>\n",
       "      <td>5385</td>\n",
       "      <td>1346</td>\n",
       "      <td>263</td>\n",
       "      <td>26</td>\n",
       "      <td>187</td>\n",
       "      <td>563</td>\n",
       "      <td>1258</td>\n",
       "      <td>59</td>\n",
       "      <td>595</td>\n",
       "      <td>553</td>\n",
       "      <td>3.44</td>\n",
       "      <td>6</td>\n",
       "      <td>21</td>\n",
       "      <td>47</td>\n",
       "      <td>75</td>\n",
       "    </tr>\n",
       "    <tr>\n",
       "      <th>26</th>\n",
       "      <td>696</td>\n",
       "      <td>5565</td>\n",
       "      <td>1486</td>\n",
       "      <td>288</td>\n",
       "      <td>39</td>\n",
       "      <td>136</td>\n",
       "      <td>457</td>\n",
       "      <td>1159</td>\n",
       "      <td>93</td>\n",
       "      <td>627</td>\n",
       "      <td>597</td>\n",
       "      <td>3.72</td>\n",
       "      <td>7</td>\n",
       "      <td>18</td>\n",
       "      <td>41</td>\n",
       "      <td>78</td>\n",
       "    </tr>\n",
       "    <tr>\n",
       "      <th>27</th>\n",
       "      <td>720</td>\n",
       "      <td>5649</td>\n",
       "      <td>1494</td>\n",
       "      <td>289</td>\n",
       "      <td>48</td>\n",
       "      <td>154</td>\n",
       "      <td>490</td>\n",
       "      <td>1312</td>\n",
       "      <td>132</td>\n",
       "      <td>713</td>\n",
       "      <td>659</td>\n",
       "      <td>4.04</td>\n",
       "      <td>1</td>\n",
       "      <td>12</td>\n",
       "      <td>44</td>\n",
       "      <td>86</td>\n",
       "    </tr>\n",
       "    <tr>\n",
       "      <th>28</th>\n",
       "      <td>650</td>\n",
       "      <td>5457</td>\n",
       "      <td>1324</td>\n",
       "      <td>260</td>\n",
       "      <td>36</td>\n",
       "      <td>148</td>\n",
       "      <td>426</td>\n",
       "      <td>1327</td>\n",
       "      <td>82</td>\n",
       "      <td>731</td>\n",
       "      <td>655</td>\n",
       "      <td>4.09</td>\n",
       "      <td>1</td>\n",
       "      <td>6</td>\n",
       "      <td>41</td>\n",
       "      <td>92</td>\n",
       "    </tr>\n",
       "    <tr>\n",
       "      <th>29</th>\n",
       "      <td>737</td>\n",
       "      <td>5572</td>\n",
       "      <td>1479</td>\n",
       "      <td>274</td>\n",
       "      <td>49</td>\n",
       "      <td>186</td>\n",
       "      <td>388</td>\n",
       "      <td>1283</td>\n",
       "      <td>97</td>\n",
       "      <td>844</td>\n",
       "      <td>799</td>\n",
       "      <td>5.04</td>\n",
       "      <td>4</td>\n",
       "      <td>4</td>\n",
       "      <td>36</td>\n",
       "      <td>95</td>\n",
       "    </tr>\n",
       "  </tbody>\n",
       "</table>\n",
       "</div>"
      ],
      "text/plain": [
       "    Runs Scored  At Bat  Hits  Double  Triple  Home Runs  Walks  Strike Out  \\\n",
       "0           724    5575  1497     300      42        139    383         973   \n",
       "1           696    5467  1349     277      44        156    439        1264   \n",
       "2           669    5439  1395     303      29        141    533        1157   \n",
       "3           622    5533  1381     260      27        136    404        1231   \n",
       "4           689    5605  1515     289      49        151    455        1259   \n",
       "6           764    5567  1397     272      19        212    554        1227   \n",
       "7           713    5485  1370     246      20        217    418        1331   \n",
       "8           644    5485  1383     278      32        167    436        1310   \n",
       "9           748    5640  1495     294      33        161    478        1148   \n",
       "10          751    5511  1419     279      32        172    503        1233   \n",
       "11          729    5459  1363     278      26        230    486        1392   \n",
       "12          661    5417  1331     243      21        176    435        1150   \n",
       "13          656    5544  1379     262      22        198    478        1336   \n",
       "14          694    5600  1405     277      46        146    475        1119   \n",
       "15          647    5484  1386     288      39        137    506        1267   \n",
       "16          697    5631  1462     292      27        140    461        1322   \n",
       "17          689    5491  1341     272      30        171    567        1518   \n",
       "18          655    5480  1378     274      34        145    412        1299   \n",
       "19          640    5571  1382     257      27        167    496        1255   \n",
       "20          683    5527  1351     295      17        177    488        1290   \n",
       "21          703    5428  1363     265      13        177    539        1344   \n",
       "22          613    5463  1420     236      40        120    375        1150   \n",
       "23          573    5420  1361     251      18        100    471        1107   \n",
       "24          626    5529  1374     272      37        130    387        1274   \n",
       "25          667    5385  1346     263      26        187    563        1258   \n",
       "26          696    5565  1486     288      39        136    457        1159   \n",
       "27          720    5649  1494     289      48        154    490        1312   \n",
       "28          650    5457  1324     260      36        148    426        1327   \n",
       "29          737    5572  1479     274      49        186    388        1283   \n",
       "\n",
       "    Stolen Base  Runs Allowed  Earned Runs  Earned Run Average  \\\n",
       "0           104           641          601                3.73   \n",
       "1            70           700          653                4.07   \n",
       "2            86           640          584                3.67   \n",
       "3            68           701          643                3.98   \n",
       "4            83           803          746                4.64   \n",
       "6            63           698          652                4.03   \n",
       "7            44           693          646                4.05   \n",
       "8            87           642          604                3.74   \n",
       "9            71           753          694                4.31   \n",
       "10          101           733          680                4.24   \n",
       "11          121           618          572                3.57   \n",
       "12           52           675          630                3.94   \n",
       "13           69           726          677                4.16   \n",
       "14           78           729          664                4.14   \n",
       "15           69           525          478                2.94   \n",
       "16           98           596          532                3.21   \n",
       "17           95           608          546                3.36   \n",
       "18           84           737          682                4.28   \n",
       "19          134           754          700                4.33   \n",
       "20           51           613          557                3.43   \n",
       "21           57           635          577                3.62   \n",
       "22          112           678          638                4.02   \n",
       "23           69           760          698                4.41   \n",
       "24           88           809          749                4.69   \n",
       "25           59           595          553                3.44   \n",
       "26           93           627          597                3.72   \n",
       "27          132           713          659                4.04   \n",
       "28           82           731          655                4.09   \n",
       "29           97           844          799                5.04   \n",
       "\n",
       "    Complete Games  Shout Outs  Saves  Errors  \n",
       "0                2           8     56      88  \n",
       "1                2          12     45      86  \n",
       "2               11          10     38      79  \n",
       "3                7           9     37     101  \n",
       "4                7          12     35      86  \n",
       "6                3           4     48      93  \n",
       "7                0          10     43      77  \n",
       "8                1          12     60      95  \n",
       "9                3          10     40      97  \n",
       "10               5           9     45     119  \n",
       "11               5          13     39      85  \n",
       "12               2          12     46      93  \n",
       "13               6          12     45      94  \n",
       "14               5          15     28     126  \n",
       "15               1          15     62      96  \n",
       "16               0          13     54     122  \n",
       "17               6          21     48     111  \n",
       "18               1           7     40     116  \n",
       "19               2           8     35      90  \n",
       "20               1          14     50      88  \n",
       "21               4          13     41      90  \n",
       "22               0          12     35      77  \n",
       "23               3          10     44      90  \n",
       "24               1           7     35     117  \n",
       "25               6          21     47      75  \n",
       "26               7          18     41      78  \n",
       "27               1          12     44      86  \n",
       "28               1           6     41      92  \n",
       "29               4           4     36      95  "
      ]
     },
     "execution_count": 64,
     "metadata": {},
     "output_type": "execute_result"
    }
   ],
   "source": [
    "#splitting data into input & output data\n",
    "x= df_new.iloc[:, 1:17]\n",
    "x"
   ]
  },
  {
   "cell_type": "code",
   "execution_count": 65,
   "id": "cb036f17",
   "metadata": {},
   "outputs": [
    {
     "data": {
      "text/html": [
       "<div>\n",
       "<style scoped>\n",
       "    .dataframe tbody tr th:only-of-type {\n",
       "        vertical-align: middle;\n",
       "    }\n",
       "\n",
       "    .dataframe tbody tr th {\n",
       "        vertical-align: top;\n",
       "    }\n",
       "\n",
       "    .dataframe thead th {\n",
       "        text-align: right;\n",
       "    }\n",
       "</style>\n",
       "<table border=\"1\" class=\"dataframe\">\n",
       "  <thead>\n",
       "    <tr style=\"text-align: right;\">\n",
       "      <th></th>\n",
       "      <th>Errors</th>\n",
       "    </tr>\n",
       "  </thead>\n",
       "  <tbody>\n",
       "    <tr>\n",
       "      <th>0</th>\n",
       "      <td>88</td>\n",
       "    </tr>\n",
       "    <tr>\n",
       "      <th>1</th>\n",
       "      <td>86</td>\n",
       "    </tr>\n",
       "    <tr>\n",
       "      <th>2</th>\n",
       "      <td>79</td>\n",
       "    </tr>\n",
       "    <tr>\n",
       "      <th>3</th>\n",
       "      <td>101</td>\n",
       "    </tr>\n",
       "    <tr>\n",
       "      <th>4</th>\n",
       "      <td>86</td>\n",
       "    </tr>\n",
       "    <tr>\n",
       "      <th>6</th>\n",
       "      <td>93</td>\n",
       "    </tr>\n",
       "    <tr>\n",
       "      <th>7</th>\n",
       "      <td>77</td>\n",
       "    </tr>\n",
       "    <tr>\n",
       "      <th>8</th>\n",
       "      <td>95</td>\n",
       "    </tr>\n",
       "    <tr>\n",
       "      <th>9</th>\n",
       "      <td>97</td>\n",
       "    </tr>\n",
       "    <tr>\n",
       "      <th>10</th>\n",
       "      <td>119</td>\n",
       "    </tr>\n",
       "    <tr>\n",
       "      <th>11</th>\n",
       "      <td>85</td>\n",
       "    </tr>\n",
       "    <tr>\n",
       "      <th>12</th>\n",
       "      <td>93</td>\n",
       "    </tr>\n",
       "    <tr>\n",
       "      <th>13</th>\n",
       "      <td>94</td>\n",
       "    </tr>\n",
       "    <tr>\n",
       "      <th>14</th>\n",
       "      <td>126</td>\n",
       "    </tr>\n",
       "    <tr>\n",
       "      <th>15</th>\n",
       "      <td>96</td>\n",
       "    </tr>\n",
       "    <tr>\n",
       "      <th>16</th>\n",
       "      <td>122</td>\n",
       "    </tr>\n",
       "    <tr>\n",
       "      <th>17</th>\n",
       "      <td>111</td>\n",
       "    </tr>\n",
       "    <tr>\n",
       "      <th>18</th>\n",
       "      <td>116</td>\n",
       "    </tr>\n",
       "    <tr>\n",
       "      <th>19</th>\n",
       "      <td>90</td>\n",
       "    </tr>\n",
       "    <tr>\n",
       "      <th>20</th>\n",
       "      <td>88</td>\n",
       "    </tr>\n",
       "    <tr>\n",
       "      <th>21</th>\n",
       "      <td>90</td>\n",
       "    </tr>\n",
       "    <tr>\n",
       "      <th>22</th>\n",
       "      <td>77</td>\n",
       "    </tr>\n",
       "    <tr>\n",
       "      <th>23</th>\n",
       "      <td>90</td>\n",
       "    </tr>\n",
       "    <tr>\n",
       "      <th>24</th>\n",
       "      <td>117</td>\n",
       "    </tr>\n",
       "    <tr>\n",
       "      <th>25</th>\n",
       "      <td>75</td>\n",
       "    </tr>\n",
       "    <tr>\n",
       "      <th>26</th>\n",
       "      <td>78</td>\n",
       "    </tr>\n",
       "    <tr>\n",
       "      <th>27</th>\n",
       "      <td>86</td>\n",
       "    </tr>\n",
       "    <tr>\n",
       "      <th>28</th>\n",
       "      <td>92</td>\n",
       "    </tr>\n",
       "    <tr>\n",
       "      <th>29</th>\n",
       "      <td>95</td>\n",
       "    </tr>\n",
       "  </tbody>\n",
       "</table>\n",
       "</div>"
      ],
      "text/plain": [
       "    Errors\n",
       "0       88\n",
       "1       86\n",
       "2       79\n",
       "3      101\n",
       "4       86\n",
       "6       93\n",
       "7       77\n",
       "8       95\n",
       "9       97\n",
       "10     119\n",
       "11      85\n",
       "12      93\n",
       "13      94\n",
       "14     126\n",
       "15      96\n",
       "16     122\n",
       "17     111\n",
       "18     116\n",
       "19      90\n",
       "20      88\n",
       "21      90\n",
       "22      77\n",
       "23      90\n",
       "24     117\n",
       "25      75\n",
       "26      78\n",
       "27      86\n",
       "28      92\n",
       "29      95"
      ]
     },
     "execution_count": 65,
     "metadata": {},
     "output_type": "execute_result"
    }
   ],
   "source": [
    "#output data\n",
    "y= df_new.iloc[:, 16:]\n",
    "y"
   ]
  },
  {
   "cell_type": "code",
   "execution_count": 66,
   "id": "d32c2e6e",
   "metadata": {},
   "outputs": [],
   "source": [
    "#removing the skewness using the power transform"
   ]
  },
  {
   "cell_type": "code",
   "execution_count": 67,
   "id": "2f9ae50d",
   "metadata": {},
   "outputs": [
    {
     "name": "stderr",
     "output_type": "stream",
     "text": [
      "C:\\Users\\KirtiArya\\anaconda3\\lib\\site-packages\\sklearn\\preprocessing\\_data.py:3253: RuntimeWarning: divide by zero encountered in log\n",
      "  loglike = -n_samples / 2 * np.log(x_trans.var())\n"
     ]
    },
    {
     "data": {
      "text/plain": [
       "array([[ 9.62543504e-01,  0.00000000e+00,  0.00000000e+00,\n",
       "         1.68518793e+00,  1.00615029e+00, -7.41927000e-01,\n",
       "        -1.60519802e+00, -2.55061247e+00,  9.36131648e-01,\n",
       "        -6.60978697e-01, -5.08052224e-01, -5.09292146e-01,\n",
       "        -3.07098204e-01, -7.87002186e-01,  1.53275292e+00,\n",
       "        -3.48265262e-01],\n",
       "       [ 2.98863300e-01,  0.00000000e+00,  0.00000000e+00,\n",
       "         1.38197902e-01,  1.18522654e+00, -1.09958425e-01,\n",
       "        -4.62095966e-01,  9.36832915e-02, -5.16377335e-01,\n",
       "         1.60225829e-01,  2.35800488e-01,  2.41440214e-01,\n",
       "        -3.07098204e-01,  2.36736538e-01,  3.12020186e-01,\n",
       "        -5.40819806e-01],\n",
       "       [-3.12105130e-01,  0.00000000e+00,  0.00000000e+00,\n",
       "         1.90738550e+00, -2.28819392e-01, -6.64354121e-01,\n",
       "         1.23209786e+00, -9.35611465e-01,  2.25038365e-01,\n",
       "        -6.74967476e-01, -7.52213881e-01, -6.42097599e-01,\n",
       "         2.01131531e+00, -2.52844176e-01, -6.64136739e-01,\n",
       "        -1.32612477e+00],\n",
       "       [-1.30829774e+00,  0.00000000e+00,  0.00000000e+00,\n",
       "        -8.37664770e-01, -4.32227907e-01, -8.60039342e-01,\n",
       "        -1.16272085e+00, -2.30682707e-01, -6.18421529e-01,\n",
       "         1.74076810e-01,  9.30906974e-02,  4.30132461e-02,\n",
       "         1.26446344e+00, -5.13554932e-01, -8.20688859e-01,\n",
       "         6.50818351e-01],\n",
       "       [ 1.37737301e-01,  0.00000000e+00,  0.00000000e+00,\n",
       "         9.11434794e-01,  1.62263592e+00, -2.89646675e-01,\n",
       "        -1.55685826e-01,  4.41433307e-02,  9.50377681e-02,\n",
       "         1.57597053e+00,  1.55585333e+00,  1.49349103e+00,\n",
       "         1.26446344e+00,  2.36736538e-01, -1.14916472e+00,\n",
       "        -5.40819806e-01],\n",
       "       [ 1.96420873e+00,  0.00000000e+00,  0.00000000e+00,\n",
       "        -1.63010220e-01, -1.29582738e+00,  1.63163749e+00,\n",
       "         1.57949358e+00, -2.69582692e-01, -8.84525554e-01,\n",
       "         1.32517300e-01,  2.21536563e-01,  1.53276229e-01,\n",
       "         1.21870592e-01, -2.06403920e+00,  6.77176215e-01,\n",
       "         8.28582419e-02],\n",
       "       [ 6.98145564e-01,  0.00000000e+00,  0.00000000e+00,\n",
       "        -1.54263548e+00, -1.18275843e+00,  1.76773356e+00,\n",
       "        -8.77216697e-01,  7.70980104e-01, -2.08284252e+00,\n",
       "         6.32075091e-02,  1.35920150e-01,  1.97363352e-01,\n",
       "        -1.73289617e+00, -2.52844176e-01,  5.23253489e-02,\n",
       "        -1.58819729e+00],\n",
       "       [-8.52595277e-01,  0.00000000e+00,  0.00000000e+00,\n",
       "         1.99896614e-01,  6.87034881e-02,  2.69125303e-01,\n",
       "        -5.20475583e-01,  5.56007529e-01,  2.67558365e-01,\n",
       "        -6.46992330e-01, -4.65016391e-01, -4.87167563e-01,\n",
       "        -8.70681710e-01,  2.36736538e-01,  1.90813725e+00,\n",
       "         2.37592499e-01],\n",
       "       [ 1.55595108e+00,  0.00000000e+00,  0.00000000e+00,\n",
       "         1.25525640e+00,  1.66016920e-01,  6.50138601e-02,\n",
       "         2.70943885e-01, -1.01920973e+00, -4.66233050e-01,\n",
       "         8.91395674e-01,  8.19308121e-01,  7.69577491e-01,\n",
       "         1.21870592e-01, -2.52844176e-01, -3.65006331e-01,\n",
       "         3.83385575e-01],\n",
       "       [ 1.63172674e+00,  0.00000000e+00,  0.00000000e+00,\n",
       "         2.62085981e-01,  6.87034881e-02,  4.34619901e-01,\n",
       "         7.17575787e-01, -2.11198815e-01,  8.24915052e-01,\n",
       "         6.16173257e-01,  6.20345615e-01,  6.15685236e-01,\n",
       "         7.70648979e-01, -5.13554932e-01,  3.12020186e-01,\n",
       "         1.55426515e+00],\n",
       "       [ 1.08429715e+00,  0.00000000e+00,  0.00000000e+00,\n",
       "         1.99896614e-01, -5.35589865e-01,  2.10976140e+00,\n",
       "         4.15731318e-01,  1.40920289e+00,  1.52141342e+00,\n",
       "        -9.83339537e-01, -9.24867931e-01, -8.63663642e-01,\n",
       "         7.70648979e-01,  4.68029391e-01, -5.12328248e-01,\n",
       "        -6.41925514e-01],\n",
       "       [-4.87692420e-01,  0.00000000e+00,  0.00000000e+00,\n",
       "        -1.68270914e+00, -1.07132315e+00,  5.64164281e-01,\n",
       "        -5.40002291e-01, -1.00067264e+00, -1.53576005e+00,\n",
       "        -1.86768924e-01, -9.26692761e-02, -4.52439677e-02,\n",
       "        -3.07098204e-01,  2.36736538e-01,  4.36837705e-01,\n",
       "         8.28582419e-02],\n",
       "       [-5.96175935e-01,  0.00000000e+00,  0.00000000e+00,\n",
       "        -7.29846682e-01, -9.61425202e-01,  1.23584791e+00,\n",
       "         2.70943885e-01,  8.22523572e-01, -5.67101779e-01,\n",
       "         5.19650226e-01,  5.77672959e-01,  4.39660260e-01,\n",
       "         1.03166276e+00,  2.36736538e-01,  3.12020186e-01,\n",
       "         1.61388488e-01],\n",
       "       [ 2.52632115e-01,  0.00000000e+00,  0.00000000e+00,\n",
       "         1.38197902e-01,  1.36188686e+00, -4.74339591e-01,\n",
       "         2.16180612e-01, -1.28540143e+00, -1.30311671e-01,\n",
       "         5.61029782e-01,  3.92601368e-01,  3.95629046e-01,\n",
       "         7.70648979e-01,  9.08147185e-01, -2.49883997e+00,\n",
       "         1.81055287e+00],\n",
       "       [-7.89011402e-01,  0.00000000e+00,  0.00000000e+00,\n",
       "         8.44221534e-01,  7.32678154e-01, -8.20430695e-01,\n",
       "         7.70046367e-01,  1.23474558e-01, -5.67101779e-01,\n",
       "        -2.30096939e+00, -2.28677063e+00, -2.26637599e+00,\n",
       "        -8.70681710e-01,  9.08147185e-01,  2.08491727e+00,\n",
       "         3.11562350e-01],\n",
       "       [ 3.22037487e-01,  0.00000000e+00,  0.00000000e+00,\n",
       "         1.11616810e+00, -4.32227907e-01, -7.03025726e-01,\n",
       "        -4.28617534e-02,  6.78550021e-01,  7.10994061e-01,\n",
       "        -1.29292772e+00, -1.50228264e+00, -1.66371188e+00,\n",
       "        -1.73289617e+00,  4.68029391e-01,  1.33300631e+00,\n",
       "         1.66920917e+00],\n",
       "       [ 1.37737301e-01,  0.00000000e+00,  0.00000000e+00,\n",
       "        -1.63010220e-01, -1.28676161e-01,  4.01843420e-01,\n",
       "         1.78963187e+00,  2.79148702e+00,  5.94217890e-01,\n",
       "        -1.12390777e+00, -1.29984664e+00, -1.32988858e+00,\n",
       "         1.03166276e+00,  2.09085582e+00,  6.77176215e-01,\n",
       "         1.20371501e+00],\n",
       "       [-6.17756609e-01,  0.00000000e+00,  0.00000000e+00,\n",
       "        -4.39755655e-02,  2.62459743e-01, -5.11906087e-01,\n",
       "        -9.98685266e-01,  4.44378919e-01,  1.38786720e-01,\n",
       "         6.71283471e-01,  6.48786587e-01,  7.03638359e-01,\n",
       "        -8.70681710e-01, -1.07533963e+00, -3.65006331e-01,\n",
       "         1.43081026e+00],\n",
       "       [-9.36834306e-01,  0.00000000e+00,  0.00000000e+00,\n",
       "        -9.96002506e-01, -4.32227907e-01,  2.69125303e-01,\n",
       "         5.94226550e-01,  4.61238853e-03,  1.92552808e+00,\n",
       "         9.05135408e-01,  9.04489803e-01,  8.13524742e-01,\n",
       "        -3.07098204e-01, -7.87002186e-01, -1.14916472e+00,\n",
       "        -1.67684998e-01],\n",
       "       [ 1.15032665e-03,  0.00000000e+00,  0.00000000e+00,\n",
       "         1.32558682e+00, -1.52730964e+00,  5.96168091e-01,\n",
       "         4.51648972e-01,  3.53547035e-01, -1.60029335e+00,\n",
       "        -1.05359197e+00, -1.14104978e+00, -1.17433666e+00,\n",
       "        -8.70681710e-01,  6.91582693e-01,  9.06023678e-01,\n",
       "        -3.48265262e-01],\n",
       "       [ 4.61903563e-01,  0.00000000e+00,  0.00000000e+00,\n",
       "        -5.64688157e-01, -2.01564882e+00,  5.96168091e-01,\n",
       "         1.33238489e+00,  9.05280039e-01, -1.22726215e+00,\n",
       "        -7.44947704e-01, -8.52897653e-01, -7.52845387e-01,\n",
       "         4.72300348e-01,  4.68029391e-01, -2.21933710e-01,\n",
       "        -1.67684998e-01],\n",
       "       [-1.48937178e+00,  0.00000000e+00,  0.00000000e+00,\n",
       "        -1.99504220e+00,  8.24510284e-01, -1.52911231e+00,\n",
       "        -1.77854272e+00, -1.00067264e+00,  1.22050964e+00,\n",
       "        -1.45055514e-01,  2.16765576e-02,  1.31228806e-01,\n",
       "        -1.73289617e+00,  2.36736538e-01, -1.14916472e+00,\n",
       "        -1.58819729e+00],\n",
       "       [-2.25681725e+00,  0.00000000e+00,  0.00000000e+00,\n",
       "        -1.30068346e+00, -1.41063754e+00, -2.47829793e+00,\n",
       "         1.42758514e-01, -1.39412379e+00, -5.67101779e-01,\n",
       "         9.87531609e-01,  8.76101719e-01,  9.89217220e-01,\n",
       "         1.21870592e-01, -2.52844176e-01,  1.83903886e-01,\n",
       "        -1.67684998e-01],\n",
       "       [-1.22682499e+00,  0.00000000e+00,  0.00000000e+00,\n",
       "        -1.63010220e-01,  5.46877831e-01, -1.10289298e+00,\n",
       "        -1.51954034e+00,  1.93183556e-01,  3.09685564e-01,\n",
       "         1.65779725e+00,  1.59823212e+00,  1.60295419e+00,\n",
       "        -8.70681710e-01, -1.07533963e+00, -1.14916472e+00,\n",
       "         1.47295923e+00],\n",
       "       [-3.56234524e-01,  0.00000000e+00,  0.00000000e+00,\n",
       "        -6.75253462e-01, -5.35589865e-01,  9.08214214e-01,\n",
       "         1.72536184e+00,  3.42521724e-02, -1.10992538e+00,\n",
       "        -1.30702960e+00, -1.19876798e+00, -1.15212680e+00,\n",
       "         1.03166276e+00,  2.09085582e+00,  5.58508906e-01,\n",
       "        -1.87019087e+00],\n",
       "       [ 2.98863300e-01,  0.00000000e+00,  0.00000000e+00,\n",
       "         8.44221534e-01,  7.32678154e-01, -8.60039342e-01,\n",
       "        -1.17954659e-01, -9.16970789e-01,  5.14700397e-01,\n",
       "        -8.57043046e-01, -5.65457190e-01, -5.31419479e-01,\n",
       "         1.26446344e+00,  1.52182832e+00, -2.21933710e-01,\n",
       "        -1.45479212e+00],\n",
       "       [ 8.65848732e-01,  0.00000000e+00,  0.00000000e+00,\n",
       "         9.11434794e-01,  1.53626470e+00, -1.81252234e-01,\n",
       "         4.87456542e-01,  5.76375836e-01,  1.86548585e+00,\n",
       "         3.40119177e-01,  3.21351400e-01,  1.75321075e-01,\n",
       "        -8.70681710e-01,  2.36736538e-01,  1.83903886e-01,\n",
       "        -5.40819806e-01],\n",
       "       [-7.25080407e-01,  0.00000000e+00,  0.00000000e+00,\n",
       "        -8.37664770e-01,  4.52860860e-01, -3.99842255e-01,\n",
       "        -7.17272959e-01,  7.29844768e-01,  5.08613716e-02,\n",
       "         5.88605690e-01,  2.64323664e-01,  2.85506859e-01,\n",
       "        -8.70681710e-01, -1.38141238e+00, -2.21933710e-01,\n",
       "         1.90485434e-03],\n",
       "       [ 1.28115156e+00,  0.00000000e+00,  0.00000000e+00,\n",
       "        -4.39755655e-02,  1.62263592e+00,  8.77641898e-01,\n",
       "        -1.49822954e+00,  2.83212126e-01,  6.72393731e-01,\n",
       "         2.13380015e+00,  2.30280108e+00,  2.36764236e+00,\n",
       "         4.72300348e-01, -2.06403920e+00, -9.82263658e-01,\n",
       "         2.37592499e-01]])"
      ]
     },
     "execution_count": 67,
     "metadata": {},
     "output_type": "execute_result"
    }
   ],
   "source": [
    "from sklearn.preprocessing import power_transform\n",
    "x=power_transform(x, method='yeo-johnson')\n",
    "x"
   ]
  },
  {
   "cell_type": "code",
   "execution_count": 68,
   "id": "3aa493ff",
   "metadata": {},
   "outputs": [],
   "source": [
    "#performing data scaling \n",
    "from sklearn.preprocessing import StandardScaler\n",
    "scale= StandardScaler()\n",
    "x= scale.fit_transform(x)"
   ]
  },
  {
   "cell_type": "code",
   "execution_count": 69,
   "id": "962f5a20",
   "metadata": {},
   "outputs": [
    {
     "data": {
      "text/plain": [
       "array([[0.76269627, 0.        , 0.        , 0.94306171, 0.83055597,\n",
       "        0.37845433, 0.04858078, 0.        , 0.75316743, 0.36980291,\n",
       "        0.38755651, 0.37917067, 0.3808006 , 0.30735723, 0.87953892,\n",
       "        0.41348317],\n",
       "       [0.6054643 , 0.        , 0.        , 0.54664436, 0.87977593,\n",
       "        0.51619636, 0.36894124, 0.49499186, 0.39079849, 0.55497703,\n",
       "        0.54963105, 0.54117529, 0.3808006 , 0.55375063, 0.61322186,\n",
       "        0.36116914],\n",
       "       [0.46072024, 0.        , 0.        , 1.        , 0.49111863,\n",
       "        0.39536189, 0.84374811, 0.30231579, 0.57576535, 0.36664857,\n",
       "        0.33435729, 0.35051186, 1.        , 0.43591836, 0.40026187,\n",
       "        0.14781417],\n",
       "       [0.22471302, 0.        , 0.        , 0.29657883, 0.43521083,\n",
       "        0.35271091, 0.17258737, 0.43427304, 0.36534072, 0.5581003 ,\n",
       "        0.51853669, 0.49835565, 0.8005316 , 0.3731705 , 0.3661082 ,\n",
       "        0.68491843],\n",
       "       [0.56729207, 0.        , 0.        , 0.74478689, 1.        ,\n",
       "        0.47703203, 0.45481432, 0.48571836, 0.54333307, 0.87421452,\n",
       "        0.8372511 , 0.81136213, 0.8005316 , 0.55375063, 0.29444737,\n",
       "        0.36116914],\n",
       "       [1.        , 0.        , 0.        , 0.46945956, 0.19784637,\n",
       "        0.89578951, 0.94110762, 0.42699126, 0.29895364, 0.54872901,\n",
       "        0.54652315, 0.5221499 , 0.49536912, 0.        , 0.6928849 ,\n",
       "        0.53061263],\n",
       "       [0.70005795, 0.        , 0.        , 0.11592956, 0.22892392,\n",
       "        0.92545261, 0.25260143, 0.62177662, 0.        , 0.53310028,\n",
       "        0.5278686 , 0.5316637 , 0.        , 0.43591836, 0.55656641,\n",
       "        0.07661321],\n",
       "       [0.33267314, 0.        , 0.        , 0.5624547 , 0.57289422,\n",
       "        0.59882034, 0.35258004, 0.58153541, 0.58637315, 0.37295671,\n",
       "        0.39693339, 0.38394506, 0.23027932, 0.55375063, 0.96143338,\n",
       "        0.57265148],\n",
       "       [0.90328   , 0.        , 0.        , 0.83289143, 0.59964129,\n",
       "        0.5543328 , 0.57437958, 0.28666683, 0.40330838, 0.71984915,\n",
       "        0.67676876, 0.6551449 , 0.49536912, 0.43591836, 0.46552065,\n",
       "        0.61226116],\n",
       "       [0.92123195, 0.        , 0.        , 0.57839078, 0.57289422,\n",
       "        0.63489106, 0.69955055, 0.43792027, 0.72542134, 0.65778901,\n",
       "        0.63341776, 0.62193565, 0.66864416, 0.3731705 , 0.61322186,\n",
       "        0.93037067],\n",
       "       [0.79154083, 0.        , 0.        , 0.5624547 , 0.4068013 ,\n",
       "        1.        , 0.61495703, 0.74124703, 0.89918231, 0.29711349,\n",
       "        0.29673852, 0.30269892, 0.66864416, 0.60941819, 0.43338066,\n",
       "        0.33370032],\n",
       "       [0.41912199, 0.        , 0.        , 0.08003558, 0.25955244,\n",
       "        0.66312617, 0.34710757, 0.29013683, 0.136485  , 0.47673288,\n",
       "        0.47806233, 0.47931015, 0.3808006 , 0.55375063, 0.64045226,\n",
       "        0.53061263],\n",
       "       [0.39342125, 0.        , 0.        , 0.32420729, 0.28975841,\n",
       "        0.80952437, 0.57437958, 0.63142516, 0.37814386, 0.63602394,\n",
       "        0.62412002, 0.58395027, 0.73835544, 0.55375063, 0.61322186,\n",
       "        0.55194806],\n",
       "       [0.59451171, 0.        , 0.        , 0.54664436, 0.92833187,\n",
       "        0.4367769 , 0.55903188, 0.23683779, 0.48711336, 0.64535466,\n",
       "        0.58379565, 0.57444853, 0.66864416, 0.71534572, 0.        ,\n",
       "        1.        ],\n",
       "       [0.34773675, 0.        , 0.        , 0.72756344, 0.75539084,\n",
       "        0.3613439 , 0.71425571, 0.50056856, 0.37814386, 0.        ,\n",
       "        0.        , 0.        , 0.23027932, 0.71534572, 1.        ,\n",
       "        0.59274793],\n",
       "       [0.61095448, 0.        , 0.        , 0.79724995, 0.43521083,\n",
       "        0.38693314, 0.48643387, 0.60447442, 0.69700057, 0.22730418,\n",
       "        0.17092837, 0.13005216, 0.        , 0.60941819, 0.83596187,\n",
       "        0.96159915],\n",
       "       [0.56729207, 0.        , 0.        , 0.46945956, 0.51864348,\n",
       "        0.62774719, 1.        , 1.        , 0.66786749, 0.26541664,\n",
       "        0.21503618, 0.20208971, 0.73835544, 1.        , 0.6928849 ,\n",
       "        0.83513173],\n",
       "       [0.38830859, 0.        , 0.        , 0.49996228, 0.62614906,\n",
       "        0.42858902, 0.21855922, 0.56063939, 0.55424746, 0.67021586,\n",
       "        0.63961463, 0.64091554, 0.23027932, 0.23796018, 0.46552065,\n",
       "        0.89682992],\n",
       "       [0.31271614, 0.        , 0.        , 0.25600466, 0.43521083,\n",
       "        0.59882034, 0.66498127, 0.47831847, 1.        , 0.72294733,\n",
       "        0.69532859, 0.66462852, 0.3808006 , 0.30735723, 0.29444737,\n",
       "        0.46254398],\n",
       "       [0.53493335, 0.        , 0.        , 0.85091366, 0.13422236,\n",
       "        0.67010163, 0.62502314, 0.54363636, 0.12038537, 0.28127221,\n",
       "        0.24963568, 0.2356571 , 0.23027932, 0.66322299, 0.74281064,\n",
       "        0.41348317],\n",
       "       [0.64409005, 0.        , 0.        , 0.36652929, 0.        ,\n",
       "        0.67010163, 0.87185409, 0.64691654, 0.21344842, 0.35086867,\n",
       "        0.31241978, 0.32661299, 0.58896153, 0.60941819, 0.49673361,\n",
       "        0.46254398],\n",
       "       [0.18181491, 0.        , 0.        , 0.        , 0.78063134,\n",
       "        0.20688172, 0.        , 0.29013683, 0.82411346, 0.48613888,\n",
       "        0.5029766 , 0.51739217, 0.        , 0.55375063, 0.29444737,\n",
       "        0.07661321],\n",
       "       [0.        , 0.        , 0.        , 0.17792994, 0.16629025,\n",
       "        0.        , 0.53845494, 0.2164858 , 0.37814386, 0.74152692,\n",
       "        0.68914325, 0.70254215, 0.49536912, 0.43591836, 0.5852718 ,\n",
       "        0.46254398],\n",
       "       [0.24401467, 0.        , 0.        , 0.46945956, 0.70432273,\n",
       "        0.29977924, 0.0725868 , 0.51361755, 0.59688295, 0.8926657 ,\n",
       "        0.84648481, 0.83498379, 0.23027932, 0.23796018, 0.29444737,\n",
       "        0.90828114],\n",
       "       [0.45026558, 0.        , 0.        , 0.33819685, 0.4068013 ,\n",
       "        0.73811429, 0.98198798, 0.48386681, 0.24272135, 0.22412434,\n",
       "        0.23705973, 0.24044989, 0.73835544, 1.        , 0.66699625,\n",
       "        0.        ],\n",
       "       [0.6054643 , 0.        , 0.        , 0.72756344, 0.75539084,\n",
       "        0.35271091, 0.46538868, 0.30580518, 0.64802963, 0.32559219,\n",
       "        0.37504882, 0.37439569, 0.8005316 , 0.86304648, 0.49673361,\n",
       "        0.11285729],\n",
       "       [0.73978838, 0.        , 0.        , 0.74478689, 0.97626046,\n",
       "        0.50065737, 0.6350584 , 0.5853482 , 0.98502079, 0.59554133,\n",
       "        0.56827133, 0.52690708, 0.23027932, 0.55375063, 0.5852718 ,\n",
       "        0.36116914],\n",
       "       [0.36288259, 0.        , 0.        , 0.29657883, 0.67848172,\n",
       "        0.45301412, 0.29742652, 0.6140764 , 0.53231203, 0.65157277,\n",
       "        0.55584583, 0.55068467, 0.23027932, 0.1642946 , 0.49673361,\n",
       "        0.50861887],\n",
       "       [0.83817745, 0.        , 0.        , 0.49996228, 1.        ,\n",
       "        0.73145084, 0.07855927, 0.5304702 , 0.68737064, 1.        ,\n",
       "        1.        , 1.        , 0.58896153, 0.        , 0.33085878,\n",
       "        0.57265148]])"
      ]
     },
     "execution_count": 69,
     "metadata": {},
     "output_type": "execute_result"
    }
   ],
   "source": [
    "from sklearn.preprocessing import MinMaxScaler\n",
    "scale= MinMaxScaler()\n",
    "scaled=scale.fit_transform(x)\n",
    "x=scaled\n",
    "x"
   ]
  },
  {
   "cell_type": "code",
   "execution_count": 70,
   "id": "5020e8cc",
   "metadata": {},
   "outputs": [
    {
     "data": {
      "text/html": [
       "<div>\n",
       "<style scoped>\n",
       "    .dataframe tbody tr th:only-of-type {\n",
       "        vertical-align: middle;\n",
       "    }\n",
       "\n",
       "    .dataframe tbody tr th {\n",
       "        vertical-align: top;\n",
       "    }\n",
       "\n",
       "    .dataframe thead th {\n",
       "        text-align: right;\n",
       "    }\n",
       "</style>\n",
       "<table border=\"1\" class=\"dataframe\">\n",
       "  <thead>\n",
       "    <tr style=\"text-align: right;\">\n",
       "      <th></th>\n",
       "      <th>Wins</th>\n",
       "      <th>Runs Scored</th>\n",
       "      <th>At Bat</th>\n",
       "      <th>Hits</th>\n",
       "      <th>Double</th>\n",
       "      <th>Triple</th>\n",
       "      <th>Home Runs</th>\n",
       "      <th>Walks</th>\n",
       "      <th>Strike Out</th>\n",
       "      <th>Stolen Base</th>\n",
       "      <th>Runs Allowed</th>\n",
       "      <th>Earned Runs</th>\n",
       "      <th>Earned Run Average</th>\n",
       "      <th>Complete Games</th>\n",
       "      <th>Shout Outs</th>\n",
       "      <th>Saves</th>\n",
       "      <th>Errors</th>\n",
       "    </tr>\n",
       "  </thead>\n",
       "  <tbody>\n",
       "    <tr>\n",
       "      <th>Wins</th>\n",
       "      <td>1.000000</td>\n",
       "      <td>0.390451</td>\n",
       "      <td>-0.085780</td>\n",
       "      <td>-0.018360</td>\n",
       "      <td>0.384886</td>\n",
       "      <td>-0.206737</td>\n",
       "      <td>0.245697</td>\n",
       "      <td>0.447513</td>\n",
       "      <td>0.156469</td>\n",
       "      <td>-0.169503</td>\n",
       "      <td>-0.823176</td>\n",
       "      <td>-0.815308</td>\n",
       "      <td>-0.826952</td>\n",
       "      <td>0.029594</td>\n",
       "      <td>0.497526</td>\n",
       "      <td>0.749290</td>\n",
       "      <td>-0.072858</td>\n",
       "    </tr>\n",
       "    <tr>\n",
       "      <th>Runs Scored</th>\n",
       "      <td>0.390451</td>\n",
       "      <td>1.000000</td>\n",
       "      <td>0.438022</td>\n",
       "      <td>0.433525</td>\n",
       "      <td>0.469293</td>\n",
       "      <td>0.134204</td>\n",
       "      <td>0.586894</td>\n",
       "      <td>0.258450</td>\n",
       "      <td>0.081158</td>\n",
       "      <td>0.075323</td>\n",
       "      <td>-0.013858</td>\n",
       "      <td>0.007727</td>\n",
       "      <td>-0.009122</td>\n",
       "      <td>0.101438</td>\n",
       "      <td>-0.085108</td>\n",
       "      <td>0.061381</td>\n",
       "      <td>0.043123</td>\n",
       "    </tr>\n",
       "    <tr>\n",
       "      <th>At Bat</th>\n",
       "      <td>-0.085780</td>\n",
       "      <td>0.438022</td>\n",
       "      <td>1.000000</td>\n",
       "      <td>0.769159</td>\n",
       "      <td>0.490752</td>\n",
       "      <td>0.445604</td>\n",
       "      <td>-0.064653</td>\n",
       "      <td>-0.137850</td>\n",
       "      <td>-0.111243</td>\n",
       "      <td>0.373674</td>\n",
       "      <td>0.315499</td>\n",
       "      <td>0.309146</td>\n",
       "      <td>0.254872</td>\n",
       "      <td>-0.078511</td>\n",
       "      <td>-0.198872</td>\n",
       "      <td>-0.113342</td>\n",
       "      <td>0.316297</td>\n",
       "    </tr>\n",
       "    <tr>\n",
       "      <th>Hits</th>\n",
       "      <td>-0.018360</td>\n",
       "      <td>0.433525</td>\n",
       "      <td>0.769159</td>\n",
       "      <td>1.000000</td>\n",
       "      <td>0.528016</td>\n",
       "      <td>0.582024</td>\n",
       "      <td>-0.218711</td>\n",
       "      <td>-0.222271</td>\n",
       "      <td>-0.371861</td>\n",
       "      <td>0.417877</td>\n",
       "      <td>0.244606</td>\n",
       "      <td>0.280571</td>\n",
       "      <td>0.256458</td>\n",
       "      <td>0.092577</td>\n",
       "      <td>-0.135116</td>\n",
       "      <td>-0.079814</td>\n",
       "      <td>-0.011945</td>\n",
       "    </tr>\n",
       "    <tr>\n",
       "      <th>Double</th>\n",
       "      <td>0.384886</td>\n",
       "      <td>0.469293</td>\n",
       "      <td>0.490752</td>\n",
       "      <td>0.528016</td>\n",
       "      <td>1.000000</td>\n",
       "      <td>0.342419</td>\n",
       "      <td>-0.098695</td>\n",
       "      <td>0.211243</td>\n",
       "      <td>-0.096772</td>\n",
       "      <td>0.194308</td>\n",
       "      <td>-0.215196</td>\n",
       "      <td>-0.224993</td>\n",
       "      <td>-0.248212</td>\n",
       "      <td>0.244856</td>\n",
       "      <td>0.084060</td>\n",
       "      <td>0.269999</td>\n",
       "      <td>0.145032</td>\n",
       "    </tr>\n",
       "    <tr>\n",
       "      <th>Triple</th>\n",
       "      <td>-0.206737</td>\n",
       "      <td>0.134204</td>\n",
       "      <td>0.445604</td>\n",
       "      <td>0.582024</td>\n",
       "      <td>0.342419</td>\n",
       "      <td>1.000000</td>\n",
       "      <td>-0.369299</td>\n",
       "      <td>-0.404852</td>\n",
       "      <td>-0.196586</td>\n",
       "      <td>0.483818</td>\n",
       "      <td>0.312750</td>\n",
       "      <td>0.333731</td>\n",
       "      <td>0.325883</td>\n",
       "      <td>-0.003733</td>\n",
       "      <td>-0.058896</td>\n",
       "      <td>-0.210627</td>\n",
       "      <td>0.108610</td>\n",
       "    </tr>\n",
       "    <tr>\n",
       "      <th>Home Runs</th>\n",
       "      <td>0.245697</td>\n",
       "      <td>0.586894</td>\n",
       "      <td>-0.064653</td>\n",
       "      <td>-0.218711</td>\n",
       "      <td>-0.098695</td>\n",
       "      <td>-0.369299</td>\n",
       "      <td>1.000000</td>\n",
       "      <td>0.336814</td>\n",
       "      <td>0.479914</td>\n",
       "      <td>-0.166072</td>\n",
       "      <td>-0.092586</td>\n",
       "      <td>-0.062094</td>\n",
       "      <td>-0.070756</td>\n",
       "      <td>0.065978</td>\n",
       "      <td>0.005546</td>\n",
       "      <td>0.066984</td>\n",
       "      <td>-0.189790</td>\n",
       "    </tr>\n",
       "    <tr>\n",
       "      <th>Walks</th>\n",
       "      <td>0.447513</td>\n",
       "      <td>0.258450</td>\n",
       "      <td>-0.137850</td>\n",
       "      <td>-0.222271</td>\n",
       "      <td>0.211243</td>\n",
       "      <td>-0.404852</td>\n",
       "      <td>0.336814</td>\n",
       "      <td>1.000000</td>\n",
       "      <td>0.315566</td>\n",
       "      <td>-0.117622</td>\n",
       "      <td>-0.425381</td>\n",
       "      <td>-0.455832</td>\n",
       "      <td>-0.465794</td>\n",
       "      <td>0.417437</td>\n",
       "      <td>0.473922</td>\n",
       "      <td>0.187101</td>\n",
       "      <td>-0.050114</td>\n",
       "    </tr>\n",
       "    <tr>\n",
       "      <th>Strike Out</th>\n",
       "      <td>0.156469</td>\n",
       "      <td>0.081158</td>\n",
       "      <td>-0.111243</td>\n",
       "      <td>-0.371861</td>\n",
       "      <td>-0.096772</td>\n",
       "      <td>-0.196586</td>\n",
       "      <td>0.479914</td>\n",
       "      <td>0.315566</td>\n",
       "      <td>1.000000</td>\n",
       "      <td>0.038188</td>\n",
       "      <td>-0.140570</td>\n",
       "      <td>-0.177655</td>\n",
       "      <td>-0.195362</td>\n",
       "      <td>-0.053075</td>\n",
       "      <td>0.231230</td>\n",
       "      <td>0.091394</td>\n",
       "      <td>0.142740</td>\n",
       "    </tr>\n",
       "    <tr>\n",
       "      <th>Stolen Base</th>\n",
       "      <td>-0.169503</td>\n",
       "      <td>0.075323</td>\n",
       "      <td>0.373674</td>\n",
       "      <td>0.417877</td>\n",
       "      <td>0.194308</td>\n",
       "      <td>0.483818</td>\n",
       "      <td>-0.166072</td>\n",
       "      <td>-0.117622</td>\n",
       "      <td>0.038188</td>\n",
       "      <td>1.000000</td>\n",
       "      <td>0.134315</td>\n",
       "      <td>0.146243</td>\n",
       "      <td>0.128848</td>\n",
       "      <td>-0.030708</td>\n",
       "      <td>-0.104602</td>\n",
       "      <td>-0.179741</td>\n",
       "      <td>0.082702</td>\n",
       "    </tr>\n",
       "    <tr>\n",
       "      <th>Runs Allowed</th>\n",
       "      <td>-0.823176</td>\n",
       "      <td>-0.013858</td>\n",
       "      <td>0.315499</td>\n",
       "      <td>0.244606</td>\n",
       "      <td>-0.215196</td>\n",
       "      <td>0.312750</td>\n",
       "      <td>-0.092586</td>\n",
       "      <td>-0.425381</td>\n",
       "      <td>-0.140570</td>\n",
       "      <td>0.134315</td>\n",
       "      <td>1.000000</td>\n",
       "      <td>0.991286</td>\n",
       "      <td>0.986781</td>\n",
       "      <td>-0.005288</td>\n",
       "      <td>-0.641579</td>\n",
       "      <td>-0.642734</td>\n",
       "      <td>0.195846</td>\n",
       "    </tr>\n",
       "    <tr>\n",
       "      <th>Earned Runs</th>\n",
       "      <td>-0.815308</td>\n",
       "      <td>0.007727</td>\n",
       "      <td>0.309146</td>\n",
       "      <td>0.280571</td>\n",
       "      <td>-0.224993</td>\n",
       "      <td>0.333731</td>\n",
       "      <td>-0.062094</td>\n",
       "      <td>-0.455832</td>\n",
       "      <td>-0.177655</td>\n",
       "      <td>0.146243</td>\n",
       "      <td>0.991286</td>\n",
       "      <td>1.000000</td>\n",
       "      <td>0.997261</td>\n",
       "      <td>-0.002865</td>\n",
       "      <td>-0.637293</td>\n",
       "      <td>-0.621875</td>\n",
       "      <td>0.131556</td>\n",
       "    </tr>\n",
       "    <tr>\n",
       "      <th>Earned Run Average</th>\n",
       "      <td>-0.826952</td>\n",
       "      <td>-0.009122</td>\n",
       "      <td>0.254872</td>\n",
       "      <td>0.256458</td>\n",
       "      <td>-0.248212</td>\n",
       "      <td>0.325883</td>\n",
       "      <td>-0.070756</td>\n",
       "      <td>-0.465794</td>\n",
       "      <td>-0.195362</td>\n",
       "      <td>0.128848</td>\n",
       "      <td>0.986781</td>\n",
       "      <td>0.997261</td>\n",
       "      <td>1.000000</td>\n",
       "      <td>0.006038</td>\n",
       "      <td>-0.637186</td>\n",
       "      <td>-0.637755</td>\n",
       "      <td>0.108191</td>\n",
       "    </tr>\n",
       "    <tr>\n",
       "      <th>Complete Games</th>\n",
       "      <td>0.029594</td>\n",
       "      <td>0.101438</td>\n",
       "      <td>-0.078511</td>\n",
       "      <td>0.092577</td>\n",
       "      <td>0.244856</td>\n",
       "      <td>-0.003733</td>\n",
       "      <td>0.065978</td>\n",
       "      <td>0.417437</td>\n",
       "      <td>-0.053075</td>\n",
       "      <td>-0.030708</td>\n",
       "      <td>-0.005288</td>\n",
       "      <td>-0.002865</td>\n",
       "      <td>0.006038</td>\n",
       "      <td>1.000000</td>\n",
       "      <td>0.264346</td>\n",
       "      <td>-0.332806</td>\n",
       "      <td>-0.123447</td>\n",
       "    </tr>\n",
       "    <tr>\n",
       "      <th>Shout Outs</th>\n",
       "      <td>0.497526</td>\n",
       "      <td>-0.085108</td>\n",
       "      <td>-0.198872</td>\n",
       "      <td>-0.135116</td>\n",
       "      <td>0.084060</td>\n",
       "      <td>-0.058896</td>\n",
       "      <td>0.005546</td>\n",
       "      <td>0.473922</td>\n",
       "      <td>0.231230</td>\n",
       "      <td>-0.104602</td>\n",
       "      <td>-0.641579</td>\n",
       "      <td>-0.637293</td>\n",
       "      <td>-0.637186</td>\n",
       "      <td>0.264346</td>\n",
       "      <td>1.000000</td>\n",
       "      <td>0.214175</td>\n",
       "      <td>-0.121484</td>\n",
       "    </tr>\n",
       "    <tr>\n",
       "      <th>Saves</th>\n",
       "      <td>0.749290</td>\n",
       "      <td>0.061381</td>\n",
       "      <td>-0.113342</td>\n",
       "      <td>-0.079814</td>\n",
       "      <td>0.269999</td>\n",
       "      <td>-0.210627</td>\n",
       "      <td>0.066984</td>\n",
       "      <td>0.187101</td>\n",
       "      <td>0.091394</td>\n",
       "      <td>-0.179741</td>\n",
       "      <td>-0.642734</td>\n",
       "      <td>-0.621875</td>\n",
       "      <td>-0.637755</td>\n",
       "      <td>-0.332806</td>\n",
       "      <td>0.214175</td>\n",
       "      <td>1.000000</td>\n",
       "      <td>-0.045539</td>\n",
       "    </tr>\n",
       "    <tr>\n",
       "      <th>Errors</th>\n",
       "      <td>-0.072858</td>\n",
       "      <td>0.043123</td>\n",
       "      <td>0.316297</td>\n",
       "      <td>-0.011945</td>\n",
       "      <td>0.145032</td>\n",
       "      <td>0.108610</td>\n",
       "      <td>-0.189790</td>\n",
       "      <td>-0.050114</td>\n",
       "      <td>0.142740</td>\n",
       "      <td>0.082702</td>\n",
       "      <td>0.195846</td>\n",
       "      <td>0.131556</td>\n",
       "      <td>0.108191</td>\n",
       "      <td>-0.123447</td>\n",
       "      <td>-0.121484</td>\n",
       "      <td>-0.045539</td>\n",
       "      <td>1.000000</td>\n",
       "    </tr>\n",
       "  </tbody>\n",
       "</table>\n",
       "</div>"
      ],
      "text/plain": [
       "                        Wins  Runs Scored    At Bat      Hits    Double  \\\n",
       "Wins                1.000000     0.390451 -0.085780 -0.018360  0.384886   \n",
       "Runs Scored         0.390451     1.000000  0.438022  0.433525  0.469293   \n",
       "At Bat             -0.085780     0.438022  1.000000  0.769159  0.490752   \n",
       "Hits               -0.018360     0.433525  0.769159  1.000000  0.528016   \n",
       "Double              0.384886     0.469293  0.490752  0.528016  1.000000   \n",
       "Triple             -0.206737     0.134204  0.445604  0.582024  0.342419   \n",
       "Home Runs           0.245697     0.586894 -0.064653 -0.218711 -0.098695   \n",
       "Walks               0.447513     0.258450 -0.137850 -0.222271  0.211243   \n",
       "Strike Out          0.156469     0.081158 -0.111243 -0.371861 -0.096772   \n",
       "Stolen Base        -0.169503     0.075323  0.373674  0.417877  0.194308   \n",
       "Runs Allowed       -0.823176    -0.013858  0.315499  0.244606 -0.215196   \n",
       "Earned Runs        -0.815308     0.007727  0.309146  0.280571 -0.224993   \n",
       "Earned Run Average -0.826952    -0.009122  0.254872  0.256458 -0.248212   \n",
       "Complete Games      0.029594     0.101438 -0.078511  0.092577  0.244856   \n",
       "Shout Outs          0.497526    -0.085108 -0.198872 -0.135116  0.084060   \n",
       "Saves               0.749290     0.061381 -0.113342 -0.079814  0.269999   \n",
       "Errors             -0.072858     0.043123  0.316297 -0.011945  0.145032   \n",
       "\n",
       "                      Triple  Home Runs     Walks  Strike Out  Stolen Base  \\\n",
       "Wins               -0.206737   0.245697  0.447513    0.156469    -0.169503   \n",
       "Runs Scored         0.134204   0.586894  0.258450    0.081158     0.075323   \n",
       "At Bat              0.445604  -0.064653 -0.137850   -0.111243     0.373674   \n",
       "Hits                0.582024  -0.218711 -0.222271   -0.371861     0.417877   \n",
       "Double              0.342419  -0.098695  0.211243   -0.096772     0.194308   \n",
       "Triple              1.000000  -0.369299 -0.404852   -0.196586     0.483818   \n",
       "Home Runs          -0.369299   1.000000  0.336814    0.479914    -0.166072   \n",
       "Walks              -0.404852   0.336814  1.000000    0.315566    -0.117622   \n",
       "Strike Out         -0.196586   0.479914  0.315566    1.000000     0.038188   \n",
       "Stolen Base         0.483818  -0.166072 -0.117622    0.038188     1.000000   \n",
       "Runs Allowed        0.312750  -0.092586 -0.425381   -0.140570     0.134315   \n",
       "Earned Runs         0.333731  -0.062094 -0.455832   -0.177655     0.146243   \n",
       "Earned Run Average  0.325883  -0.070756 -0.465794   -0.195362     0.128848   \n",
       "Complete Games     -0.003733   0.065978  0.417437   -0.053075    -0.030708   \n",
       "Shout Outs         -0.058896   0.005546  0.473922    0.231230    -0.104602   \n",
       "Saves              -0.210627   0.066984  0.187101    0.091394    -0.179741   \n",
       "Errors              0.108610  -0.189790 -0.050114    0.142740     0.082702   \n",
       "\n",
       "                    Runs Allowed  Earned Runs  Earned Run Average  \\\n",
       "Wins                   -0.823176    -0.815308           -0.826952   \n",
       "Runs Scored            -0.013858     0.007727           -0.009122   \n",
       "At Bat                  0.315499     0.309146            0.254872   \n",
       "Hits                    0.244606     0.280571            0.256458   \n",
       "Double                 -0.215196    -0.224993           -0.248212   \n",
       "Triple                  0.312750     0.333731            0.325883   \n",
       "Home Runs              -0.092586    -0.062094           -0.070756   \n",
       "Walks                  -0.425381    -0.455832           -0.465794   \n",
       "Strike Out             -0.140570    -0.177655           -0.195362   \n",
       "Stolen Base             0.134315     0.146243            0.128848   \n",
       "Runs Allowed            1.000000     0.991286            0.986781   \n",
       "Earned Runs             0.991286     1.000000            0.997261   \n",
       "Earned Run Average      0.986781     0.997261            1.000000   \n",
       "Complete Games         -0.005288    -0.002865            0.006038   \n",
       "Shout Outs             -0.641579    -0.637293           -0.637186   \n",
       "Saves                  -0.642734    -0.621875           -0.637755   \n",
       "Errors                  0.195846     0.131556            0.108191   \n",
       "\n",
       "                    Complete Games  Shout Outs     Saves    Errors  \n",
       "Wins                      0.029594    0.497526  0.749290 -0.072858  \n",
       "Runs Scored               0.101438   -0.085108  0.061381  0.043123  \n",
       "At Bat                   -0.078511   -0.198872 -0.113342  0.316297  \n",
       "Hits                      0.092577   -0.135116 -0.079814 -0.011945  \n",
       "Double                    0.244856    0.084060  0.269999  0.145032  \n",
       "Triple                   -0.003733   -0.058896 -0.210627  0.108610  \n",
       "Home Runs                 0.065978    0.005546  0.066984 -0.189790  \n",
       "Walks                     0.417437    0.473922  0.187101 -0.050114  \n",
       "Strike Out               -0.053075    0.231230  0.091394  0.142740  \n",
       "Stolen Base              -0.030708   -0.104602 -0.179741  0.082702  \n",
       "Runs Allowed             -0.005288   -0.641579 -0.642734  0.195846  \n",
       "Earned Runs              -0.002865   -0.637293 -0.621875  0.131556  \n",
       "Earned Run Average        0.006038   -0.637186 -0.637755  0.108191  \n",
       "Complete Games            1.000000    0.264346 -0.332806 -0.123447  \n",
       "Shout Outs                0.264346    1.000000  0.214175 -0.121484  \n",
       "Saves                    -0.332806    0.214175  1.000000 -0.045539  \n",
       "Errors                   -0.123447   -0.121484 -0.045539  1.000000  "
      ]
     },
     "execution_count": 70,
     "metadata": {},
     "output_type": "execute_result"
    }
   ],
   "source": [
    "#Checking Correlation \n",
    "df_new.corr()"
   ]
  },
  {
   "cell_type": "code",
   "execution_count": 71,
   "id": "dc0d4e76",
   "metadata": {},
   "outputs": [
    {
     "data": {
      "image/png": "[encoded data removed]",
      "text/plain": [
       "<Figure size 1080x504 with 2 Axes>"
      ]
     },
     "metadata": {
      "needs_background": "light"
     },
     "output_type": "display_data"
    }
   ],
   "source": [
    "#heatmap for correlation\n",
    "corr_hmap= df_new.corr()\n",
    "plt.figure(figsize=(15,7))\n",
    "sns.heatmap(corr_hmap, annot=True, linewidths=0.9, linecolor=\"white\", fmt='.2f')\n",
    "plt.show()\n",
    "\n",
    "#there is highest correlation of 'Saves', 'Runs Allowed', 'runs earned', 'earned runs average' with 'Wins' \n",
    "#the least correaltion is of 'Hits', Errors', 'Complete Games', 'Strike Out', 'Stolen Base'\n",
    "#Also there is high multicolinearity between various columns"
   ]
  },
  {
   "cell_type": "code",
   "execution_count": 72,
   "id": "6b53bf9b",
   "metadata": {},
   "outputs": [
    {
     "data": {
      "text/plain": [
       "Wins                  1.000000\n",
       "Saves                 0.749290\n",
       "Shout Outs            0.497526\n",
       "Walks                 0.447513\n",
       "Runs Scored           0.390451\n",
       "Double                0.384886\n",
       "Home Runs             0.245697\n",
       "Strike Out            0.156469\n",
       "Complete Games        0.029594\n",
       "Hits                 -0.018360\n",
       "Errors               -0.072858\n",
       "At Bat               -0.085780\n",
       "Stolen Base          -0.169503\n",
       "Triple               -0.206737\n",
       "Earned Runs          -0.815308\n",
       "Runs Allowed         -0.823176\n",
       "Earned Run Average   -0.826952\n",
       "Name: Wins, dtype: float64"
      ]
     },
     "execution_count": 72,
     "metadata": {},
     "output_type": "execute_result"
    }
   ],
   "source": [
    "#making correlation matrix\n",
    "corr_matrix=df_new.corr()\n",
    "corr_matrix['Wins'].sort_values(ascending=False)\n",
    "#there is highest correlation of 'Saves', 'shout outs', 'Walks', Runs Allowed', 'runs earned', 'earned runs average' with 'Wins' \n",
    "#the least correaltion is of 'Hits', Errors', 'Complete Games', 'Strike Out', 'Stolen Base'"
   ]
  },
  {
   "cell_type": "code",
   "execution_count": 73,
   "id": "d6c1507c",
   "metadata": {},
   "outputs": [
    {
     "data": {
      "text/plain": [
       "16"
      ]
     },
     "execution_count": 73,
     "metadata": {},
     "output_type": "execute_result"
    }
   ],
   "source": [
    "#number of columns\n",
    "x.shape[1] "
   ]
  },
  {
   "cell_type": "code",
   "execution_count": 74,
   "id": "d9c9adb4",
   "metadata": {},
   "outputs": [],
   "source": [
    "#checking the multicollieanrity\n",
    "import statsmodels.api as sm\n",
    "from scipy import stats\n",
    "from statsmodels.stats.outliers_influence import variance_inflation_factor"
   ]
  },
  {
   "cell_type": "code",
   "execution_count": 75,
   "id": "fd7666ad",
   "metadata": {},
   "outputs": [],
   "source": [
    "#finding vif for each column\n",
    "def calc_vif(x):\n",
    "    vif= pd.DataFrame()\n",
    "    vif['variables']=x.columns\n",
    "    vif['VIF Factor']= [variance_inflation_factor(x.values, i) for i in range(x.shape[1])]\n",
    "    return(vif)"
   ]
  },
  {
   "cell_type": "code",
   "execution_count": 76,
   "id": "ad8ef7f0",
   "metadata": {},
   "outputs": [
    {
     "data": {
      "text/plain": [
       "(29, 16)"
      ]
     },
     "execution_count": 76,
     "metadata": {},
     "output_type": "execute_result"
    }
   ],
   "source": [
    "x.shape"
   ]
  },
  {
   "cell_type": "code",
   "execution_count": 77,
   "id": "62794cc6",
   "metadata": {},
   "outputs": [
    {
     "data": {
      "text/html": [
       "<div>\n",
       "<style scoped>\n",
       "    .dataframe tbody tr th:only-of-type {\n",
       "        vertical-align: middle;\n",
       "    }\n",
       "\n",
       "    .dataframe tbody tr th {\n",
       "        vertical-align: top;\n",
       "    }\n",
       "\n",
       "    .dataframe thead th {\n",
       "        text-align: right;\n",
       "    }\n",
       "</style>\n",
       "<table border=\"1\" class=\"dataframe\">\n",
       "  <thead>\n",
       "    <tr style=\"text-align: right;\">\n",
       "      <th></th>\n",
       "      <th>variables</th>\n",
       "      <th>VIF Factor</th>\n",
       "    </tr>\n",
       "  </thead>\n",
       "  <tbody>\n",
       "    <tr>\n",
       "      <th>0</th>\n",
       "      <td>Wins</td>\n",
       "      <td>1136.419542</td>\n",
       "    </tr>\n",
       "    <tr>\n",
       "      <th>1</th>\n",
       "      <td>Runs Scored</td>\n",
       "      <td>3372.620602</td>\n",
       "    </tr>\n",
       "    <tr>\n",
       "      <th>2</th>\n",
       "      <td>At Bat</td>\n",
       "      <td>5149.560597</td>\n",
       "    </tr>\n",
       "    <tr>\n",
       "      <th>3</th>\n",
       "      <td>Hits</td>\n",
       "      <td>4646.411583</td>\n",
       "    </tr>\n",
       "    <tr>\n",
       "      <th>4</th>\n",
       "      <td>Double</td>\n",
       "      <td>1109.169779</td>\n",
       "    </tr>\n",
       "    <tr>\n",
       "      <th>5</th>\n",
       "      <td>Triple</td>\n",
       "      <td>35.766244</td>\n",
       "    </tr>\n",
       "    <tr>\n",
       "      <th>6</th>\n",
       "      <td>Home Runs</td>\n",
       "      <td>289.402974</td>\n",
       "    </tr>\n",
       "    <tr>\n",
       "      <th>7</th>\n",
       "      <td>Walks</td>\n",
       "      <td>295.570400</td>\n",
       "    </tr>\n",
       "    <tr>\n",
       "      <th>8</th>\n",
       "      <td>Strike Out</td>\n",
       "      <td>400.617550</td>\n",
       "    </tr>\n",
       "    <tr>\n",
       "      <th>9</th>\n",
       "      <td>Stolen Base</td>\n",
       "      <td>28.931744</td>\n",
       "    </tr>\n",
       "    <tr>\n",
       "      <th>10</th>\n",
       "      <td>Runs Allowed</td>\n",
       "      <td>19271.091846</td>\n",
       "    </tr>\n",
       "    <tr>\n",
       "      <th>11</th>\n",
       "      <td>Earned Runs</td>\n",
       "      <td>52735.457733</td>\n",
       "    </tr>\n",
       "    <tr>\n",
       "      <th>12</th>\n",
       "      <td>Earned Run Average</td>\n",
       "      <td>23214.973638</td>\n",
       "    </tr>\n",
       "    <tr>\n",
       "      <th>13</th>\n",
       "      <td>Complete Games</td>\n",
       "      <td>9.566508</td>\n",
       "    </tr>\n",
       "    <tr>\n",
       "      <th>14</th>\n",
       "      <td>Shout Outs</td>\n",
       "      <td>34.360696</td>\n",
       "    </tr>\n",
       "    <tr>\n",
       "      <th>15</th>\n",
       "      <td>Saves</td>\n",
       "      <td>327.752121</td>\n",
       "    </tr>\n",
       "    <tr>\n",
       "      <th>16</th>\n",
       "      <td>Errors</td>\n",
       "      <td>95.762999</td>\n",
       "    </tr>\n",
       "  </tbody>\n",
       "</table>\n",
       "</div>"
      ],
      "text/plain": [
       "             variables    VIF Factor\n",
       "0                 Wins   1136.419542\n",
       "1          Runs Scored   3372.620602\n",
       "2               At Bat   5149.560597\n",
       "3                 Hits   4646.411583\n",
       "4               Double   1109.169779\n",
       "5               Triple     35.766244\n",
       "6            Home Runs    289.402974\n",
       "7                Walks    295.570400\n",
       "8           Strike Out    400.617550\n",
       "9          Stolen Base     28.931744\n",
       "10        Runs Allowed  19271.091846\n",
       "11         Earned Runs  52735.457733\n",
       "12  Earned Run Average  23214.973638\n",
       "13      Complete Games      9.566508\n",
       "14          Shout Outs     34.360696\n",
       "15               Saves    327.752121\n",
       "16              Errors     95.762999"
      ]
     },
     "execution_count": 77,
     "metadata": {},
     "output_type": "execute_result"
    }
   ],
   "source": [
    "calc_vif(df_new)\n",
    "\n",
    "#Runs Scored, At Bat,Hits, Double, Runs Allowed, Earned Runs, Earned Runs Average have high multicolinearity"
   ]
  },
  {
   "cell_type": "code",
   "execution_count": 78,
   "id": "2e248213",
   "metadata": {},
   "outputs": [],
   "source": [
    "#Using PCA to remove the multicolinearity\n",
    "# the columns with high multicolinearity and least correaltion with the 'Wins' can be clubbed:"
   ]
  },
  {
   "cell_type": "code",
   "execution_count": 79,
   "id": "d9228fc0",
   "metadata": {},
   "outputs": [],
   "source": [
    "#clubbing the columns to 14 total.\n",
    "from sklearn.decomposition import PCA\n",
    "pca= PCA(n_components=14)\n",
    "xpca=pca.fit_transform(x)\n",
    "x=xpca"
   ]
  },
  {
   "cell_type": "code",
   "execution_count": 80,
   "id": "7a969dca",
   "metadata": {},
   "outputs": [
    {
     "data": {
      "text/plain": [
       "array([[ 1.36813002e-01, -4.20597751e-01,  5.85873313e-01,\n",
       "         1.56061753e-01,  4.36837948e-01, -4.03685414e-01,\n",
       "         1.42129191e-01,  2.53541260e-01,  9.65982879e-03,\n",
       "        -1.59374153e-01, -9.05586917e-02,  1.86238235e-02,\n",
       "         1.81886882e-02, -6.45344194e-03],\n",
       "       [ 1.23928253e-01, -7.52882055e-02,  1.40430688e-01,\n",
       "        -3.46482717e-02,  2.29898803e-01, -2.62921944e-04,\n",
       "        -2.50078730e-01, -1.28041365e-01, -8.85426951e-02,\n",
       "        -5.93986626e-02,  5.37074690e-02, -3.87713718e-02,\n",
       "        -1.56773144e-03,  1.37791618e-03],\n",
       "       [-3.60073328e-01, -4.51570487e-01, -1.69128024e-01,\n",
       "        -5.00779117e-01,  8.43003591e-02, -3.55165222e-01,\n",
       "         3.26776077e-01,  4.33592131e-02, -6.21776036e-02,\n",
       "         2.27057108e-01,  1.53632680e-01,  2.58838934e-02,\n",
       "        -5.77359653e-03, -6.61703667e-03],\n",
       "       [ 2.55456717e-01,  2.80129813e-01, -2.39659995e-02,\n",
       "        -2.52027868e-01, -3.17489599e-01, -2.05619238e-01,\n",
       "        -6.72742553e-02,  3.68027417e-01, -1.03804237e-01,\n",
       "         3.65362086e-02,  9.66528617e-02, -6.96904730e-02,\n",
       "         2.29680038e-02,  1.49526747e-02],\n",
       "       [ 5.47147088e-01, -4.33036083e-01, -2.40755282e-01,\n",
       "        -3.65355500e-01,  9.60288744e-02, -3.99044508e-02,\n",
       "        -2.13010371e-01, -1.84966395e-01, -1.76527707e-01,\n",
       "         8.04535483e-02, -3.53677497e-02, -2.71683240e-04,\n",
       "         1.48352236e-02,  2.71066450e-03],\n",
       "       [-2.07560901e-01,  6.97401501e-02, -6.71325220e-01,\n",
       "         5.05532278e-01,  2.15774112e-01, -1.98338854e-01,\n",
       "         2.76282052e-01, -7.37391063e-02,  1.02384701e-01,\n",
       "        -1.55541755e-01,  1.90453426e-01, -1.31498967e-02,\n",
       "        -1.00912529e-02,  1.47235733e-02],\n",
       "       [-9.09706126e-02,  7.97332523e-01, -1.96776524e-01,\n",
       "         2.50506261e-01,  5.89675544e-01,  1.25496816e-01,\n",
       "        -2.58355943e-01, -4.42226433e-02,  6.74089905e-02,\n",
       "         1.07195842e-01, -1.57816877e-02, -4.67439252e-02,\n",
       "         2.64659555e-03, -1.66372459e-03],\n",
       "       [-1.87976954e-01,  1.04515457e-01,  3.95222002e-01,\n",
       "         2.25666966e-01, -5.56004434e-03,  7.59519385e-02,\n",
       "         1.34817634e-02,  1.41099130e-02, -2.71812191e-01,\n",
       "        -7.86859431e-02, -8.78728676e-02,  1.16006112e-01,\n",
       "        -1.86317068e-02, -1.36713830e-03],\n",
       "       [ 2.04270382e-01, -3.18632084e-01, -2.56227129e-01,\n",
       "         1.76910735e-01,  1.14104597e-01, -3.06468769e-01,\n",
       "        -8.25174122e-02, -1.56245173e-01,  1.55967558e-01,\n",
       "         4.08307929e-02, -1.20054198e-01, -1.54638651e-02,\n",
       "         1.04912084e-02, -1.77603008e-03],\n",
       "       [ 1.51557345e-01, -4.04984723e-01, -3.51089311e-01,\n",
       "         3.27415510e-01, -2.07446296e-01, -2.25803441e-02,\n",
       "         8.97367023e-02,  3.69268720e-02,  8.06863852e-02,\n",
       "        -2.37206761e-01, -8.77094801e-02, -4.96510472e-02,\n",
       "        -7.69793698e-03, -6.88175335e-03],\n",
       "       [-4.26285171e-01, -2.80429748e-01, -2.64584265e-01,\n",
       "         3.27750055e-02,  1.92923988e-01,  4.72368499e-01,\n",
       "         1.36212483e-01,  3.41971953e-01,  3.33882598e-02,\n",
       "         1.38441083e-01, -4.77779667e-02,  3.80095940e-02,\n",
       "        -4.70865291e-03, -1.04632239e-02],\n",
       "       [-9.75400400e-02,  6.23286892e-01, -7.41127125e-02,\n",
       "         1.58468526e-02,  2.17004946e-03, -1.37161024e-01,\n",
       "        -1.68947069e-01,  1.32290266e-01,  9.11580558e-02,\n",
       "        -2.01699835e-01, -5.95732212e-02,  8.09318199e-02,\n",
       "         4.11668727e-03, -3.95863899e-03],\n",
       "       [-7.12620620e-02,  2.41306466e-01, -4.30525546e-01,\n",
       "        -4.61875727e-02, -1.46211917e-01,  6.08742178e-02,\n",
       "        -4.79333706e-02,  8.25304249e-02, -2.44719642e-01,\n",
       "        -4.91413397e-02, -1.16092837e-01,  9.95450432e-02,\n",
       "         1.78033023e-02,  1.02907564e-02],\n",
       "       [ 3.55893723e-01, -3.88428450e-01, -1.11185853e-01,\n",
       "        -1.99889229e-01, -4.37990009e-01, -7.75120427e-02,\n",
       "        -3.89616397e-01,  1.86100433e-02,  4.19938064e-01,\n",
       "        -2.25218728e-03,  8.24028858e-02,  1.23056592e-01,\n",
       "         5.11518560e-03, -3.04378580e-03],\n",
       "       [-8.15192189e-01, -1.17284225e-01,  6.85478145e-01,\n",
       "         1.11505501e-01, -1.21427835e-01, -1.13102448e-01,\n",
       "        -9.31884106e-02, -1.14184314e-01, -8.26059171e-02,\n",
       "        -1.10034131e-01,  2.48090976e-01,  5.73415541e-02,\n",
       "        -1.76768802e-02,  1.25335183e-03],\n",
       "       [-4.44740322e-01, -1.41069748e-01,  5.88904277e-01,\n",
       "         5.66387422e-01, -2.82283899e-01,  1.90538872e-02,\n",
       "         7.32556137e-02,  2.10363160e-02,  1.23046388e-01,\n",
       "         1.03901546e-01, -9.65440261e-02, -6.51609307e-02,\n",
       "         2.01549623e-02,  7.53891982e-03],\n",
       "       [-7.67531986e-01, -3.03329323e-01, -1.22328379e-01,\n",
       "         1.58328515e-02, -5.39948805e-01,  4.44897333e-01,\n",
       "        -1.43769938e-01, -7.01139196e-03, -1.24426789e-01,\n",
       "        -7.56272175e-02, -2.01303096e-02, -1.22031262e-01,\n",
       "         2.09067713e-03, -4.35835577e-03],\n",
       "       [ 5.03490657e-01,  1.14991542e-01,  1.74049231e-01,\n",
       "         2.97081697e-01, -2.56818208e-01, -1.70764974e-02,\n",
       "        -2.20689807e-02,  2.40225925e-02, -4.42985589e-02,\n",
       "         1.08274375e-01,  5.22446283e-02,  1.40432980e-02,\n",
       "        -3.01661527e-02, -2.18628839e-03],\n",
       "       [ 3.68170645e-01,  1.15855872e-01, -1.66191047e-01,\n",
       "        -1.24237637e-01, -1.28993745e-01,  3.79912939e-01,\n",
       "         4.64501740e-01, -7.23726937e-02,  1.03699541e-01,\n",
       "         1.98611352e-02, -1.80592918e-02,  1.54109243e-01,\n",
       "         5.83677697e-03,  6.42158287e-03],\n",
       "       [-6.98667499e-01,  2.00544114e-01,  6.33995612e-02,\n",
       "         2.37765746e-01,  1.15059612e-01, -2.69807193e-01,\n",
       "        -6.97395952e-02, -9.59190589e-02, -1.49519475e-02,\n",
       "         3.07696290e-01, -1.08529681e-01,  6.98022280e-02,\n",
       "         1.47644773e-03, -4.43035998e-04],\n",
       "       [-6.32957319e-01,  3.01841367e-01, -4.34807612e-01,\n",
       "         2.27285639e-02, -1.11580762e-01, -2.83662584e-02,\n",
       "         3.47700198e-02,  1.86731199e-02,  1.24270321e-01,\n",
       "         1.08972858e-01,  1.17005921e-02, -1.30323201e-01,\n",
       "        -1.42748914e-02, -3.32898964e-03],\n",
       "       [ 4.73978774e-01,  4.73225578e-01,  6.80908167e-01,\n",
       "        -4.51885210e-01,  2.55837247e-01,  3.67586827e-01,\n",
       "         8.92437059e-02,  4.20756496e-02,  2.48357808e-01,\n",
       "        -3.55886395e-02,  2.58169158e-02, -4.91885449e-02,\n",
       "        -1.15265739e-02,  3.09659577e-03],\n",
       "       [ 2.66972049e-01,  6.15927307e-01,  4.14160379e-02,\n",
       "        -4.16128134e-01, -3.63233670e-01, -3.43546654e-01,\n",
       "         3.22606413e-01, -2.16538638e-01, -4.75857197e-02,\n",
       "        -1.16279028e-01, -1.37226413e-01, -8.74688178e-02,\n",
       "        -2.58864788e-03, -9.96094193e-03],\n",
       "       [ 9.22427208e-01,  1.62847251e-01,  1.76524437e-01,\n",
       "         1.34856477e-01, -3.32610963e-01, -2.66101874e-02,\n",
       "        -5.06437016e-02, -4.99195305e-02, -5.75024772e-02,\n",
       "         1.75928533e-01, -3.61048571e-02,  2.89316283e-02,\n",
       "        -2.02921322e-02,  1.44008593e-03],\n",
       "       [-8.93177305e-01,  1.42597164e-01, -2.23951980e-01,\n",
       "        -5.10886382e-01,  1.75895605e-01,  9.79953579e-02,\n",
       "        -1.27841528e-01, -1.16764505e-01, -2.09754561e-02,\n",
       "        -1.43669730e-01,  1.69596083e-02,  7.96536530e-02,\n",
       "         3.47601618e-03, -3.39357433e-03],\n",
       "       [-2.43643924e-01, -3.91336852e-01,  1.74472358e-01,\n",
       "        -5.53630520e-01,  2.31594239e-01, -6.94553705e-02,\n",
       "        -6.70086737e-02,  9.91779992e-02,  2.86070302e-02,\n",
       "        -9.32324016e-03, -1.13627712e-01, -1.00955364e-01,\n",
       "        -2.42821532e-02,  1.25074327e-02],\n",
       "       [ 1.43658685e-01, -5.15733354e-01,  2.23958054e-01,\n",
       "         6.52648356e-02,  2.15869280e-01,  3.47826652e-01,\n",
       "         1.24239565e-01, -2.98594685e-01,  1.78616048e-02,\n",
       "        -9.98700210e-03, -3.77302299e-02, -2.66432863e-02,\n",
       "         1.76399067e-02,  6.33061543e-03],\n",
       "       [ 3.84997092e-01,  2.67957807e-01,  1.58553790e-01,\n",
       "         1.09164124e-01,  1.13565217e-02,  1.25836710e-01,\n",
       "         6.40244554e-02, -2.82751143e-02, -9.74416440e-02,\n",
       "         3.63999669e-02,  2.36392245e-01, -5.42423483e-02,\n",
       "         4.31236993e-02, -1.22899902e-02],\n",
       "       [ 1.09881799e+00, -2.70378270e-01, -3.52235177e-01,\n",
       "         2.04352866e-01,  2.84268973e-01,  9.68617116e-02,\n",
       "        -1.05265407e-01,  9.04415754e-02, -1.69061951e-01,\n",
       "        -4.77396600e-02,  6.06869324e-02, -3.61824642e-02,\n",
       "        -2.06850719e-02, -4.45821948e-03]])"
      ]
     },
     "execution_count": 80,
     "metadata": {},
     "output_type": "execute_result"
    }
   ],
   "source": [
    "x"
   ]
  },
  {
   "cell_type": "code",
   "execution_count": 81,
   "id": "eec83865",
   "metadata": {},
   "outputs": [
    {
     "data": {
      "text/plain": [
       "(29, 14)"
      ]
     },
     "execution_count": 81,
     "metadata": {},
     "output_type": "execute_result"
    }
   ],
   "source": [
    "x=pd.DataFrame(x)\n",
    "x.shape"
   ]
  },
  {
   "cell_type": "code",
   "execution_count": 82,
   "id": "ccb26fe5",
   "metadata": {},
   "outputs": [
    {
     "data": {
      "text/plain": [
       "(29, 1)"
      ]
     },
     "execution_count": 82,
     "metadata": {},
     "output_type": "execute_result"
    }
   ],
   "source": [
    "y.shape"
   ]
  },
  {
   "cell_type": "markdown",
   "id": "f4921c7e",
   "metadata": {},
   "source": [
    "# Grid Search"
   ]
  },
  {
   "cell_type": "code",
   "execution_count": 83,
   "id": "aa1144b9",
   "metadata": {},
   "outputs": [],
   "source": [
    "import warnings\n",
    "warnings.filterwarnings(\"ignore\")\n",
    "from sklearn.linear_model import Lasso, Ridge\n",
    "from sklearn.model_selection import GridSearchCV\n",
    "from sklearn.linear_model import LinearRegression\n",
    "from sklearn.svm import SVR\n"
   ]
  },
  {
   "cell_type": "code",
   "execution_count": 84,
   "id": "b55bf21d",
   "metadata": {},
   "outputs": [],
   "source": [
    "#prepare a range of alpha values to test\n",
    "alphavalue= {'alpha':[1, 0.1, 0.01, 0.001, 0.0001, 0]}"
   ]
  },
  {
   "cell_type": "markdown",
   "id": "a032c6a3",
   "metadata": {},
   "source": [
    "Ridge Grid Search"
   ]
  },
  {
   "cell_type": "code",
   "execution_count": 85,
   "id": "0e90c88c",
   "metadata": {},
   "outputs": [],
   "source": [
    "#create and fit a ridge regression model\n",
    "model= Ridge()"
   ]
  },
  {
   "cell_type": "code",
   "execution_count": 86,
   "id": "697b90fc",
   "metadata": {},
   "outputs": [
    {
     "name": "stdout",
     "output_type": "stream",
     "text": [
      "GridSearchCV(estimator=Ridge(),\n",
      "             param_grid={'alpha': [1, 0.1, 0.01, 0.001, 0.0001, 0]})\n"
     ]
    }
   ],
   "source": [
    "grid= GridSearchCV(estimator= model, param_grid=alphavalue)\n",
    "grid.fit(x, y)\n",
    "print(grid)"
   ]
  },
  {
   "cell_type": "code",
   "execution_count": 87,
   "id": "9adf71ba",
   "metadata": {},
   "outputs": [
    {
     "name": "stdout",
     "output_type": "stream",
     "text": [
      "0.7899140486849988\n",
      "0.1\n",
      "{'alpha': 0.1}\n"
     ]
    }
   ],
   "source": [
    "#summarize results of grid search\n",
    "print(grid.best_score_)\n",
    "print(grid.best_estimator_.alpha)\n",
    "print(grid.best_params_)\n",
    "\n",
    "#best value of alpha = 0.1"
   ]
  },
  {
   "cell_type": "markdown",
   "id": "c830b83b",
   "metadata": {},
   "source": [
    "Lasso Grid Search"
   ]
  },
  {
   "cell_type": "code",
   "execution_count": 88,
   "id": "86be51e4",
   "metadata": {},
   "outputs": [],
   "source": [
    "#create and fit a Lasso regression model\n",
    "model= Lasso()"
   ]
  },
  {
   "cell_type": "code",
   "execution_count": 89,
   "id": "27829485",
   "metadata": {},
   "outputs": [
    {
     "name": "stdout",
     "output_type": "stream",
     "text": [
      "GridSearchCV(estimator=Lasso(),\n",
      "             param_grid={'alpha': [1, 0.1, 0.01, 0.001, 0.0001, 0]})\n"
     ]
    }
   ],
   "source": [
    "grid= GridSearchCV(estimator= model, param_grid=alphavalue)\n",
    "grid.fit(x, y)\n",
    "print(grid)"
   ]
  },
  {
   "cell_type": "code",
   "execution_count": 90,
   "id": "c1028458",
   "metadata": {},
   "outputs": [
    {
     "name": "stdout",
     "output_type": "stream",
     "text": [
      "0.7826995968037903\n",
      "0.01\n",
      "{'alpha': 0.01}\n"
     ]
    }
   ],
   "source": [
    "#summarize results of grid search\n",
    "print(grid.best_score_)\n",
    "print(grid.best_estimator_.alpha)\n",
    "print(grid.best_params_)\n",
    "\n",
    "#best value of alpha= 0.01"
   ]
  },
  {
   "cell_type": "markdown",
   "id": "2c02d29f",
   "metadata": {},
   "source": [
    "Support Vector Regressor"
   ]
  },
  {
   "cell_type": "code",
   "execution_count": 91,
   "id": "a19161e0",
   "metadata": {},
   "outputs": [
    {
     "data": {
      "text/plain": [
       "GridSearchCV(estimator=SVR(),\n",
       "             param_grid={'C': [1, 10], 'kernel': ['linear', 'rbf', 'poly']})"
      ]
     },
     "execution_count": 91,
     "metadata": {},
     "output_type": "execute_result"
    }
   ],
   "source": [
    "from sklearn import svm\n",
    "parameters= {'kernel': ['linear', 'rbf', 'poly'], 'C':[1,10]}\n",
    "svc= svm.SVR()\n",
    "clf= GridSearchCV(svc, parameters)\n",
    "clf.fit(x,y)"
   ]
  },
  {
   "cell_type": "code",
   "execution_count": 92,
   "id": "0938a0c8",
   "metadata": {},
   "outputs": [
    {
     "name": "stdout",
     "output_type": "stream",
     "text": [
      "{'C': 10, 'kernel': 'linear'}\n"
     ]
    }
   ],
   "source": [
    "print(clf.best_params_)"
   ]
  },
  {
   "cell_type": "code",
   "execution_count": 93,
   "id": "42ab3959",
   "metadata": {},
   "outputs": [
    {
     "data": {
      "text/plain": [
       "SVR(C=10, kernel='linear')"
      ]
     },
     "execution_count": 93,
     "metadata": {},
     "output_type": "execute_result"
    }
   ],
   "source": [
    "sv= svm.SVR(kernel= 'linear', C=10)\n",
    "sv.fit(x,y)\n",
    "\n",
    "#best parameter = linear , C=10"
   ]
  },
  {
   "cell_type": "markdown",
   "id": "2fc62966",
   "metadata": {},
   "source": [
    "# MODELLING - LINEAR REGRESSION"
   ]
  },
  {
   "cell_type": "code",
   "execution_count": 94,
   "id": "250e578b",
   "metadata": {},
   "outputs": [],
   "source": [
    "#importing the libraries\n",
    "from sklearn.linear_model import LinearRegression\n",
    "from sklearn.metrics import mean_squared_error, mean_absolute_error\n",
    "from sklearn.model_selection import train_test_split\n"
   ]
  },
  {
   "cell_type": "code",
   "execution_count": 95,
   "id": "7fb402d2",
   "metadata": {},
   "outputs": [],
   "source": [
    "x_train, x_test, y_train, y_test= train_test_split(x,y,test_size=.33, random_state=45)"
   ]
  },
  {
   "cell_type": "code",
   "execution_count": 96,
   "id": "42c337f3",
   "metadata": {},
   "outputs": [
    {
     "data": {
      "text/plain": [
       "(19, 14)"
      ]
     },
     "execution_count": 96,
     "metadata": {},
     "output_type": "execute_result"
    }
   ],
   "source": [
    "x_train.shape"
   ]
  },
  {
   "cell_type": "code",
   "execution_count": 97,
   "id": "4628b7fd",
   "metadata": {},
   "outputs": [
    {
     "data": {
      "text/plain": [
       "(10, 14)"
      ]
     },
     "execution_count": 97,
     "metadata": {},
     "output_type": "execute_result"
    }
   ],
   "source": [
    "x_test.shape"
   ]
  },
  {
   "cell_type": "code",
   "execution_count": 98,
   "id": "f21699f5",
   "metadata": {},
   "outputs": [
    {
     "data": {
      "text/plain": [
       "(19, 1)"
      ]
     },
     "execution_count": 98,
     "metadata": {},
     "output_type": "execute_result"
    }
   ],
   "source": [
    "y_train.shape"
   ]
  },
  {
   "cell_type": "code",
   "execution_count": 99,
   "id": "f7db2c1d",
   "metadata": {},
   "outputs": [
    {
     "data": {
      "text/plain": [
       "(10, 1)"
      ]
     },
     "execution_count": 99,
     "metadata": {},
     "output_type": "execute_result"
    }
   ],
   "source": [
    "y_test.shape"
   ]
  },
  {
   "cell_type": "code",
   "execution_count": 100,
   "id": "ff96e724",
   "metadata": {},
   "outputs": [],
   "source": [
    "lm=LinearRegression()"
   ]
  },
  {
   "cell_type": "code",
   "execution_count": 101,
   "id": "144ce617",
   "metadata": {},
   "outputs": [
    {
     "data": {
      "text/plain": [
       "LinearRegression()"
      ]
     },
     "execution_count": 101,
     "metadata": {},
     "output_type": "execute_result"
    }
   ],
   "source": [
    "lm.fit(x_train, y_train) "
   ]
  },
  {
   "cell_type": "code",
   "execution_count": 102,
   "id": "570264d8",
   "metadata": {},
   "outputs": [
    {
     "data": {
      "text/plain": [
       "array([[  6.30337665, -13.3515678 ,   1.51163816,  26.92940125,\n",
       "        -33.30548155,   7.36334183, -20.12097383,  27.28484086,\n",
       "         18.45262338,  12.52942118,   5.5043703 ,  17.70922467,\n",
       "        -33.39258242,   3.07500661]])"
      ]
     },
     "execution_count": 102,
     "metadata": {},
     "output_type": "execute_result"
    }
   ],
   "source": [
    "lm.coef_"
   ]
  },
  {
   "cell_type": "code",
   "execution_count": 103,
   "id": "2ec22254",
   "metadata": {},
   "outputs": [
    {
     "data": {
      "text/plain": [
       "array([94.01960082])"
      ]
     },
     "execution_count": 103,
     "metadata": {},
     "output_type": "execute_result"
    }
   ],
   "source": [
    "lm.intercept_"
   ]
  },
  {
   "cell_type": "code",
   "execution_count": 104,
   "id": "2377d690",
   "metadata": {},
   "outputs": [
    {
     "data": {
      "text/plain": [
       "0.9869001536251604"
      ]
     },
     "execution_count": 104,
     "metadata": {},
     "output_type": "execute_result"
    }
   ],
   "source": [
    "lm.score(x_train, y_train)\n",
    "\n",
    "#the accuracy is good = 98.69%"
   ]
  },
  {
   "cell_type": "code",
   "execution_count": 105,
   "id": "36acff08",
   "metadata": {},
   "outputs": [],
   "source": [
    "predlm=lm.predict(x_test)"
   ]
  },
  {
   "cell_type": "code",
   "execution_count": 106,
   "id": "ce249f46",
   "metadata": {},
   "outputs": [
    {
     "name": "stdout",
     "output_type": "stream",
     "text": [
      "predicted wins: [[ 87.5870513 ]\n",
      " [ 95.15904859]\n",
      " [ 65.82925123]\n",
      " [102.01023588]\n",
      " [ 89.29920342]\n",
      " [112.00391208]\n",
      " [ 68.92047038]\n",
      " [102.08798417]\n",
      " [128.4354299 ]\n",
      " [114.23583692]]\n",
      "actual wins:      Errors\n",
      "27      86\n",
      "8       95\n",
      "25      75\n",
      "29      95\n",
      "6       93\n",
      "10     119\n",
      "23      90\n",
      "11      85\n",
      "14     126\n",
      "24     117\n"
     ]
    }
   ],
   "source": [
    "print(\"predicted wins:\", predlm)\n",
    "print(\"actual wins: \", y_test)"
   ]
  },
  {
   "cell_type": "code",
   "execution_count": 107,
   "id": "2353bb75",
   "metadata": {},
   "outputs": [
    {
     "name": "stdout",
     "output_type": "stream",
     "text": [
      "The Error:\n",
      "mean absolute error: 7.1991075809702165\n",
      "mean squared error: 94.83488982258383\n",
      "root mean square error: 9.738320688013095\n"
     ]
    }
   ],
   "source": [
    "print('The Error:')\n",
    "print(\"mean absolute error:\", mean_absolute_error(y_test,predlm))\n",
    "print(\"mean squared error:\", mean_squared_error(y_test,predlm))\n",
    "print(\"root mean square error:\", np.sqrt(mean_squared_error(y_test,predlm)))"
   ]
  },
  {
   "cell_type": "code",
   "execution_count": 108,
   "id": "2d4001a4",
   "metadata": {},
   "outputs": [],
   "source": [
    "#there is not much error or deviation between the actual values & predicted values"
   ]
  },
  {
   "cell_type": "code",
   "execution_count": 109,
   "id": "befe2a1e",
   "metadata": {},
   "outputs": [
    {
     "name": "stdout",
     "output_type": "stream",
     "text": [
      "0.6258831124597268\n"
     ]
    }
   ],
   "source": [
    "#r2 score- To find the change in 'Wins' with changes in input variables\n",
    "from sklearn.metrics import r2_score\n",
    "print(r2_score(y_test, predlm))\n",
    "\n",
    "#the 'wins' outpout changes by 0.88 with change in input parameters"
   ]
  },
  {
   "cell_type": "code",
   "execution_count": 110,
   "id": "e50ede91",
   "metadata": {},
   "outputs": [],
   "source": [
    "#predict 'Win' by giving inputs- \n",
    "\n",
    "t= np.array([200, 12, 45, 12, 47, 45, 12, 40, 77, 66, 11, 36, 44, 10])"
   ]
  },
  {
   "cell_type": "code",
   "execution_count": 111,
   "id": "625ffcc8",
   "metadata": {},
   "outputs": [
    {
     "data": {
      "text/plain": [
       "(14,)"
      ]
     },
     "execution_count": 111,
     "metadata": {},
     "output_type": "execute_result"
    }
   ],
   "source": [
    "t.shape"
   ]
  },
  {
   "cell_type": "code",
   "execution_count": 112,
   "id": "f2ba402f",
   "metadata": {},
   "outputs": [],
   "source": [
    "t=t.reshape(1,-1)"
   ]
  },
  {
   "cell_type": "code",
   "execution_count": 113,
   "id": "8b003567",
   "metadata": {},
   "outputs": [
    {
     "data": {
      "text/plain": [
       "(1, 14)"
      ]
     },
     "execution_count": 113,
     "metadata": {},
     "output_type": "execute_result"
    }
   ],
   "source": [
    "t.shape"
   ]
  },
  {
   "cell_type": "code",
   "execution_count": 114,
   "id": "64423024",
   "metadata": {},
   "outputs": [
    {
     "data": {
      "text/plain": [
       "array([[2708.93774613]])"
      ]
     },
     "execution_count": 114,
     "metadata": {},
     "output_type": "execute_result"
    }
   ],
   "source": [
    "lm.predict(t)\n",
    "\n",
    "#The predicted value of 'Wins' for the given set of input values is as follows."
   ]
  },
  {
   "cell_type": "code",
   "execution_count": 115,
   "id": "6a9b00bb",
   "metadata": {},
   "outputs": [
    {
     "name": "stdout",
     "output_type": "stream",
     "text": [
      "0.8128458020204831\n"
     ]
    }
   ],
   "source": [
    "#using K fold cross validation\n",
    "from sklearn.model_selection import cross_val_score\n",
    "score= cross_val_score(lm, x, y, cv=7)\n",
    "print(score.mean())\n",
    "#by cross validation it shows that the model accuracy is 81%"
   ]
  },
  {
   "cell_type": "markdown",
   "id": "852c8b21",
   "metadata": {},
   "source": [
    "# Model Lasso- L1"
   ]
  },
  {
   "cell_type": "code",
   "execution_count": 116,
   "id": "67154dfb",
   "metadata": {},
   "outputs": [],
   "source": [
    "from sklearn.linear_model import Lasso, Ridge"
   ]
  },
  {
   "cell_type": "code",
   "execution_count": 117,
   "id": "faac4177",
   "metadata": {},
   "outputs": [
    {
     "data": {
      "text/plain": [
       "Lasso(alpha=0.01)"
      ]
     },
     "execution_count": 117,
     "metadata": {},
     "output_type": "execute_result"
    }
   ],
   "source": [
    "#using Lasso\n",
    "ls= Lasso(alpha=0.01) #Keeping the best value of alpha = 0.01\n",
    "\n",
    "ls.fit(x_train, y_train)"
   ]
  },
  {
   "cell_type": "code",
   "execution_count": 118,
   "id": "4960a2dc",
   "metadata": {},
   "outputs": [
    {
     "data": {
      "text/plain": [
       "array([  6.00303413,  -8.30303504,   3.56788809,  24.28069014,\n",
       "       -35.19568059,   1.04794175, -11.43743816,  13.61861477,\n",
       "         9.40610843,   5.10225513,  -3.35548553,   0.        ,\n",
       "        -0.        ,   0.        ])"
      ]
     },
     "execution_count": 118,
     "metadata": {},
     "output_type": "execute_result"
    }
   ],
   "source": [
    "ls.coef_"
   ]
  },
  {
   "cell_type": "code",
   "execution_count": 119,
   "id": "2f8d7a60",
   "metadata": {},
   "outputs": [
    {
     "data": {
      "text/plain": [
       "array([93.74600157])"
      ]
     },
     "execution_count": 119,
     "metadata": {},
     "output_type": "execute_result"
    }
   ],
   "source": [
    "ls.intercept_"
   ]
  },
  {
   "cell_type": "code",
   "execution_count": 120,
   "id": "66945798",
   "metadata": {},
   "outputs": [
    {
     "data": {
      "text/plain": [
       "0.9819731176762095"
      ]
     },
     "execution_count": 120,
     "metadata": {},
     "output_type": "execute_result"
    }
   ],
   "source": [
    "ls.score(x_train, y_train)"
   ]
  },
  {
   "cell_type": "code",
   "execution_count": 121,
   "id": "31f0caa8",
   "metadata": {},
   "outputs": [],
   "source": [
    "predls=ls.predict(x_test)"
   ]
  },
  {
   "cell_type": "code",
   "execution_count": 122,
   "id": "a82f59cb",
   "metadata": {},
   "outputs": [
    {
     "name": "stdout",
     "output_type": "stream",
     "text": [
      "predicted wins: [ 88.79733689  96.28916037  66.79322083  96.78698856  89.36442732\n",
      " 111.31268392  85.48353906  91.35212751 117.56320649 113.89135459]\n",
      "actual wins:      Errors\n",
      "27      86\n",
      "8       95\n",
      "25      75\n",
      "29      95\n",
      "6       93\n",
      "10     119\n",
      "23      90\n",
      "11      85\n",
      "14     126\n",
      "24     117\n"
     ]
    }
   ],
   "source": [
    "print(\"predicted wins:\", predls)\n",
    "print(\"actual wins: \", y_test)"
   ]
  },
  {
   "cell_type": "code",
   "execution_count": 123,
   "id": "f897cf08",
   "metadata": {},
   "outputs": [],
   "source": [
    "t= np.array([200, 12, 45, 12, 47, 45, 12, 40, 77, 66, 11, 36, 44, 10])"
   ]
  },
  {
   "cell_type": "code",
   "execution_count": 124,
   "id": "ca2ad5fb",
   "metadata": {},
   "outputs": [
    {
     "data": {
      "text/plain": [
       "(14,)"
      ]
     },
     "execution_count": 124,
     "metadata": {},
     "output_type": "execute_result"
    }
   ],
   "source": [
    "t.shape"
   ]
  },
  {
   "cell_type": "code",
   "execution_count": 125,
   "id": "67faf90a",
   "metadata": {},
   "outputs": [],
   "source": [
    "t=t.reshape(1,-1)"
   ]
  },
  {
   "cell_type": "code",
   "execution_count": 126,
   "id": "19a21207",
   "metadata": {},
   "outputs": [
    {
     "data": {
      "text/plain": [
       "(1, 14)"
      ]
     },
     "execution_count": 126,
     "metadata": {},
     "output_type": "execute_result"
    }
   ],
   "source": [
    "t.shape"
   ]
  },
  {
   "cell_type": "code",
   "execution_count": 127,
   "id": "57ad2e59",
   "metadata": {},
   "outputs": [
    {
     "data": {
      "text/plain": [
       "array([1471.20422331])"
      ]
     },
     "execution_count": 127,
     "metadata": {},
     "output_type": "execute_result"
    }
   ],
   "source": [
    "ls.predict(t)"
   ]
  },
  {
   "cell_type": "code",
   "execution_count": 128,
   "id": "f2ee7adb",
   "metadata": {},
   "outputs": [
    {
     "name": "stdout",
     "output_type": "stream",
     "text": [
      "0.8511451967473286\n"
     ]
    }
   ],
   "source": [
    "#cross validating K fold\n",
    "from sklearn.model_selection import cross_val_score\n",
    "score= cross_val_score(ls, x, y, cv=7)\n",
    "print(score.mean())\n",
    "#by cross validation it shows that the model accuracy is 85%"
   ]
  },
  {
   "cell_type": "markdown",
   "id": "c29e0941",
   "metadata": {},
   "source": [
    "# Model L2 -Ridge"
   ]
  },
  {
   "cell_type": "code",
   "execution_count": 129,
   "id": "cabbe5d7",
   "metadata": {},
   "outputs": [
    {
     "data": {
      "text/plain": [
       "Ridge(alpha=0.1)"
      ]
     },
     "execution_count": 129,
     "metadata": {},
     "output_type": "execute_result"
    }
   ],
   "source": [
    "#Using Ridge\n",
    "rd= Ridge(alpha=0.1) #keeping the best value of alpha= 0.1\n",
    "#rd.Ridge()\n",
    "\n",
    "rd.fit(x_train, y_train)\n"
   ]
  },
  {
   "cell_type": "code",
   "execution_count": 130,
   "id": "f168350f",
   "metadata": {},
   "outputs": [
    {
     "data": {
      "text/plain": [
       "array([[  5.18781819,  -6.40892783,   4.01914054,  22.85669271,\n",
       "        -32.5634492 ,   0.18378388,  -6.78481717,   8.37046873,\n",
       "          3.33734155,   2.06354901,  -5.26843273,  -3.71459416,\n",
       "         -1.57482331,   0.39828062]])"
      ]
     },
     "execution_count": 130,
     "metadata": {},
     "output_type": "execute_result"
    }
   ],
   "source": [
    "rd.coef_"
   ]
  },
  {
   "cell_type": "code",
   "execution_count": 131,
   "id": "c8848943",
   "metadata": {},
   "outputs": [
    {
     "data": {
      "text/plain": [
       "array([93.67551936])"
      ]
     },
     "execution_count": 131,
     "metadata": {},
     "output_type": "execute_result"
    }
   ],
   "source": [
    "rd.intercept_"
   ]
  },
  {
   "cell_type": "code",
   "execution_count": 132,
   "id": "b1119976",
   "metadata": {},
   "outputs": [
    {
     "data": {
      "text/plain": [
       "0.9732136460349894"
      ]
     },
     "execution_count": 132,
     "metadata": {},
     "output_type": "execute_result"
    }
   ],
   "source": [
    "rd.score(x_train, y_train)\n",
    "\n",
    "#ridge models shows accuracy of 97.3%"
   ]
  },
  {
   "cell_type": "code",
   "execution_count": 133,
   "id": "3bde2c81",
   "metadata": {},
   "outputs": [],
   "source": [
    "predrd=rd.predict(x_test)"
   ]
  },
  {
   "cell_type": "code",
   "execution_count": 134,
   "id": "c53fd731",
   "metadata": {},
   "outputs": [
    {
     "name": "stdout",
     "output_type": "stream",
     "text": [
      "predicted wins: [[ 90.12159732]\n",
      " [ 97.98992998]\n",
      " [ 68.9724365 ]\n",
      " [ 95.77898566]\n",
      " [ 90.54179837]\n",
      " [110.01680998]\n",
      " [ 90.18111095]\n",
      " [ 89.20072304]\n",
      " [110.53935579]\n",
      " [112.24731394]]\n",
      "actual wins:      Errors\n",
      "27      86\n",
      "8       95\n",
      "25      75\n",
      "29      95\n",
      "6       93\n",
      "10     119\n",
      "23      90\n",
      "11      85\n",
      "14     126\n",
      "24     117\n"
     ]
    }
   ],
   "source": [
    "print(\"predicted wins:\", predrd)\n",
    "print(\"actual wins: \", y_test)"
   ]
  },
  {
   "cell_type": "code",
   "execution_count": 135,
   "id": "6aba0992",
   "metadata": {},
   "outputs": [],
   "source": [
    "t= np.array([200, 12, 45, 12, 47, 45, 12, 40, 77, 66, 11, 36, 44, 10])"
   ]
  },
  {
   "cell_type": "code",
   "execution_count": 136,
   "id": "315a52bf",
   "metadata": {},
   "outputs": [
    {
     "data": {
      "text/plain": [
       "(14,)"
      ]
     },
     "execution_count": 136,
     "metadata": {},
     "output_type": "execute_result"
    }
   ],
   "source": [
    "t.shape"
   ]
  },
  {
   "cell_type": "code",
   "execution_count": 137,
   "id": "2770cfb8",
   "metadata": {},
   "outputs": [],
   "source": [
    "t=t.reshape(1,-1)"
   ]
  },
  {
   "cell_type": "code",
   "execution_count": 138,
   "id": "32568aa0",
   "metadata": {},
   "outputs": [
    {
     "data": {
      "text/plain": [
       "(1, 14)"
      ]
     },
     "execution_count": 138,
     "metadata": {},
     "output_type": "execute_result"
    }
   ],
   "source": [
    "t.shape"
   ]
  },
  {
   "cell_type": "code",
   "execution_count": 139,
   "id": "d74cd8f3",
   "metadata": {},
   "outputs": [
    {
     "data": {
      "text/plain": [
       "array([[376.84472987]])"
      ]
     },
     "execution_count": 139,
     "metadata": {},
     "output_type": "execute_result"
    }
   ],
   "source": [
    "rd.predict(t)"
   ]
  },
  {
   "cell_type": "code",
   "execution_count": 140,
   "id": "3b708eb5",
   "metadata": {},
   "outputs": [
    {
     "name": "stdout",
     "output_type": "stream",
     "text": [
      "0.8469012745990531\n"
     ]
    }
   ],
   "source": [
    "#cross validating K fold\n",
    "from sklearn.model_selection import cross_val_score\n",
    "score= cross_val_score(rd, x, y, cv=7)\n",
    "print(score.mean())\n",
    "\n",
    "#by cross validation it shows that the model accuracy is 84%"
   ]
  },
  {
   "cell_type": "markdown",
   "id": "3ab85342",
   "metadata": {},
   "source": [
    "# Model Elastic Net"
   ]
  },
  {
   "cell_type": "code",
   "execution_count": 141,
   "id": "959a2158",
   "metadata": {},
   "outputs": [
    {
     "data": {
      "text/plain": [
       "ElasticNet(alpha=0.0001)"
      ]
     },
     "execution_count": 141,
     "metadata": {},
     "output_type": "execute_result"
    }
   ],
   "source": [
    "from sklearn.linear_model import ElasticNet\n",
    "enr=ElasticNet(alpha= 0.0001)\n",
    "enr.fit(x_train, y_train)"
   ]
  },
  {
   "cell_type": "code",
   "execution_count": 142,
   "id": "b4543077",
   "metadata": {},
   "outputs": [
    {
     "data": {
      "text/plain": [
       "array([93.97243535])"
      ]
     },
     "execution_count": 142,
     "metadata": {},
     "output_type": "execute_result"
    }
   ],
   "source": [
    "enr.intercept_"
   ]
  },
  {
   "cell_type": "code",
   "execution_count": 143,
   "id": "86c4ef52",
   "metadata": {},
   "outputs": [
    {
     "data": {
      "text/plain": [
       "array([  6.27107326, -12.57317109,   1.88459838,  26.48788297,\n",
       "       -33.62569366,   6.43377492, -18.83073926,  25.2277771 ,\n",
       "        17.02818607,  11.54383165,   3.8918505 ,  14.94449063,\n",
       "       -28.24851048,   0.94697059])"
      ]
     },
     "execution_count": 143,
     "metadata": {},
     "output_type": "execute_result"
    }
   ],
   "source": [
    "enr.coef_"
   ]
  },
  {
   "cell_type": "code",
   "execution_count": 144,
   "id": "d2400942",
   "metadata": {},
   "outputs": [
    {
     "data": {
      "text/plain": [
       "0.9867873995906539"
      ]
     },
     "execution_count": 144,
     "metadata": {},
     "output_type": "execute_result"
    }
   ],
   "source": [
    "enr.score(x_train, y_train)\n",
    "\n",
    "#the accuracy is 98.67%"
   ]
  },
  {
   "cell_type": "code",
   "execution_count": 145,
   "id": "4d75863a",
   "metadata": {},
   "outputs": [],
   "source": [
    "predenr=enr.predict(x_test)"
   ]
  },
  {
   "cell_type": "code",
   "execution_count": 146,
   "id": "6d0c8381",
   "metadata": {},
   "outputs": [
    {
     "name": "stdout",
     "output_type": "stream",
     "text": [
      "predicted wins: [ 87.76675809  95.35939216  65.94081666 101.18571872  89.11634282\n",
      " 111.86095384  71.4940001  100.48056201 126.75626644 114.23981424]\n",
      "actual wins:      Errors\n",
      "27      86\n",
      "8       95\n",
      "25      75\n",
      "29      95\n",
      "6       93\n",
      "10     119\n",
      "23      90\n",
      "11      85\n",
      "14     126\n",
      "24     117\n"
     ]
    }
   ],
   "source": [
    "print(\"predicted wins:\", predenr)\n",
    "print(\"actual wins: \", y_test)"
   ]
  },
  {
   "cell_type": "code",
   "execution_count": 147,
   "id": "50d2ba95",
   "metadata": {},
   "outputs": [],
   "source": [
    "t= np.array([200, 12, 45, 12, 47, 45, 12, 40, 77, 66, 11, 36, 44, 10])"
   ]
  },
  {
   "cell_type": "code",
   "execution_count": 148,
   "id": "22baae13",
   "metadata": {},
   "outputs": [
    {
     "data": {
      "text/plain": [
       "(14,)"
      ]
     },
     "execution_count": 148,
     "metadata": {},
     "output_type": "execute_result"
    }
   ],
   "source": [
    "t.shape"
   ]
  },
  {
   "cell_type": "code",
   "execution_count": 149,
   "id": "48305192",
   "metadata": {},
   "outputs": [],
   "source": [
    "t=t.reshape(1,-1)"
   ]
  },
  {
   "cell_type": "code",
   "execution_count": 150,
   "id": "b0a1383e",
   "metadata": {},
   "outputs": [
    {
     "data": {
      "text/plain": [
       "(1, 14)"
      ]
     },
     "execution_count": 150,
     "metadata": {},
     "output_type": "execute_result"
    }
   ],
   "source": [
    "t.shape"
   ]
  },
  {
   "cell_type": "code",
   "execution_count": 151,
   "id": "ba049ac1",
   "metadata": {},
   "outputs": [
    {
     "data": {
      "text/plain": [
       "array([2512.63551914])"
      ]
     },
     "execution_count": 151,
     "metadata": {},
     "output_type": "execute_result"
    }
   ],
   "source": [
    "enr.predict(t)"
   ]
  },
  {
   "cell_type": "code",
   "execution_count": 152,
   "id": "a6524bea",
   "metadata": {},
   "outputs": [
    {
     "name": "stdout",
     "output_type": "stream",
     "text": [
      "0.8381021903943243\n"
     ]
    }
   ],
   "source": [
    "#cross validating K fold\n",
    "from sklearn.model_selection import cross_val_score\n",
    "score= cross_val_score(enr, x, y, cv=7)\n",
    "print(score.mean())\n",
    "\n",
    "#by cross validation it shows that the model accuracy is 83%"
   ]
  },
  {
   "cell_type": "markdown",
   "id": "8dde3ad1",
   "metadata": {},
   "source": [
    "# Support Vector Regressor"
   ]
  },
  {
   "cell_type": "code",
   "execution_count": 153,
   "id": "4397f4e2",
   "metadata": {},
   "outputs": [],
   "source": [
    "from sklearn.svm import SVR"
   ]
  },
  {
   "cell_type": "code",
   "execution_count": 154,
   "id": "90257c8a",
   "metadata": {},
   "outputs": [],
   "source": [
    "x_train, x_test, y_train, y_test= train_test_split(x,y,test_size=.33, random_state=45)"
   ]
  },
  {
   "cell_type": "code",
   "execution_count": 155,
   "id": "1287de4e",
   "metadata": {},
   "outputs": [
    {
     "name": "stdout",
     "output_type": "stream",
     "text": [
      "0.8448733468951031\n"
     ]
    }
   ],
   "source": [
    "#using the best parameters\n",
    "svr= SVR(kernel = 'linear', C=10 )\n",
    "svr.fit(x_train, y_train)\n",
    "print(svr.score(x_train, y_train))\n",
    "\n",
    "#the model accuracy is 84.4%\n"
   ]
  },
  {
   "cell_type": "code",
   "execution_count": 156,
   "id": "746e2090",
   "metadata": {},
   "outputs": [
    {
     "name": "stdout",
     "output_type": "stream",
     "text": [
      "0.7968755956773835\n",
      "0.7258787032060325\n"
     ]
    }
   ],
   "source": [
    "#Also checking with other parameters\n",
    "svrp= SVR(kernel = 'poly', C=10 )\n",
    "svrp.fit(x_train, y_train)\n",
    "print(svrp.score(x_train, y_train))\n",
    "\n",
    "svrr= SVR(kernel = 'rbf', C=10 )\n",
    "svrr.fit(x_train, y_train)\n",
    "print(svrr.score(x_train, y_train))\n",
    "\n",
    "#the model accuracy is 79% and 72% with poly and rbf hence linear is best.\n"
   ]
  },
  {
   "cell_type": "code",
   "execution_count": 160,
   "id": "5a9be393",
   "metadata": {},
   "outputs": [],
   "source": [
    "predsvr=svr.predict(x_test)"
   ]
  },
  {
   "cell_type": "code",
   "execution_count": 161,
   "id": "419cadc2",
   "metadata": {},
   "outputs": [
    {
     "name": "stdout",
     "output_type": "stream",
     "text": [
      "predicted wins: [ 87.98795469  95.87361165  76.00790585  92.55753008  91.83133852\n",
      " 105.07478466  90.75843954  86.4833495  102.90062643 103.2671305 ]\n",
      "actual wins:      Errors\n",
      "27      86\n",
      "8       95\n",
      "25      75\n",
      "29      95\n",
      "6       93\n",
      "10     119\n",
      "23      90\n",
      "11      85\n",
      "14     126\n",
      "24     117\n"
     ]
    }
   ],
   "source": [
    "print(\"predicted wins:\", predsvr)\n",
    "print(\"actual wins: \", y_test)"
   ]
  },
  {
   "cell_type": "code",
   "execution_count": 162,
   "id": "89bc4d93",
   "metadata": {},
   "outputs": [],
   "source": [
    "t= np.array([200, 12, 45, 12, 47, 45, 12, 40, 77, 66, 11, 36, 44, 10])"
   ]
  },
  {
   "cell_type": "code",
   "execution_count": 163,
   "id": "58cf2e71",
   "metadata": {},
   "outputs": [
    {
     "data": {
      "text/plain": [
       "(14,)"
      ]
     },
     "execution_count": 163,
     "metadata": {},
     "output_type": "execute_result"
    }
   ],
   "source": [
    "t.shape"
   ]
  },
  {
   "cell_type": "code",
   "execution_count": 164,
   "id": "9c72c726",
   "metadata": {},
   "outputs": [],
   "source": [
    "t=t.reshape(1,-1)"
   ]
  },
  {
   "cell_type": "code",
   "execution_count": 165,
   "id": "cffcb835",
   "metadata": {},
   "outputs": [
    {
     "data": {
      "text/plain": [
       "(1, 14)"
      ]
     },
     "execution_count": 165,
     "metadata": {},
     "output_type": "execute_result"
    }
   ],
   "source": [
    "t.shape"
   ]
  },
  {
   "cell_type": "code",
   "execution_count": 166,
   "id": "cd1234c0",
   "metadata": {},
   "outputs": [
    {
     "data": {
      "text/plain": [
       "array([-718.46620152])"
      ]
     },
     "execution_count": 166,
     "metadata": {},
     "output_type": "execute_result"
    }
   ],
   "source": [
    "svr.predict(t)"
   ]
  },
  {
   "cell_type": "markdown",
   "id": "127f5b5a",
   "metadata": {},
   "source": [
    "# Model Accuracy Summary:\n",
    "1. Linear Regression- 98.69\n",
    "2. Lasso - 98.19\n",
    "3. Ridge- 97.32\n",
    "4. Elastic Net- 98.67\n",
    "5. SVR - 84.4"
   ]
  },
  {
   "cell_type": "markdown",
   "id": "445e823a",
   "metadata": {},
   "source": [
    "# HENCE, LINEAR REGRESSION IS THE BEST MODEL GIVES MAX ACCURACY OF 98.69% WE CONSIDER IT AS FINAL MODEL."
   ]
  },
  {
   "cell_type": "code",
   "execution_count": 184,
   "id": "f1232bdf",
   "metadata": {},
   "outputs": [],
   "source": [
    "#SAVING top 4 MODEL- Lm, ls, enr, ls\n",
    "\n",
    "#saving data frame in csv.\n",
    "\n",
    "#Linear Regression\n",
    "project_bb_lm=pd.DataFrame(predlm)\n",
    "project_bb_lm.to_csv(\"project_bb_lm.csv\")\n",
    "\n",
    "#Lasso\n",
    "project_bb_ls=pd.DataFrame(predls)\n",
    "project_bb_ls.to_csv(\"project_bb_ls.csv\")\n",
    "\n",
    "#Ridge\n",
    "project_bb_rd=pd.DataFrame(predrd)\n",
    "project_bb_rd.to_csv(\"project_bb_rd.csv\")\n",
    "\n",
    "#Elastic Net\n",
    "project_bb_enr=pd.DataFrame(predenr)\n",
    "project_bb_enr.to_csv(\"project_bb_enr.csv\")"
   ]
  },
  {
   "cell_type": "code",
   "execution_count": 185,
   "id": "029525fb",
   "metadata": {},
   "outputs": [],
   "source": [
    "#saving model\n",
    "import pickle\n",
    "\n",
    "#linear Regression\n",
    "file_lm = 'project_bb_lm.pkl'\n",
    "pickle.dump(lm, open(file_lm, 'wb'))\n",
    "\n",
    "#Lasso\n",
    "file_ls = 'project_bb_ls.pkl'\n",
    "pickle.dump(ls, open(file_ls, 'wb'))\n",
    "\n",
    "#Ridge\n",
    "file_rd = 'project_bb_rd.pkl'\n",
    "pickle.dump(rd, open(file_rd, 'wb'))\n",
    "\n",
    "#Elastic Net\n",
    "file_enr= 'project_bb_enr.pkl'\n",
    "pickle.dump(enr, open(file_enr, 'wb'))"
   ]
  },
  {
   "cell_type": "code",
   "execution_count": 186,
   "id": "5a40276d",
   "metadata": {},
   "outputs": [],
   "source": [
    "#load model from disk\n",
    "model_lm = pickle.load(open(file_lm, 'rb'))\n",
    "model_ls = pickle.load(open(file_ls, 'rb'))\n",
    "model_rd = pickle.load(open(file_rd, 'rb'))\n",
    "model_enr = pickle.load(open(file_enr, 'rb'))"
   ]
  },
  {
   "cell_type": "code",
   "execution_count": 187,
   "id": "c3fc0f7f",
   "metadata": {},
   "outputs": [
    {
     "name": "stdout",
     "output_type": "stream",
     "text": [
      "0.6258831124597268\n",
      "0.8840447741079179\n",
      "0.8308002430389743\n",
      "0.692318558652727\n"
     ]
    }
   ],
   "source": [
    "#model prediction\n",
    "\n",
    "#Linear Regresssion\n",
    "resultlm = model_lm.score(x_test, y_test)\n",
    "print(resultlm)\n",
    "\n",
    "#Lasso\n",
    "resultls = model_ls.score(x_test, y_test)\n",
    "print(resultls)\n",
    "\n",
    "#Ridge\n",
    "resultrd = model_rd.score(x_test, y_test)\n",
    "print(resultrd)\n",
    "\n",
    "#Elastic Net\n",
    "resultenr = model_enr.score(x_test, y_test)\n",
    "print(resultenr)\n",
    "\n",
    "\n",
    "#the best prediction from uploaded model is shown by Lasso."
   ]
  },
  {
   "cell_type": "markdown",
   "id": "dec010eb",
   "metadata": {},
   "source": [
    "# CONCLUSION:\n",
    "    The model - Linear Regression and Elastic Net have best accuracy. However, the model Lasso and Ridge can also be used."
   ]
  },
  {
   "cell_type": "code",
   "execution_count": null,
   "id": "4f19d462",
   "metadata": {},
   "outputs": [],
   "source": []
  }
 ],
 "metadata": {
  "kernelspec": {
   "display_name": "Python 3",
   "language": "python",
   "name": "python3"
  },
  "language_info": {
   "codemirror_mode": {
    "name": "ipython",
    "version": 3
   },
   "file_extension": ".py",
   "mimetype": "text/x-python",
   "name": "python",
   "nbconvert_exporter": "python",
   "pygments_lexer": "ipython3",
   "version": "3.8.8"
  }
 },
 "nbformat": 4,
 "nbformat_minor": 5
}
